{
 "cells": [
  {
   "cell_type": "code",
   "execution_count": null,
   "metadata": {
    "collapsed": true
   },
   "outputs": [],
   "source": [
    "from optuna.visualization import plot_optimization_history, plot_intermediate_values\n",
    "\n",
    "from qsar.utils import utils\n",
    "\n",
    "import optuna\n",
    "import pandas as pd\n",
    "\n",
    "from sklearn.linear_model import Lasso"
   ]
  },
  {
   "cell_type": "code",
   "execution_count": null,
   "outputs": [],
   "source": [
    "full_train = pd.read_csv(\"../../data/full/train/full_train_unfiltered.csv\")\n",
    "full_test = pd.read_csv(\"../../data/full/test/full_test_unfiltered.csv\")\n",
    "\n",
    "neutral_train = pd.read_csv(\"../../data/neutral/train/neutral_train_unfiltered.csv\")\n",
    "neutral_test = pd.read_csv(\"../../data/neutral/test/neutral_test_unfiltered.csv\")\n",
    "\n",
    "ionizable_train = pd.read_csv(\"../../data/ionizable/train/ionizable_train_unfiltered.csv\")\n",
    "ionizable_test = pd.read_csv(\"../../data/ionizable/test/ionizable_test_unfiltered.csv\")\n",
    "\n",
    "# TRAIN\n",
    "X_full_train = full_train.loc[:, full_train.columns != \"Log_MP_RATIO\"]\n",
    "y_full_train = full_train[\"Log_MP_RATIO\"]\n",
    "\n",
    "X_neutral_train = neutral_train.loc[:, neutral_train.columns != \"Log_MP_RATIO\"]\n",
    "y_neutral_train = neutral_train[\"Log_MP_RATIO\"]\n",
    "\n",
    "X_ionizable_train = ionizable_train.loc[:, ionizable_train.columns != \"Log_MP_RATIO\"]\n",
    "y_ionizable_train = ionizable_train[\"Log_MP_RATIO\"]\n",
    "\n",
    "# TEST\n",
    "X_full_test = full_test.loc[:, full_test.columns != \"Log_MP_RATIO\"]\n",
    "y_full_test = full_test[\"Log_MP_RATIO\"]\n",
    "\n",
    "X_neutral_test = neutral_test.loc[:, neutral_test.columns != \"Log_MP_RATIO\"]\n",
    "y_neutral_test = neutral_test[\"Log_MP_RATIO\"]\n",
    "\n",
    "X_ionizable_test = ionizable_test.loc[:, ionizable_test.columns != \"Log_MP_RATIO\"]\n",
    "y_ionizable_test = ionizable_test[\"Log_MP_RATIO\"]"
   ],
   "metadata": {
    "collapsed": false
   }
  },
  {
   "cell_type": "code",
   "execution_count": null,
   "outputs": [],
   "source": [
    "def objective(trial, data):\n",
    "    alpha = trial.suggest_float('alpha', 1e-10, 1e10, log=True)\n",
    "\n",
    "    tol = trial.suggest_float(\"tol\", 1e-10, 1e-2, log=False)\n",
    "\n",
    "    selection = trial.suggest_categorical(\"selection\", [\"cyclic\", \"random\"])\n",
    "\n",
    "    clf = Lasso(max_iter=1000000, alpha=alpha, random_state=0, tol=tol, selection=selection)\n",
    "\n",
    "    # n_ft = trial.suggest_int('n_ft', 1, 10, log=True)\n",
    "    # clf = RFE(Ridge(max_iter=100000, alpha=alpha, solver=solver), n_features_to_select=n_ft)\n",
    "\n",
    "    estimator = utils.Utils(data)\n",
    "    return estimator.cross_value_score(clf)\n",
    "\n",
    "    # return cross_val_score(clf, X_full_train, y_full_train, cv=3, n_jobs=-1).mean()\n"
   ],
   "metadata": {
    "collapsed": false
   }
  },
  {
   "cell_type": "markdown",
   "source": [
    "# Full"
   ],
   "metadata": {
    "collapsed": false
   }
  },
  {
   "cell_type": "code",
   "execution_count": null,
   "outputs": [],
   "source": [
    "test_utils = utils.Utils(full_train)\n",
    "test_utils.create_cv_folds(display=True)\n",
    "test_utils.display_score(Lasso(max_iter=1000000), X_full_train, y_full_train, X_full_test, y_full_test)"
   ],
   "metadata": {
    "collapsed": false
   }
  },
  {
   "cell_type": "code",
   "execution_count": null,
   "outputs": [],
   "source": [
    "func = lambda trial: objective(trial, full_train)\n",
    "\n",
    "study = optuna.create_study(direction='maximize')\n",
    "study.optimize(func, n_trials=1000, n_jobs=-1, show_progress_bar=True)\n",
    "trial = study.best_trial\n",
    "print(trial.value, trial.params)"
   ],
   "metadata": {
    "collapsed": false
   }
  },
  {
   "cell_type": "code",
   "execution_count": null,
   "outputs": [],
   "source": [
    "test_utils.display_score(Lasso(**study.best_params), X_full_train, y_full_train, X_full_test, y_full_test)\n",
    "display(plot_optimization_history(study))\n",
    "\n",
    "rr = Lasso(**study.best_params).fit(X_full_train, y_full_train)\n",
    "y_full_train_pred = rr.predict(X_full_train)\n",
    "y_full_test_pred = rr.predict(X_full_test)\n",
    "\n",
    "from qsar.utils import utils\n",
    "\n",
    "test_utils.display_graph(rr, X_full_train, X_full_test, y_full_train, y_full_test)"
   ],
   "metadata": {
    "collapsed": false
   }
  },
  {
   "cell_type": "markdown",
   "source": [
    "# Ionizable"
   ],
   "metadata": {
    "collapsed": false
   }
  },
  {
   "cell_type": "code",
   "execution_count": null,
   "outputs": [],
   "source": [
    "test_utils = utils.Utils(ionizable_train)\n",
    "test_utils.create_cv_folds(display=True)\n",
    "test_utils.display_score(Lasso(random_state=0), X_ionizable_train, y_ionizable_train, X_ionizable_test,\n",
    "                         y_ionizable_test)"
   ],
   "metadata": {
    "collapsed": false
   }
  },
  {
   "cell_type": "code",
   "execution_count": null,
   "outputs": [],
   "source": [
    "import optuna\n",
    "\n",
    "\n",
    "def objective(trial):\n",
    "    alpha = trial.suggest_float('alpha', 1e-10, 1e10, log=True)\n",
    "\n",
    "    tol = trial.suggest_float(\"tol\", 1e-10, 1e-2, log=True)\n",
    "\n",
    "    # selection = trial.suggest_categorical(\"selection\", [\"cyclic\", \"random\"])\n",
    "\n",
    "    clf = Lasso(max_iter=100000, alpha=alpha, random_state=0)\n",
    "\n",
    "    # n_ft = trial.suggest_int('n_ft', 1, 10, log=True)\n",
    "    # clf = RFE(Ridge(max_iter=100000, alpha=alpha, solver=solver), n_features_to_select=n_ft)\n",
    "\n",
    "    estimator = utils.Utils(ionizable_train)\n",
    "    return estimator.cross_value_score(clf)\n",
    "\n",
    "    # return cross_val_score(clf, X_ionizable_train, y_ionizable_train, cv=3, n_jobs=-1).mean()\n",
    "\n",
    "\n",
    "study = optuna.create_study(direction='maximize')\n",
    "study.optimize(objective, n_trials=1000, n_jobs=-1, show_progress_bar=True)\n",
    "trial = study.best_trial\n",
    "print(trial.value, trial.params)"
   ],
   "metadata": {
    "collapsed": false
   }
  },
  {
   "cell_type": "code",
   "execution_count": null,
   "outputs": [],
   "source": [
    "# 0.3334568442254273 {'alpha': 1.029899802316505, 'tol': 8.492961565138823e-08}\n",
    "test_utils = utils.Utils(ionizable_train)\n",
    "test_utils.display_score(Lasso(**study.best_params, random_state=0), X_ionizable_train, y_ionizable_train,\n",
    "                         X_ionizable_test, y_ionizable_test)\n",
    "study.best_params"
   ],
   "metadata": {
    "collapsed": false
   }
  },
  {
   "cell_type": "code",
   "execution_count": null,
   "outputs": [],
   "source": [
    "Lasso(**({'alpha': 14573.566055933752, 'tol': 0.002460006941927946})).fit(X_ionizable_train, y_ionizable_train).score(\n",
    "    X_ionizable_train, y_ionizable_train)"
   ],
   "metadata": {
    "collapsed": false
   }
  },
  {
   "cell_type": "markdown",
   "source": [
    "# Neutral"
   ],
   "metadata": {
    "collapsed": false
   }
  },
  {
   "cell_type": "code",
   "execution_count": null,
   "outputs": [],
   "source": [
    "test_utils = utils.Utils(neutral_train)\n",
    "test_utils.create_cv_folds(display=True)\n",
    "test_utils.display_score(Lasso(random_state=0), X_neutral_train, y_neutral_train, X_neutral_test, y_neutral_test)"
   ],
   "metadata": {
    "collapsed": false
   }
  },
  {
   "cell_type": "code",
   "execution_count": null,
   "outputs": [],
   "source": [
    "import optuna\n",
    "\n",
    "\n",
    "def objective(trial):\n",
    "    alpha = trial.suggest_float('alpha', 1e-10, 1e10, log=True)\n",
    "\n",
    "    tol = trial.suggest_float(\"tol\", 1e-10, 1e-2, log=True)\n",
    "\n",
    "    # selection = trial.suggest_categorical(\"selection\", [\"cyclic\", \"random\"])\n",
    "\n",
    "    clf = Lasso(max_iter=100000, alpha=alpha, random_state=0)\n",
    "\n",
    "    # n_ft = trial.suggest_int('n_ft', 1, 10, log=True)\n",
    "    # clf = RFE(Ridge(max_iter=100000, alpha=alpha, solver=solver), n_features_to_select=n_ft)\n",
    "\n",
    "    estimator = utils.Utils(neutral_train)\n",
    "    return estimator.cross_value_score(clf)\n",
    "\n",
    "    # return cross_val_score(clf, X_neutral_train, y_neutral_train, cv=3, n_jobs=-1).mean()\n",
    "\n",
    "\n",
    "study = optuna.create_study(direction='maximize')\n",
    "study.optimize(objective, n_trials=1000, n_jobs=-1, show_progress_bar=True)\n",
    "trial = study.best_trial\n",
    "print(trial.value, trial.params)"
   ],
   "metadata": {
    "collapsed": false
   }
  },
  {
   "cell_type": "code",
   "execution_count": null,
   "outputs": [],
   "source": [
    "# 0.3334568442254273 {'alpha': 1.029899802316505, 'tol': 8.492961565138823e-08}\n",
    "test_utils = utils.Utils(neutral_train)\n",
    "test_utils.display_score(Lasso(**study.best_params, max_iter=100000, random_state=0), X_neutral_train, y_neutral_train,\n",
    "                         X_neutral_test, y_neutral_test)\n",
    "study.best_params"
   ],
   "metadata": {
    "collapsed": false
   }
  },
  {
   "cell_type": "code",
   "execution_count": null,
   "outputs": [],
   "source": [
    "display(plot_optimization_history(study))\n",
    "plot_intermediate_values(study)"
   ],
   "metadata": {
    "collapsed": false
   }
  }
 ],
 "metadata": {
  "kernelspec": {
   "display_name": "Python 3",
   "language": "python",
   "name": "python3"
  },
  "language_info": {
   "codemirror_mode": {
    "name": "ipython",
    "version": 2
   },
   "file_extension": ".py",
   "mimetype": "text/x-python",
   "name": "python",
   "nbconvert_exporter": "python",
   "pygments_lexer": "ipython2",
   "version": "2.7.6"
  }
 },
 "nbformat": 4,
 "nbformat_minor": 0
}
