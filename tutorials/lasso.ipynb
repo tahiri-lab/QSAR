{
 "cells": [
  {
   "cell_type": "code",
   "execution_count": null,
   "metadata": {
    "collapsed": true
   },
   "outputs": [],
   "source": [
    "from optuna.visualization import plot_optimization_history\n",
    "\n",
    "from qsar.models.lasso_model import LassoModel\n",
    "\n",
    "from qsar.utils.cross_validator import CrossValidator\n",
    "from qsar.utils.hyperparameter_optimizer import HyperParameterOptimizer\n",
    "from qsar.utils.visualizer import Visualizer"
   ]
  },
  {
   "cell_type": "code",
   "execution_count": null,
   "outputs": [],
   "source": [
    "from qsar.utils.extractor import Extractor\n",
    "\n",
    "data_paths = {\n",
    "    \"full_train\": \"../data/full/train/full_train_unfiltered.csv\",\n",
    "    \"full_test\": \"../data/full/test/full_test_unfiltered.csv\",\n",
    "    \"neutral_train\": \"../data/neutral/train/neutral_train_unfiltered.csv\",\n",
    "    \"neutral_test\": \"../data/neutral/test/neutral_test_unfiltered.csv\",\n",
    "    \"ionizable_train\": \"../data/ionizable/train/ionizable_train_unfiltered.csv\",\n",
    "    \"ionizable_test\": \"../data/ionizable/test/ionizable_test_unfiltered.csv\",\n",
    "}\n",
    "\n",
    "extractor = Extractor(data_paths)\n",
    "x_dfs, y_dfs = extractor.split_x_y(\"Log_MP_RATIO\")\n",
    "df_full_tain = extractor.get_df(\"full_train\")"
   ],
   "metadata": {
    "collapsed": false
   }
  },
  {
   "cell_type": "code",
   "execution_count": null,
   "outputs": [],
   "source": [
    "cross_validator = CrossValidator(df_full_tain)\n",
    "visualizer = Visualizer()\n",
    "X_list, y_list, df, y, n_folds = cross_validator.create_cv_folds()\n",
    "visualizer.display_cv_folds(df, y, n_folds)"
   ],
   "metadata": {
    "collapsed": false
   }
  },
  {
   "cell_type": "code",
   "execution_count": null,
   "outputs": [],
   "source": [
    "lasso_model = LassoModel()\n",
    "R2, CV, custom_cv, Q2 = cross_validator.evaluate_model_performance(lasso_model.model,\n",
    "                                                                   x_dfs[\"full_train\"], y_dfs[\"full_train\"],\n",
    "                                                                   x_dfs[\"full_test\"], y_dfs[\"full_test\"])\n",
    "visualizer.display_model_performance(\"LassoModel\", R2, CV, custom_cv, Q2)"
   ],
   "metadata": {
    "collapsed": false
   }
  },
  {
   "cell_type": "code",
   "execution_count": null,
   "outputs": [],
   "source": [
    "lasso_model = LassoModel()\n",
    "\n",
    "optimizer = HyperParameterOptimizer(model=lasso_model, data=df_full_tain, direction='maximize', trials=100)\n",
    "\n",
    "study = optimizer.optimize()\n",
    "trial = study.best_trial\n",
    "print(trial.value, trial.params)"
   ],
   "metadata": {
    "collapsed": false
   }
  },
  {
   "cell_type": "code",
   "execution_count": null,
   "outputs": [],
   "source": [
    "lasso_model.set_hyperparameters(**study.best_params)\n",
    "R2, CV, custom_cv, Q2 = cross_validator.evaluate_model_performance(\n",
    "    lasso_model.model, x_dfs[\"full_train\"], y_dfs[\"full_train\"], x_dfs[\"full_test\"], y_dfs[\"full_test\"])\n",
    "visualizer.display_model_performance(\"ElasticNet\", R2, CV, custom_cv, Q2)"
   ],
   "metadata": {
    "collapsed": false
   }
  },
  {
   "cell_type": "code",
   "execution_count": null,
   "outputs": [],
   "source": [
    "display(plot_optimization_history(study))"
   ],
   "metadata": {
    "collapsed": false
   }
  },
  {
   "cell_type": "code",
   "execution_count": null,
   "outputs": [],
   "source": [
    "y_full_train_pred, y_full_test_pred = cross_validator.get_predictions(lasso_model.model, x_dfs[\"full_train\"],\n",
    "                                                                      y_dfs[\"full_train\"], x_dfs[\"full_test\"])\n",
    "visualizer.display_graph(\"LassoModel\", y_dfs[\"full_train\"], y_dfs[\"full_test\"], y_full_train_pred, y_full_test_pred)"
   ],
   "metadata": {
    "collapsed": false
   }
  },
  {
   "cell_type": "code",
   "execution_count": null,
   "outputs": [],
   "source": [],
   "metadata": {
    "collapsed": false
   }
  }
 ],
 "metadata": {
  "kernelspec": {
   "display_name": "Python 3",
   "language": "python",
   "name": "python3"
  },
  "language_info": {
   "codemirror_mode": {
    "name": "ipython",
    "version": 2
   },
   "file_extension": ".py",
   "mimetype": "text/x-python",
   "name": "python",
   "nbconvert_exporter": "python",
   "pygments_lexer": "ipython2",
   "version": "2.7.6"
  }
 },
 "nbformat": 4,
 "nbformat_minor": 0
}
