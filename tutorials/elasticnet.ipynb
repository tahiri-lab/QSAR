{
 "cells": [
  {
   "cell_type": "code",
   "execution_count": null,
   "metadata": {
    "collapsed": true
   },
   "outputs": [],
   "source": [
    "from optuna.visualization import plot_optimization_history\n",
    "\n",
    "from qsar.utils import utils\n",
    "from qsar.utils.extractor import Extractor\n",
    "\n",
    "from qsar.models.elasticnet_model import ElasticnetModel\n",
    "\n",
    "import optuna\n",
    "\n",
    "from sklearn.linear_model import ElasticNet"
   ]
  },
  {
   "cell_type": "code",
   "execution_count": null,
   "outputs": [],
   "source": [
    "paths = {\n",
    "    \"full_train\": \"../../data/full/train/full_train_unfiltered.csv\",\n",
    "    \"full_test\": \"../../data/full/test/full_test_unfiltered.csv\",\n",
    "    \"neutral_train\": \"../../data/neutral/train/neutral_train_unfiltered.csv\",\n",
    "    \"neutral_test\": \"../../data/neutral/test/neutral_test_unfiltered.csv\",\n",
    "    \"ionizable_train\": \"../../data/ionizable/train/ionizable_train_unfiltered.csv\",\n",
    "    \"ionizable_test\": \"../../data/ionizable/test/ionizable_test_unfiltered.csv\",\n",
    "}\n",
    "\n",
    "extractor = Extractor(paths)\n",
    "x_dfs, y_dfs = extractor.split_x_y(\"Log_MP_RATIO\")"
   ],
   "metadata": {
    "collapsed": false
   }
  },
  {
   "cell_type": "markdown",
   "source": [
    "# Full"
   ],
   "metadata": {
    "collapsed": false
   }
  },
  {
   "cell_type": "code",
   "execution_count": null,
   "outputs": [],
   "source": [
    "test_utils = utils.Utils(extractor.get_df(\"full_train\"))\n",
    "test_utils.create_cv_folds(display=True)\n",
    "test_utils.display_score(ElasticNet(max_iter=100000, random_state=0), x_dfs[\"full_train\"], y_dfs[\"full_train\"], x_dfs[\"full_test\"],\n",
    "                         y_dfs[\"full_test\"])"
   ],
   "metadata": {
    "collapsed": false
   }
  },
  {
   "cell_type": "code",
   "execution_count": null,
   "outputs": [],
   "source": [
    "elasticnet_model = ElasticnetModel()\n",
    "df = extractor.get_df(\"full_train\")\n",
    "\n",
    "study = optuna.create_study(direction='maximize')\n",
    "study.optimize(lambda t: elasticnet_model.optimize_hyperparameters(t, df), n_trials=1000, n_jobs=-1, show_progress_bar=True)\n",
    "\n",
    "trial = study.best_trial\n",
    "print(trial.value, trial.params)"
   ],
   "metadata": {
    "collapsed": false
   }
  },
  {
   "cell_type": "code",
   "execution_count": null,
   "outputs": [],
   "source": [
    "test_utils.display_score(ElasticNet(**study.best_params, random_state=0, max_iter=100000), x_dfs[\"full_train\"], y_dfs[\"full_train\"], x_dfs[\"full_test\"],\n",
    "                         y_dfs[\"full_test\"])\n",
    "display(plot_optimization_history(study))\n",
    "\n",
    "rr = ElasticNet(**study.best_params, random_state=0, max_iter=100000).fit(x_dfs[\"full_train\"], y_dfs[\"full_train\"])\n",
    "y_full_train_pred = rr.predict(x_dfs[\"full_train\"])\n",
    "y_full_test_pred = rr.predict(x_dfs[\"full_test\"])\n",
    "\n",
    "test_utils.display_graph(rr, x_dfs[\"full_train\"], x_dfs[\"full_test\"], y_dfs[\"full_train\"], y_dfs[\"full_test\"])"
   ],
   "metadata": {
    "collapsed": false
   }
  },
  {
   "cell_type": "markdown",
   "source": [
    "# Ionizable"
   ],
   "metadata": {
    "collapsed": false
   }
  },
  {
   "cell_type": "code",
   "execution_count": null,
   "outputs": [],
   "source": [
    "test_utils = utils.Utils(extractor.get(\"ionizable_train\"))\n",
    "test_utils.create_cv_folds(display=True)\n",
    "test_utils.display_score(ElasticNet(max_iter=100000, random_state=0), x_dfs[\"ionizable_train\"], y_dfs[\"ionizable_train\"],\n",
    "                         x_dfs[\"ionizable_test\"], y_dfs[\"ionizable_test\"])"
   ],
   "metadata": {
    "collapsed": false
   }
  },
  {
   "cell_type": "code",
   "execution_count": null,
   "outputs": [],
   "source": [
    "elasticnet_model = ElasticnetModel()\n",
    "df = extractor.get_df(\"ionizable_train\")\n",
    "\n",
    "study = optuna.create_study(direction='maximize')\n",
    "study.optimize(lambda t: elasticnet_model.optimize_hyperparameters(t, df), n_trials=1000, n_jobs=-1, show_progress_bar=True)\n",
    "trial = study.best_trial\n",
    "print(trial.value, trial.params)"
   ],
   "metadata": {
    "collapsed": false
   }
  },
  {
   "cell_type": "code",
   "execution_count": null,
   "outputs": [],
   "source": [
    "test_utils.display_score(ElasticNet(**study.best_params, random_state=0, max_iter=100000), x_dfs[\"ionizable_train\"],\n",
    "                         y_dfs[\"ionizable_train\"], x_dfs[\"ionizable_test\"], y_dfs[\"ionizable_test\"])\n",
    "display(plot_optimization_history(study))\n",
    "\n",
    "rr = ElasticNet(**study.best_params, random_state=0, max_iter=100000).fit(x_dfs[\"ionizable_train\"], y_dfs[\"ionizable_train\"])\n",
    "y_ionizable_train_pred = rr.predict(x_dfs[\"ionizable_train\"])\n",
    "y_ionizable_test_pred = rr.predict(x_dfs[\"ionizable_test\"])\n",
    "\n",
    "test_utils.display_graph(rr, x_dfs[\"ionizable_train\"], x_dfs[\"ionizable_test\"], y_dfs[\"ionizable_train\"], y_dfs[\"ionizable_test\"])"
   ],
   "metadata": {
    "collapsed": false
   }
  },
  {
   "cell_type": "markdown",
   "source": [
    "# Neutral"
   ],
   "metadata": {
    "collapsed": false
   }
  },
  {
   "cell_type": "code",
   "execution_count": null,
   "outputs": [],
   "source": [
    "test_utils = utils.Utils(extractor.get(\"neutral_train\"))\n",
    "test_utils.create_cv_folds(display=True)\n",
    "test_utils.display_score(ElasticNet(max_iter=100000, random_state=0), x_dfs[\"neutral_train\"], y_dfs[\"neutral_train\"], x_dfs[\"neutral_test\"],\n",
    "                         y_dfs[\"neutral_test\"])"
   ],
   "metadata": {
    "collapsed": false
   }
  },
  {
   "cell_type": "code",
   "execution_count": null,
   "outputs": [],
   "source": [
    "elasticnet_model = ElasticnetModel()\n",
    "df = extractor.get_df(\"ionizable_train\")\n",
    "\n",
    "study = optuna.create_study(direction='maximize')\n",
    "study.optimize(lambda t: elasticnet_model.optimize_hyperparameters(t, df), n_trials=1000, n_jobs=-1, show_progress_bar=True)\n",
    "trial = study.best_trial\n",
    "print(trial.value, trial.params)"
   ],
   "metadata": {
    "collapsed": false
   }
  },
  {
   "cell_type": "code",
   "execution_count": null,
   "outputs": [],
   "source": [
    "test_utils.display_score(ElasticNet(**study.best_params, random_state=0, max_iter=100000), x_dfs[\"neutral_train\"],\n",
    "                         y_dfs[\"neutral_train\"], x_dfs[\"neutral_test\"], y_dfs[\"neutral_test\"])\n",
    "display(plot_optimization_history(study))\n",
    "\n",
    "rr = ElasticNet(**study.best_params, random_state=0, max_iter=100000).fit(x_dfs[\"neutral_train\"], y_dfs[\"neutral_train\"])\n",
    "y_neutral_train_pred = rr.predict(x_dfs[\"neutral_train\"])\n",
    "y_neutral_test_pred = rr.predict(x_dfs[\"neutral_test\"])\n",
    "\n",
    "test_utils.display_graph(rr, x_dfs[\"neutral_train\"], x_dfs[\"neutral_test\"], y_dfs[\"neutral_train\"], y_dfs[\"neutral_test\"])"
   ],
   "metadata": {
    "collapsed": false
   }
  }
 ],
 "metadata": {
  "kernelspec": {
   "display_name": "Python 3",
   "language": "python",
   "name": "python3"
  },
  "language_info": {
   "codemirror_mode": {
    "name": "ipython",
    "version": 2
   },
   "file_extension": ".py",
   "mimetype": "text/x-python",
   "name": "python",
   "nbconvert_exporter": "python",
   "pygments_lexer": "ipython2",
   "version": "2.7.6"
  }
 },
 "nbformat": 4,
 "nbformat_minor": 0
}
