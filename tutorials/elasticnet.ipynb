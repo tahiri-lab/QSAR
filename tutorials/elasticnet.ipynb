{
 "cells": [
  {
   "cell_type": "code",
   "execution_count": null,
   "metadata": {
    "collapsed": true
   },
   "outputs": [],
   "source": [
    "from optuna.visualization import plot_optimization_history\n",
    "\n",
    "from qsar.utils.visualizer import Visualizer\n",
    "from qsar.utils.cross_validator import CrossValidator\n",
    "from qsar.utils.extractor import Extractor\n",
    "from qsar.utils.hyperparameter_optimizer import HyperParameterOptimizer\n",
    "\n",
    "from qsar.models.elasticnet_model import ElasticnetModel\n",
    "\n",
    "import optuna\n",
    "\n",
    "from sklearn.linear_model import ElasticNet"
   ]
  },
  {
   "cell_type": "markdown",
   "source": [
    "Define paths for various datasets: full, neutral, and ionizable for both training and testing.\n",
    "Initialize the extractor and split datasets into features (X) and target variable (y) based on \"Log_MP_RATIO\".\n",
    "Also, retrieve the full training dataset."
   ],
   "metadata": {
    "collapsed": false
   }
  },
  {
   "cell_type": "code",
   "execution_count": null,
   "outputs": [],
   "source": [
    "data_paths = {key: f\"../../data/{key}/train/{key}_train_unfiltered.csv\" for key in ['full', 'neutral', 'ionizable']}\n",
    "extractor = Extractor(data_paths)\n",
    "x_dfs, y_dfs = extractor.split_x_y(\"Log_MP_RATIO\")\n",
    "df_full_tain = extractor.get_df(\"full_train\")"
   ],
   "metadata": {
    "collapsed": false
   }
  },
  {
   "cell_type": "markdown",
   "source": [
    "# Full\n",
    "## Visualization and cross-validation\n",
    "Initialize cross-validation and visualization tools.\n",
    "Create cross-validation folds from the full training dataset and visualize the created folds."
   ],
   "metadata": {
    "collapsed": false
   }
  },
  {
   "cell_type": "code",
   "execution_count": null,
   "outputs": [],
   "source": [
    "cross_validator = CrossValidator(df_full_tain)\n",
    "visualizer = Visualizer()\n",
    "X_list, y_list, df, y, n_folds = cross_validator.create_cv_folds()\n",
    "visualizer.display_cv_folds(df, y, n_folds)"
   ],
   "metadata": {
    "collapsed": false
   }
  },
  {
   "cell_type": "markdown",
   "source": [
    "## Model evaluation without hyperparameter optimization\n",
    "Evaluate the performance of the ElasticNet model on the full training dataset and visualize its performance metrics."
   ],
   "metadata": {
    "collapsed": false
   }
  },
  {
   "cell_type": "code",
   "execution_count": null,
   "outputs": [],
   "source": [
    "R2, CV, custom_cv, Q2 = cross_validator.evaluate_model_performance(ElasticNet(max_iter=100000, random_state=0),\n",
    "                                                                   x_dfs[\"full_train\"], y_dfs[\"full_train\"],\n",
    "                                                                   x_dfs[\"full_test\"], y_dfs[\"full_test\"])\n",
    "visualizer.display_model_performance(\"ElasticNet\", R2, CV, custom_cv, Q2)"
   ],
   "metadata": {
    "collapsed": false
   }
  },
  {
   "cell_type": "markdown",
   "source": [
    "## Hyperparameter optimization\n",
    "Initialize the ElasticnetModel, then use Optuna for hyperparameter optimization.\n",
    "Print the best hyperparameters after optimization."
   ],
   "metadata": {
    "collapsed": false
   }
  },
  {
   "cell_type": "code",
   "execution_count": null,
   "outputs": [],
   "source": [
    "elasticnet_model = ElasticnetModel()\n",
    "\n",
    "optimizer = HyperParameterOptimizer(elasticnet_model, df_full_tain)\n",
    "\n",
    "study = optimizer.optimize()\n",
    "trial = study.best_trial\n",
    "print(trial.value, trial.params)"
   ],
   "metadata": {
    "collapsed": false
   }
  },
  {
   "cell_type": "markdown",
   "source": [
    "## Model evaluation with hyperparameter optimization\n",
    "Evaluate the performance of the ElasticNet model with the best hyperparameters on the full training dataset.\n",
    "Then visualize its performance metrics."
   ],
   "metadata": {
    "collapsed": false
   }
  },
  {
   "cell_type": "code",
   "execution_count": null,
   "outputs": [],
   "source": [
    "elasticnet_model.set_hyperparameters(**study.best_params)\n",
    "R2, CV, custom_cv, Q2 = cross_validator.evaluate_model_performance(\n",
    "    elasticnet_model.model, x_dfs[\"full_train\"], y_dfs[\"full_train\"], x_dfs[\"full_test\"], y_dfs[\"full_test\"])\n",
    "visualizer.display_model_performance(\"ElasticNet\", R2, CV, custom_cv, Q2)"
   ],
   "metadata": {
    "collapsed": false
   }
  },
  {
   "cell_type": "markdown",
   "source": [
    "Display the optimization history of the study (hyperparameter optimization)."
   ],
   "metadata": {
    "collapsed": false
   }
  },
  {
   "cell_type": "code",
   "execution_count": null,
   "outputs": [],
   "source": [
    "display(plot_optimization_history(study))"
   ],
   "metadata": {
    "collapsed": false
   }
  },
  {
   "cell_type": "markdown",
   "source": [
    "Predict with the optimized ElasticNet model and visualize the comparison between predicted and actual values."
   ],
   "metadata": {
    "collapsed": false
   }
  },
  {
   "cell_type": "code",
   "execution_count": null,
   "outputs": [],
   "source": [
    "y_full_train_pred, y_full_test_pred = cross_validator.get_predictions(elasticnet_model.model, x_dfs[\"full_train\"],\n",
    "                                                                      y_dfs[\"full_train\"], x_dfs[\"full_test\"])\n",
    "visualizer.display_graph(\"ElasticNet\", y_dfs[\"full_train\"], y_dfs[\"full_test\"], y_full_train_pred, y_full_test_pred)"
   ],
   "metadata": {
    "collapsed": false
   }
  },
  {
   "cell_type": "markdown",
   "source": [
    "# Ionizable"
   ],
   "metadata": {
    "collapsed": false
   }
  },
  {
   "cell_type": "code",
   "execution_count": null,
   "outputs": [],
   "source": [
    "test_utils = utils.Utils(extractor.get(\"ionizable_train\"))\n",
    "test_utils.create_cv_folds(display=True)\n",
    "test_utils.display_score(ElasticNet(max_iter=100000, random_state=0), x_dfs[\"ionizable_train\"],\n",
    "                         y_dfs[\"ionizable_train\"],\n",
    "                         x_dfs[\"ionizable_test\"], y_dfs[\"ionizable_test\"])"
   ],
   "metadata": {
    "collapsed": false
   }
  },
  {
   "cell_type": "code",
   "execution_count": null,
   "outputs": [],
   "source": [
    "elasticnet_model = ElasticnetModel()\n",
    "df = extractor.get_df(\"ionizable_train\")\n",
    "\n",
    "study = optuna.create_study(direction='maximize')\n",
    "study.optimize(lambda t: elasticnet_model.optimize_hyperparameters(t, df), n_trials=1000, n_jobs=-1,\n",
    "               show_progress_bar=True)\n",
    "trial = study.best_trial\n",
    "print(trial.value, trial.params)"
   ],
   "metadata": {
    "collapsed": false
   }
  },
  {
   "cell_type": "code",
   "execution_count": null,
   "outputs": [],
   "source": [
    "test_utils.display_score(ElasticNet(**study.best_params, random_state=0, max_iter=100000), x_dfs[\"ionizable_train\"],\n",
    "                         y_dfs[\"ionizable_train\"], x_dfs[\"ionizable_test\"], y_dfs[\"ionizable_test\"])\n",
    "display(plot_optimization_history(study))\n",
    "\n",
    "rr = ElasticNet(**study.best_params, random_state=0, max_iter=100000).fit(x_dfs[\"ionizable_train\"],\n",
    "                                                                          y_dfs[\"ionizable_train\"])\n",
    "y_ionizable_train_pred = rr.predict(x_dfs[\"ionizable_train\"])\n",
    "y_ionizable_test_pred = rr.predict(x_dfs[\"ionizable_test\"])\n",
    "\n",
    "test_utils.display_graph(rr, x_dfs[\"ionizable_train\"], x_dfs[\"ionizable_test\"], y_dfs[\"ionizable_train\"],\n",
    "                         y_dfs[\"ionizable_test\"])"
   ],
   "metadata": {
    "collapsed": false
   }
  },
  {
   "cell_type": "markdown",
   "source": [
    "# Neutral"
   ],
   "metadata": {
    "collapsed": false
   }
  },
  {
   "cell_type": "code",
   "execution_count": null,
   "outputs": [],
   "source": [
    "test_utils = utils.Utils(extractor.get(\"neutral_train\"))\n",
    "test_utils.create_cv_folds(display=True)\n",
    "test_utils.display_score(ElasticNet(max_iter=100000, random_state=0), x_dfs[\"neutral_train\"], y_dfs[\"neutral_train\"],\n",
    "                         x_dfs[\"neutral_test\"],\n",
    "                         y_dfs[\"neutral_test\"])"
   ],
   "metadata": {
    "collapsed": false
   }
  },
  {
   "cell_type": "code",
   "execution_count": null,
   "outputs": [],
   "source": [
    "elasticnet_model = ElasticnetModel()\n",
    "df = extractor.get_df(\"ionizable_train\")\n",
    "\n",
    "study = optuna.create_study(direction='maximize')\n",
    "study.optimize(lambda t: elasticnet_model.optimize_hyperparameters(t, df), n_trials=1000, n_jobs=-1,\n",
    "               show_progress_bar=True)\n",
    "trial = study.best_trial\n",
    "print(trial.value, trial.params)"
   ],
   "metadata": {
    "collapsed": false
   }
  },
  {
   "cell_type": "code",
   "execution_count": null,
   "outputs": [],
   "source": [
    "test_utils.display_score(ElasticNet(**study.best_params, random_state=0, max_iter=100000), x_dfs[\"neutral_train\"],\n",
    "                         y_dfs[\"neutral_train\"], x_dfs[\"neutral_test\"], y_dfs[\"neutral_test\"])\n",
    "display(plot_optimization_history(study))\n",
    "\n",
    "rr = ElasticNet(**study.best_params, random_state=0, max_iter=100000).fit(x_dfs[\"neutral_train\"],\n",
    "                                                                          y_dfs[\"neutral_train\"])\n",
    "y_neutral_train_pred = rr.predict(x_dfs[\"neutral_train\"])\n",
    "y_neutral_test_pred = rr.predict(x_dfs[\"neutral_test\"])\n",
    "\n",
    "test_utils.display_graph(rr, x_dfs[\"neutral_train\"], x_dfs[\"neutral_test\"], y_dfs[\"neutral_train\"],\n",
    "                         y_dfs[\"neutral_test\"])"
   ],
   "metadata": {
    "collapsed": false
   }
  }
 ],
 "metadata": {
  "kernelspec": {
   "display_name": "Python 3",
   "language": "python",
   "name": "python3"
  },
  "language_info": {
   "codemirror_mode": {
    "name": "ipython",
    "version": 2
   },
   "file_extension": ".py",
   "mimetype": "text/x-python",
   "name": "python",
   "nbconvert_exporter": "python",
   "pygments_lexer": "ipython2",
   "version": "2.7.6"
  }
 },
 "nbformat": 4,
 "nbformat_minor": 0
}
