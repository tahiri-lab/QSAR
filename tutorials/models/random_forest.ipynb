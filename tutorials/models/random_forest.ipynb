{
 "cells": [
  {
   "cell_type": "code",
   "execution_count": null,
   "id": "initial_id",
   "metadata": {
    "collapsed": true
   },
   "outputs": [],
   "source": [
    "import warnings\n",
    "\n",
    "warnings.filterwarnings('ignore')\n",
    "import pandas as pd\n",
    "from optuna.visualization import plot_optimization_history\n",
    "\n",
    "from qsar.utils.visualizer import Visualizer\n",
    "from qsar.utils.cross_validator import CrossValidator\n",
    "from qsar.utils.extractor import Extractor\n",
    "from qsar.utils.hyperparameter_optimizer import HyperParameterOptimizer\n",
    "\n",
    "from qsar.models.random_forest import RandomForestModel\n",
    "from sklearn.preprocessing import StandardScaler"
   ]
  },
  {
   "cell_type": "markdown",
   "source": [
    "## 1. Data Import"
   ],
   "metadata": {
    "collapsed": false
   },
   "id": "b5ef9111a88fd9c8"
  },
  {
   "cell_type": "code",
   "execution_count": null,
   "outputs": [],
   "source": [
    "data_paths = {\n",
    "    \"full_train\": \"../data/full/train/full_train_unfiltered.csv\",\n",
    "    \"full_test\": \"../data/full/test/full_test_unfiltered.csv\",\n",
    "    \"neutral_train\": \"../data/neutral/train/neutral_train_unfiltered.csv\",\n",
    "    \"neutral_test\": \"../data/neutral/test/neutral_test_unfiltered.csv\",\n",
    "    \"ionizable_train\": \"../data/ionizable/train/ionizable_train_unfiltered.csv\",\n",
    "    \"ionizable_test\": \"../data/ionizable/test/ionizable_test_unfiltered.csv\",\n",
    "}\n",
    "\n",
    "extractor = Extractor(data_paths)\n",
    "\n",
    "# todo move the split after the preprocessing\n",
    "x_dfs, y_dfs = extractor.split_x_y(\"Log_MP_RATIO\")\n",
    "df_full_tain = extractor.get_df(\"full_train\")"
   ],
   "metadata": {
    "collapsed": false
   },
   "id": "820693f7ead12611"
  },
  {
   "cell_type": "markdown",
   "source": [
    "## 2. Preprocessing"
   ],
   "metadata": {
    "collapsed": false
   },
   "id": "996c554e5362fd2d"
  },
  {
   "cell_type": "code",
   "execution_count": null,
   "outputs": [],
   "source": [
    "# Todo: include and review all the preprocessing steps\n",
    "# Todo: check if we need scaling to make the model converge\n",
    "# scaler = StandardScaler()\n",
    "# x_full_train_scaled = scaler.fit_transform(x_dfs[\"full_train\"])\n",
    "# x_dfs[\"full_train\"] = pd.DataFrame(x_full_train_scaled, index=x_dfs[\"full_train\"].index, columns=x_dfs[\"full_train\"].columns)\n",
    "# x_full_test_scaled = scaler.transform(x_dfs[\"full_test\"])\n",
    "# x_dfs[\"full_test\"] = pd.DataFrame(x_full_test_scaled, index=x_dfs[\"full_test\"].index, columns=x_dfs[\"full_test\"].columns)"
   ],
   "metadata": {
    "collapsed": false
   },
   "id": "2106ae3cbf9213c6"
  },
  {
   "cell_type": "markdown",
   "source": [
    "## 3. Cross-validation"
   ],
   "metadata": {
    "collapsed": false
   },
   "id": "7ed2b0c0f6c0c2"
  },
  {
   "cell_type": "code",
   "execution_count": null,
   "outputs": [],
   "source": [
    "cross_validator = CrossValidator(df_full_tain)\n",
    "visualizer = Visualizer()\n",
    "X_list, y_list, df, y, n_folds = cross_validator.create_cv_folds()\n",
    "visualizer.display_cv_folds(df, y, n_folds)"
   ],
   "metadata": {
    "collapsed": false
   },
   "id": "e55798f2b0c3c5f3"
  },
  {
   "cell_type": "markdown",
   "source": [
    "## 4. Model evaluation before hyperparameter optimization"
   ],
   "metadata": {
    "collapsed": false
   },
   "id": "815869e66e6b5547"
  },
  {
   "cell_type": "code",
   "execution_count": null,
   "outputs": [],
   "source": [
    "random_forest_model = RandomForestModel()\n",
    "metrics = cross_validator.evaluate_model_performance(random_forest_model.model,\n",
    "                                                                   x_dfs[\"full_train\"], y_dfs[\"full_train\"],\n",
    "                                                                   x_dfs[\"full_test\"], y_dfs[\"full_test\"])\n",
    "visualizer.display_model_performance(\"RandomForest\", metrics)"
   ],
   "metadata": {
    "collapsed": false
   },
   "id": "a6937a9915abc00c"
  },
  {
   "cell_type": "markdown",
   "source": [
    "## 5. Hyperparameter optimization"
   ],
   "metadata": {
    "collapsed": false
   },
   "id": "73ae9a9b9eb3c77d"
  },
  {
   "cell_type": "code",
   "execution_count": null,
   "outputs": [],
   "source": [
    "random_forest_model = RandomForestModel()\n",
    "\n",
    "optimizer = HyperParameterOptimizer(model=random_forest_model, data=df_full_tain, direction='maximize', trials=100)\n",
    "\n",
    "study = optimizer.optimize()\n",
    "trial = study.best_trial\n",
    "print(trial.value, trial.params)"
   ],
   "metadata": {
    "collapsed": false
   },
   "id": "62bc98cb3a9bda9b"
  },
  {
   "cell_type": "markdown",
   "source": [
    "## 6. Model evaluation after hyperparameter optimization"
   ],
   "metadata": {
    "collapsed": false
   },
   "id": "ea91ec3412516bca"
  },
  {
   "cell_type": "code",
   "execution_count": null,
   "outputs": [],
   "source": [
    "random_forest_model.set_hyperparameters(**study.best_params)\n",
    "metrics = cross_validator.evaluate_model_performance(\n",
    "    random_forest_model.model, x_dfs[\"full_train\"], y_dfs[\"full_train\"], x_dfs[\"full_test\"], y_dfs[\"full_test\"])\n",
    "visualizer.display_model_performance(\"RandomForest\", metrics)"
   ],
   "metadata": {
    "collapsed": false
   },
   "id": "abaa4cd559dd9345"
  },
  {
   "cell_type": "code",
   "execution_count": null,
   "outputs": [],
   "source": [
    "display(plot_optimization_history(study))"
   ],
   "metadata": {
    "collapsed": false
   },
   "id": "2bcf1a26e3ac5174"
  },
  {
   "cell_type": "markdown",
   "source": [
    "## 7. Prediction and results"
   ],
   "metadata": {
    "collapsed": false
   },
   "id": "a2031257ad3da82b"
  },
  {
   "cell_type": "code",
   "execution_count": null,
   "outputs": [],
   "source": [
    "y_full_train_pred, y_full_test_pred = cross_validator.get_predictions(random_forest_model.model, x_dfs[\"full_train\"],\n",
    "                                                                      y_dfs[\"full_train\"], x_dfs[\"full_test\"])\n",
    "visualizer.display_true_vs_predicted(\"RandomForest\", y_dfs[\"full_train\"], y_dfs[\"full_test\"], y_full_train_pred,\n",
    "                                     y_full_test_pred)"
   ],
   "metadata": {
    "collapsed": false
   },
   "id": "aae24fdda19f7ec8"
  }
 ],
 "metadata": {
  "kernelspec": {
   "display_name": "Python 3",
   "language": "python",
   "name": "python3"
  },
  "language_info": {
   "codemirror_mode": {
    "name": "ipython",
    "version": 2
   },
   "file_extension": ".py",
   "mimetype": "text/x-python",
   "name": "python",
   "nbconvert_exporter": "python",
   "pygments_lexer": "ipython2",
   "version": "2.7.6"
  }
 },
 "nbformat": 4,
 "nbformat_minor": 5
}
