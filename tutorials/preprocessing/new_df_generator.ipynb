{
 "cells": [
  {
   "cell_type": "code",
   "execution_count": 8,
   "metadata": {
    "collapsed": true,
    "ExecuteTime": {
     "end_time": "2023-06-12T22:30:36.316936788Z",
     "start_time": "2023-06-12T22:28:43.658147164Z"
    }
   },
   "outputs": [],
   "source": [
    "import pandas as pd\n",
    "import warnings\n",
    "from itertools import combinations, permutations"
   ]
  },
  {
   "cell_type": "code",
   "execution_count": 9,
   "outputs": [
    {
     "name": "stdout",
     "output_type": "stream",
     "text": [
      "======  full  =======\n",
      "\t>>> Before:  (184, 497)\n",
      "\t>>> After:  (183, 480)\n",
      "======  neutral  =======\n",
      "\t>>> Before:  (111, 490)\n",
      "\t>>> After:  (111, 480)\n",
      "======  ionizable  =======\n",
      "\t>>> Before:  (72, 490)\n",
      "\t>>> After:  (72, 480)\n",
      "======  charged verif  =======\n",
      "\t>>> Before:  (72, 497)\n",
      "\t>>> After:  (72, 480)\n",
      "======  neutral verif  =======\n",
      "\t>>> Before:  (111, 497)\n",
      "\t>>> After:  (111, 480)\n",
      "======  full  =======\n",
      "\t>>> Before:  (184, 497)\n",
      "\t>>> After:  (183, 480)\n",
      "======  neutral  =======\n",
      "\t>>> Before:  (111, 490)\n",
      "\t>>> After:  (111, 480)\n",
      "======  ionizable  =======\n",
      "\t>>> Before:  (72, 490)\n",
      "\t>>> After:  (72, 480)\n",
      "======  charged verif  =======\n",
      "\t>>> Before:  (72, 497)\n",
      "\t>>> After:  (72, 480)\n",
      "======  neutral verif  =======\n",
      "\t>>> Before:  (111, 497)\n",
      "\t>>> After:  (111, 480)\n"
     ]
    }
   ],
   "source": [
    "excel_sheet = pd.read_excel(\"../../Data/milk_plasma_all_data_mrg_020821_v3.xlsx\", sheet_name=[0, 1, 2])\n",
    "full_sheet = excel_sheet[0].copy()\n",
    "neutral_sheet = excel_sheet[1].copy()\n",
    "ionizable_sheet = excel_sheet[2].copy()\n",
    "ionizable_full_sheet: pd.DataFrame = full_sheet.loc[full_sheet[\"CHARGED\"] == 1].copy()\n",
    "neutral_full_sheet: pd.DataFrame = full_sheet.loc[full_sheet[\"neutral\"] == 1].copy()\n",
    "\n",
    "\n",
    "# df['your_column_name'].isin([\"Log_MP_RATIO\"]).value_counts()\n",
    "\n",
    "\n",
    "df_dict: dict = {\"full\": full_sheet,\n",
    "                 \"neutral\": neutral_sheet,\n",
    "                 \"ionizable\": ionizable_sheet,\n",
    "                 \"charged verif\":ionizable_full_sheet,\n",
    "                 \"neutral verif\": neutral_full_sheet\n",
    "                 }\n",
    "for key, value in df_dict.items():\n",
    "    print(\"====== \", key, \" =======\")\n",
    "    print(\"\\t>>> Before: \", value.shape)\n",
    "    # Drop rows with NaN\n",
    "    value.dropna(axis=0, inplace=True)\n",
    "    # Drop non numerical cols\n",
    "    non_numerical_cols_to_drop = [c for c in value.select_dtypes(exclude=\"number\").columns if c != \"set\"]\n",
    "    value.drop(columns=non_numerical_cols_to_drop, inplace=True)\n",
    "    # Remove all estimated cols\n",
    "    cols_to_remove: list = [c for c in value.columns if '$' in c]\n",
    "    value.drop(columns=cols_to_remove, inplace=True)\n",
    "    # Drop non informative column\n",
    "    non_informative_cols = [\"index\", \"smiles\", \"conc\",   \"name\",   \"CLASS\", \"ENV_CHEM\",  \"MP_RATIO\", \"FP:MACCS\", \"neutral\",\t\"TEST\",\t\"CHARGED\", \"group\"]\n",
    "    non_informative_cols = [c for c in value.columns if c in non_informative_cols]\n",
    "    value.drop(columns=non_informative_cols, inplace=True)\n",
    "    print(\"\\t>>> After: \", value.shape)\n",
    "\n",
    "# Checking we have the right amount of features\n",
    "for key, value in df_dict.items():\n",
    "    if value.shape[1] != 480:\n",
    "        warnings.warn(key, \" has not the right feature count\\n\\texpected: \", 480, \"\\n\\tactual: \", value.shape[1])"
   ],
   "metadata": {
    "collapsed": false,
    "ExecuteTime": {
     "end_time": "2023-06-12T22:30:37.882079221Z",
     "start_time": "2023-06-12T22:28:43.658267952Z"
    }
   }
  },
  {
   "cell_type": "code",
   "execution_count": 10,
   "outputs": [
    {
     "name": "stdout",
     "output_type": "stream",
     "text": [
      "full is partially in neutral\n",
      "full is partially in ionizable\n",
      "full is partially in charged verif\n",
      "full is partially in neutral verif\n",
      "neutral  is fully in  full\n",
      "neutral is partially in ionizable\n",
      "neutral is partially in charged verif\n",
      "neutral  is fully in  neutral verif\n",
      "ionizable  is fully in  full\n",
      "ionizable is partially in neutral\n",
      "ionizable  is fully in  charged verif\n",
      "ionizable is partially in neutral verif\n",
      "charged verif  is fully in  full\n",
      "charged verif is partially in neutral\n",
      "charged verif  is fully in  ionizable\n",
      "charged verif is partially in neutral verif\n",
      "neutral verif  is fully in  full\n",
      "neutral verif  is fully in  neutral\n",
      "neutral verif is partially in ionizable\n",
      "neutral verif is partially in charged verif\n",
      "full is partially in neutral\n",
      "full is partially in ionizable\n",
      "full is partially in charged verif\n",
      "full is partially in neutral verif\n",
      "neutral  is fully in  full\n",
      "neutral is partially in ionizable\n",
      "neutral is partially in charged verif\n",
      "neutral  is fully in  neutral verif\n",
      "ionizable  is fully in  full\n",
      "ionizable is partially in neutral\n",
      "ionizable  is fully in  charged verif\n",
      "ionizable is partially in neutral verif\n",
      "charged verif  is fully in  full\n",
      "charged verif is partially in neutral\n",
      "charged verif  is fully in  ionizable\n",
      "charged verif is partially in neutral verif\n",
      "neutral verif  is fully in  full\n",
      "neutral verif  is fully in  neutral\n",
      "neutral verif is partially in ionizable\n",
      "neutral verif is partially in charged verif\n"
     ]
    }
   ],
   "source": [
    "comb_list = permutations(df_dict, 2)\n",
    "\n",
    "for df_name in list(comb_list):\n",
    "    correlation = df_dict[df_name[0]][\"Log_MP_RATIO\"].isin(df_dict[df_name[1]][\"Log_MP_RATIO\"]).value_counts().index.tolist()\n",
    "    if len(correlation) > 1:\n",
    "        print(df_name[0], \"is partially in\", df_name[1])\n",
    "    elif True in correlation:\n",
    "        print(df_name[0], \" is fully in \", df_name[1])"
   ],
   "metadata": {
    "collapsed": false,
    "ExecuteTime": {
     "end_time": "2023-06-12T22:30:37.931742207Z",
     "start_time": "2023-06-12T22:28:45.107078231Z"
    }
   }
  },
  {
   "cell_type": "code",
   "execution_count": 11,
   "outputs": [
    {
     "name": "stdout",
     "output_type": "stream",
     "text": [
      "Shape of:\n",
      "\tfull\t\t:\t (183, 359) \n",
      "\tionizable\t:\t (72, 345) \n",
      "\tneutral\t\t:\t (111, 333)\n",
      "Shape of:\n",
      "\tfull\t\t:\t (183, 359) \n",
      "\tionizable\t:\t (72, 345) \n",
      "\tneutral\t\t:\t (111, 333)\n"
     ]
    }
   ],
   "source": [
    "from qsar.preprocessing.feature_selector import FeatureSelector\n",
    "\n",
    "FS_full = FeatureSelector(df_dict[\"full\"], cols_to_ignore=[\"set\"]).transform()\n",
    "FS_ionizable = FeatureSelector(df_dict[\"ionizable\"], cols_to_ignore=[\"set\"]).transform()\n",
    "FS_neutral = FeatureSelector(df_dict[\"neutral\"], cols_to_ignore=[\"set\"]).transform()\n",
    "\n",
    "print(\"Shape of:\\n\\tfull\\t\\t:\\t\", FS_full.shape,\"\\n\\tionizable\\t:\\t\", FS_ionizable.shape, \"\\n\\tneutral\\t\\t:\\t\", FS_neutral.shape)"
   ],
   "metadata": {
    "collapsed": false,
    "ExecuteTime": {
     "end_time": "2023-06-12T22:32:23.559998277Z",
     "start_time": "2023-06-12T22:28:45.151510618Z"
    }
   }
  },
  {
   "cell_type": "code",
   "execution_count": 12,
   "outputs": [
    {
     "name": "stdout",
     "output_type": "stream",
     "text": [
      "===== FULL =====\n",
      "\tTrain:\t (146, 358) \n",
      "\tTest:\t (37, 358)\n",
      "===== IONIZABLE =====\n",
      "\tTrain:\t (58, 344) \n",
      "\tTest:\t (14, 344)\n",
      "===== NEUTRAL =====\n",
      "\tTrain:\t (89, 332) \n",
      "\tTest:\t (22, 332)\n",
      "===== CHECK IF TESTS ARE IN OTHER DATAFRAMES =====\n",
      "\t>>>ionizable test in full train\n",
      "\t\t Log_MP_RATIO\n",
      "False    14\n",
      "Name: count, dtype: int64\n",
      "\t>>>neutral test in full train\n",
      "\t\t Log_MP_RATIO\n",
      "False    22\n",
      "Name: count, dtype: int64\n",
      "\t>>>full test in ionizable train\n",
      "\t\t Log_MP_RATIO\n",
      "False    37\n",
      "Name: count, dtype: int64\n",
      "\t>>>full test in ionizable train\n",
      "\t\t Log_MP_RATIO\n",
      "False    37\n",
      "Name: count, dtype: int64\n",
      "===== FULL =====\n",
      "\tTrain:\t (146, 358) \n",
      "\tTest:\t (37, 358)\n",
      "===== IONIZABLE =====\n",
      "\tTrain:\t (58, 344) \n",
      "\tTest:\t (14, 344)\n",
      "===== NEUTRAL =====\n",
      "\tTrain:\t (89, 332) \n",
      "\tTest:\t (22, 332)\n",
      "===== CHECK IF TESTS ARE IN OTHER DATAFRAMES =====\n",
      "\t>>>ionizable test in full train\n",
      "\t\t Log_MP_RATIO\n",
      "False    14\n",
      "Name: count, dtype: int64\n",
      "\t>>>neutral test in full train\n",
      "\t\t Log_MP_RATIO\n",
      "False    22\n",
      "Name: count, dtype: int64\n",
      "\t>>>full test in ionizable train\n",
      "\t\t Log_MP_RATIO\n",
      "False    37\n",
      "Name: count, dtype: int64\n",
      "\t>>>full test in ionizable train\n",
      "\t\t Log_MP_RATIO\n",
      "False    37\n",
      "Name: count, dtype: int64\n"
     ]
    }
   ],
   "source": [
    "# Separating test and train\n",
    "full_train: pd.DataFrame = FS_full.loc[FS_full[\"set\"] == \"TRAINING\"].copy().drop(columns=[\"set\"])\n",
    "full_test: pd.DataFrame = FS_full.loc[FS_full[\"set\"] == \"TEST\"].copy().drop(columns=[\"set\"])\n",
    "\n",
    "# Ionized\n",
    "ionizable_train: pd.DataFrame = FS_ionizable.loc[FS_ionizable[\"set\"] == \"TRAINING\"].copy().drop(columns=[\"set\"])\n",
    "ionizable_test: pd.DataFrame = FS_ionizable.loc[FS_ionizable[\"set\"] == \"TEST\"].copy().drop(columns=[\"set\"])\n",
    "\n",
    "# Neutral\n",
    "neutral_train: pd.DataFrame = FS_neutral.loc[FS_neutral[\"set\"] == \"TRAINING\"].copy().drop(columns=[\"set\"])\n",
    "neutral_test: pd.DataFrame = FS_neutral.loc[FS_neutral[\"set\"] == \"TEST\"].copy().drop(columns=[\"set\"])\n",
    "\n",
    "\n",
    "print(\"===== FULL =====\\n\\tTrain:\\t\", full_train.shape, \"\\n\\tTest:\\t\", full_test.shape)\n",
    "print(\"===== IONIZABLE =====\\n\\tTrain:\\t\", ionizable_train.shape, \"\\n\\tTest:\\t\", ionizable_test.shape)\n",
    "print(\"===== NEUTRAL =====\\n\\tTrain:\\t\", neutral_train.shape, \"\\n\\tTest:\\t\", neutral_test.shape)\n",
    "\n",
    "print(\"===== CHECK IF TESTS ARE IN OTHER DATAFRAMES =====\")\n",
    "print(\"\\t>>>ionizable test in full train\\n\\t\\t\", ionizable_test[\"Log_MP_RATIO\"].isin(full_train[\"Log_MP_RATIO\"]).value_counts(\"Log_MP_RATIO\"))\n",
    "print(\"\\t>>>neutral test in full train\\n\\t\\t\", neutral_test[\"Log_MP_RATIO\"].isin(full_train[\"Log_MP_RATIO\"]).value_counts(\"Log_MP_RATIO\"))\n",
    "print(\"\\t>>>full test in ionizable train\\n\\t\\t\", full_test[\"Log_MP_RATIO\"].isin(ionizable_train[\"Log_MP_RATIO\"]).value_counts(\"Log_MP_RATIO\"))\n",
    "print(\"\\t>>>full test in ionizable train\\n\\t\\t\", full_test[\"Log_MP_RATIO\"].isin(neutral_train[\"Log_MP_RATIO\"]).value_counts(\"Log_MP_RATIO\"))"
   ],
   "metadata": {
    "collapsed": false,
    "ExecuteTime": {
     "end_time": "2023-06-12T22:32:23.595648779Z",
     "start_time": "2023-06-12T22:30:30.851488311Z"
    }
   }
  },
  {
   "cell_type": "code",
   "execution_count": 13,
   "outputs": [
    {
     "name": "stdout",
     "output_type": "stream",
     "text": [
      "Shape of unfiltered:\n",
      "\tfull\n",
      "\t\tTrain\t:\t (146, 479) \n",
      "\t\tTest\t:\t (37, 479) \n",
      "\tionizable\n",
      "\t\tTrain\t:\t (58, 479) \n",
      "\t\tTest\t:\t (14, 344) \n",
      "\tneutral\n",
      "\t\tTrain\t:\t (89, 332) \n",
      "\t\tTest\t:\t (22, 332)\n",
      "===== CHECK IF UNFILTERED TESTS ARE IN OTHER DATAFRAMES =====\n",
      "\t>>>ionizable test in full train\n",
      "\t\t Log_MP_RATIO\n",
      "True    1.0\n",
      "Name: proportion, dtype: float64\n",
      "\t>>>neutral test in full train\n",
      "\t\t Log_MP_RATIO\n",
      "False    1.0\n",
      "Name: proportion, dtype: float64\n",
      "\t>>>full test in ionizable train\n",
      "\t\t Log_MP_RATIO\n",
      "False    0.972973\n",
      "True     0.027027\n",
      "Name: proportion, dtype: float64\n",
      "\t>>>full test in ionizable train\n",
      "\t\t Log_MP_RATIO\n",
      "False    0.972973\n",
      "True     0.027027\n",
      "Name: proportion, dtype: float64\n",
      "Shape of unfiltered:\n",
      "\tfull\n",
      "\t\tTrain\t:\t (146, 479) \n",
      "\t\tTest\t:\t (37, 479) \n",
      "\tionizable\n",
      "\t\tTrain\t:\t (58, 479) \n",
      "\t\tTest\t:\t (14, 344) \n",
      "\tneutral\n",
      "\t\tTrain\t:\t (89, 332) \n",
      "\t\tTest\t:\t (22, 332)\n",
      "===== CHECK IF UNFILTERED TESTS ARE IN OTHER DATAFRAMES =====\n",
      "\t>>>ionizable test in full train\n",
      "\t\t Log_MP_RATIO\n",
      "True    1.0\n",
      "Name: proportion, dtype: float64\n",
      "\t>>>neutral test in full train\n",
      "\t\t Log_MP_RATIO\n",
      "False    1.0\n",
      "Name: proportion, dtype: float64\n",
      "\t>>>full test in ionizable train\n",
      "\t\t Log_MP_RATIO\n",
      "False    0.972973\n",
      "True     0.027027\n",
      "Name: proportion, dtype: float64\n",
      "\t>>>full test in ionizable train\n",
      "\t\t Log_MP_RATIO\n",
      "False    0.972973\n",
      "True     0.027027\n",
      "Name: proportion, dtype: float64\n"
     ]
    }
   ],
   "source": [
    "unfiltered_full_train = df_dict[\"full\"].loc[df_dict[\"full\"][\"set\"] == \"TRAINING\"].copy().drop(columns=[\"set\"])\n",
    "unfiltered_full_test = df_dict[\"full\"].loc[df_dict[\"full\"][\"set\"] == \"TEST\"].copy().drop(columns=[\"set\"])\n",
    "\n",
    "unfiltered_ionizable_train = df_dict[\"ionizable\"].loc[df_dict[\"ionizable\"][\"set\"] == \"TRAINING\"].copy().drop(columns=[\"set\"])\n",
    "unfiltered_ionizable_test = df_dict[\"ionizable\"].loc[df_dict[\"ionizable\"][\"set\"] == \"TEST\"].copy().drop(columns=[\"set\"])\n",
    "\n",
    "unfiltered_neutral_train = df_dict[\"neutral\"].loc[df_dict[\"neutral\"][\"set\"] == \"TRAINING\"].copy().drop(columns=[\"set\"])\n",
    "unfiltered_neutral_test = df_dict[\"neutral\"].loc[df_dict[\"neutral\"][\"set\"] == \"TEST\"].copy().drop(columns=[\"set\"])\n",
    "\n",
    "\n",
    "print(\"Shape of unfiltered:\"\n",
    "      \"\\n\\tfull\\n\\t\\tTrain\\t:\\t\", unfiltered_full_train.shape,\"\\n\\t\\tTest\\t:\\t\", unfiltered_full_test.shape,\n",
    "      \"\\n\\tionizable\\n\\t\\tTrain\\t:\\t\", unfiltered_ionizable_train.shape,\"\\n\\t\\tTest\\t:\\t\", ionizable_test.shape,\n",
    "      \"\\n\\tneutral\\n\\t\\tTrain\\t:\\t\", neutral_train.shape,\"\\n\\t\\tTest\\t:\\t\", neutral_test.shape,\n",
    "      )\n",
    "\n",
    "print(\"===== CHECK IF UNFILTERED TESTS ARE IN OTHER DATAFRAMES =====\")\n",
    "print(\"\\t>>>ionizable test in full train\\n\\t\\t\", unfiltered_ionizable_test[\"Log_MP_RATIO\"].isin(unfiltered_full_train[\"Log_MP_RATIO\"]).value_counts(\"Log_MP_RATIO\"))\n",
    "print(\"\\t>>>neutral test in full train\\n\\t\\t\", unfiltered_neutral_test[\"Log_MP_RATIO\"].isin(unfiltered_neutral_train[\"Log_MP_RATIO\"]).value_counts(\"Log_MP_RATIO\"))\n",
    "print(\"\\t>>>full test in ionizable train\\n\\t\\t\", unfiltered_full_test[\"Log_MP_RATIO\"].isin(unfiltered_full_train[\"Log_MP_RATIO\"]).value_counts(\"Log_MP_RATIO\"))\n",
    "print(\"\\t>>>full test in ionizable train\\n\\t\\t\", unfiltered_full_test[\"Log_MP_RATIO\"].isin(unfiltered_full_train[\"Log_MP_RATIO\"]).value_counts(\"Log_MP_RATIO\"))\n",
    "\n",
    "with pd.ExcelWriter(\"unfiltered_data.xlsx\") as writer:\n",
    "    unfiltered_full_train.to_excel(writer, sheet_name=\"full_train\", index=False)\n",
    "    unfiltered_full_test.to_excel(writer, sheet_name=\"full_test\", index=False)\n",
    "\n",
    "    unfiltered_ionizable_train.to_excel(writer, sheet_name=\"ionizable_train\", index=False)\n",
    "    unfiltered_ionizable_test.to_excel(writer, sheet_name=\"ionizable_test\", index=False)\n",
    "\n",
    "    unfiltered_neutral_train.to_excel(writer, sheet_name=\"neutral_train\", index=False)\n",
    "    unfiltered_neutral_test.to_excel(writer, sheet_name=\"neutral_test\", index=False)\n",
    "\n",
    "\n",
    "with pd.ExcelWriter(\"filtered_data.xlsx\") as writer:\n",
    "    full_train.to_excel(writer, sheet_name=\"full_train\", index=False)\n",
    "    full_test.to_excel(writer, sheet_name=\"full_test\", index=False)\n",
    "\n",
    "    ionizable_train.to_excel(writer, sheet_name=\"ionizable_train\", index=False)\n",
    "    ionizable_test.to_excel(writer, sheet_name=\"ionizable_test\", index=False)\n",
    "\n",
    "    neutral_train.to_excel(writer, sheet_name=\"neutral_train\", index=False)\n",
    "    neutral_test.to_excel(writer, sheet_name=\"neutral_test\", index=False)\n",
    "\n"
   ],
   "metadata": {
    "collapsed": false,
    "ExecuteTime": {
     "end_time": "2023-06-12T22:32:28.840281998Z",
     "start_time": "2023-06-12T22:30:30.872900221Z"
    }
   }
  },
  {
   "cell_type": "code",
   "execution_count": 14,
   "outputs": [
    {
     "data": {
      "text/plain": "     Log_MP_RATIO       apol        ASA        ASA+        ASA-      ASA_H  \\\n0       -0.119186  22.785137  341.43088  196.220180  145.210690  239.01727   \n1        0.363698  43.759998  488.54459    0.000000  488.544590    0.00000   \n2        0.698970  30.486586  498.01099   58.344425  439.666560    0.00000   \n3        0.761176  38.435482  528.63080  414.456510  114.174280  291.23990   \n4       -0.050610   8.322758  197.57458  106.382390   91.192207  133.01698   \n..            ...        ...        ...         ...         ...        ...   \n141      0.606785  37.137585  508.13315  108.890020  399.243130  508.13315   \n142      0.754503  35.624378  490.22906  120.277710  369.951350  490.22906   \n143      0.553557  37.137585  502.72696  108.893750  393.833220  502.72696   \n144      0.622817  34.111172  469.09003  129.427840  339.662200  469.09003   \n145      0.518361  36.335587  480.90363   80.098015  390.450560  472.25650   \n\n          ASA_P  a_acc  a_acid  a_aro  ...  vsurf_Wp3  vsurf_Wp4  vsurf_Wp5  \\\n0    102.413610      2       0      6  ...     64.000     22.375      9.625   \n1    488.544590      0       0      0  ...      0.250      0.000      0.000   \n2    498.010990      2       0      0  ...     80.625     33.000     13.750   \n3    237.390880      2       0      5  ...    190.000     53.375     19.625   \n4     64.557610      1       0      0  ...     19.250      6.250      2.750   \n..          ...    ...     ...    ...  ...        ...        ...        ...   \n141    0.000000      0       0     12  ...     78.875      0.000      0.000   \n142    0.000000      0       0     12  ...     63.250      0.000      0.000   \n143    0.000000      0       0     12  ...     70.250      0.000      0.000   \n144    0.000000      0       0     12  ...     48.625      0.000      0.000   \n145    8.647125      0       0     13  ...     53.000      0.000      0.000   \n\n     vsurf_Wp6  vsurf_Wp7  vsurf_Wp8     Weight  weinerPath  weinerPol  zagreb  \n0        3.000      0.000        0.0  151.16499         166         11      50  \n1        0.000      0.000        0.0  545.54596         680         78     172  \n2        4.625      0.125        0.0  499.14099        1864         72     164  \n3        5.000      0.375        0.0  253.35400         664         18      74  \n4        0.750      0.000        0.0   46.06900           4          0       6  \n..         ...        ...        ...        ...         ...        ...     ...  \n141      0.000      0.000        0.0  390.86398         732         39     112  \n142      0.000      0.000        0.0  356.41898         648         35     106  \n143      0.000      0.000        0.0  390.86398         731         39     112  \n144      0.000      0.000        0.0  321.97400         571         31     100  \n145      0.000      0.000        0.0  374.86499         612         37     108  \n\n[146 rows x 479 columns]",
      "text/html": "<div>\n<style scoped>\n    .dataframe tbody tr th:only-of-type {\n        vertical-align: middle;\n    }\n\n    .dataframe tbody tr th {\n        vertical-align: top;\n    }\n\n    .dataframe thead th {\n        text-align: right;\n    }\n</style>\n<table border=\"1\" class=\"dataframe\">\n  <thead>\n    <tr style=\"text-align: right;\">\n      <th></th>\n      <th>Log_MP_RATIO</th>\n      <th>apol</th>\n      <th>ASA</th>\n      <th>ASA+</th>\n      <th>ASA-</th>\n      <th>ASA_H</th>\n      <th>ASA_P</th>\n      <th>a_acc</th>\n      <th>a_acid</th>\n      <th>a_aro</th>\n      <th>...</th>\n      <th>vsurf_Wp3</th>\n      <th>vsurf_Wp4</th>\n      <th>vsurf_Wp5</th>\n      <th>vsurf_Wp6</th>\n      <th>vsurf_Wp7</th>\n      <th>vsurf_Wp8</th>\n      <th>Weight</th>\n      <th>weinerPath</th>\n      <th>weinerPol</th>\n      <th>zagreb</th>\n    </tr>\n  </thead>\n  <tbody>\n    <tr>\n      <th>0</th>\n      <td>-0.119186</td>\n      <td>22.785137</td>\n      <td>341.43088</td>\n      <td>196.220180</td>\n      <td>145.210690</td>\n      <td>239.01727</td>\n      <td>102.413610</td>\n      <td>2</td>\n      <td>0</td>\n      <td>6</td>\n      <td>...</td>\n      <td>64.000</td>\n      <td>22.375</td>\n      <td>9.625</td>\n      <td>3.000</td>\n      <td>0.000</td>\n      <td>0.0</td>\n      <td>151.16499</td>\n      <td>166</td>\n      <td>11</td>\n      <td>50</td>\n    </tr>\n    <tr>\n      <th>1</th>\n      <td>0.363698</td>\n      <td>43.759998</td>\n      <td>488.54459</td>\n      <td>0.000000</td>\n      <td>488.544590</td>\n      <td>0.00000</td>\n      <td>488.544590</td>\n      <td>0</td>\n      <td>0</td>\n      <td>0</td>\n      <td>...</td>\n      <td>0.250</td>\n      <td>0.000</td>\n      <td>0.000</td>\n      <td>0.000</td>\n      <td>0.000</td>\n      <td>0.0</td>\n      <td>545.54596</td>\n      <td>680</td>\n      <td>78</td>\n      <td>172</td>\n    </tr>\n    <tr>\n      <th>2</th>\n      <td>0.698970</td>\n      <td>30.486586</td>\n      <td>498.01099</td>\n      <td>58.344425</td>\n      <td>439.666560</td>\n      <td>0.00000</td>\n      <td>498.010990</td>\n      <td>2</td>\n      <td>0</td>\n      <td>0</td>\n      <td>...</td>\n      <td>80.625</td>\n      <td>33.000</td>\n      <td>13.750</td>\n      <td>4.625</td>\n      <td>0.125</td>\n      <td>0.0</td>\n      <td>499.14099</td>\n      <td>1864</td>\n      <td>72</td>\n      <td>164</td>\n    </tr>\n    <tr>\n      <th>3</th>\n      <td>0.761176</td>\n      <td>38.435482</td>\n      <td>528.63080</td>\n      <td>414.456510</td>\n      <td>114.174280</td>\n      <td>291.23990</td>\n      <td>237.390880</td>\n      <td>2</td>\n      <td>0</td>\n      <td>5</td>\n      <td>...</td>\n      <td>190.000</td>\n      <td>53.375</td>\n      <td>19.625</td>\n      <td>5.000</td>\n      <td>0.375</td>\n      <td>0.0</td>\n      <td>253.35400</td>\n      <td>664</td>\n      <td>18</td>\n      <td>74</td>\n    </tr>\n    <tr>\n      <th>4</th>\n      <td>-0.050610</td>\n      <td>8.322758</td>\n      <td>197.57458</td>\n      <td>106.382390</td>\n      <td>91.192207</td>\n      <td>133.01698</td>\n      <td>64.557610</td>\n      <td>1</td>\n      <td>0</td>\n      <td>0</td>\n      <td>...</td>\n      <td>19.250</td>\n      <td>6.250</td>\n      <td>2.750</td>\n      <td>0.750</td>\n      <td>0.000</td>\n      <td>0.0</td>\n      <td>46.06900</td>\n      <td>4</td>\n      <td>0</td>\n      <td>6</td>\n    </tr>\n    <tr>\n      <th>...</th>\n      <td>...</td>\n      <td>...</td>\n      <td>...</td>\n      <td>...</td>\n      <td>...</td>\n      <td>...</td>\n      <td>...</td>\n      <td>...</td>\n      <td>...</td>\n      <td>...</td>\n      <td>...</td>\n      <td>...</td>\n      <td>...</td>\n      <td>...</td>\n      <td>...</td>\n      <td>...</td>\n      <td>...</td>\n      <td>...</td>\n      <td>...</td>\n      <td>...</td>\n      <td>...</td>\n    </tr>\n    <tr>\n      <th>141</th>\n      <td>0.606785</td>\n      <td>37.137585</td>\n      <td>508.13315</td>\n      <td>108.890020</td>\n      <td>399.243130</td>\n      <td>508.13315</td>\n      <td>0.000000</td>\n      <td>0</td>\n      <td>0</td>\n      <td>12</td>\n      <td>...</td>\n      <td>78.875</td>\n      <td>0.000</td>\n      <td>0.000</td>\n      <td>0.000</td>\n      <td>0.000</td>\n      <td>0.0</td>\n      <td>390.86398</td>\n      <td>732</td>\n      <td>39</td>\n      <td>112</td>\n    </tr>\n    <tr>\n      <th>142</th>\n      <td>0.754503</td>\n      <td>35.624378</td>\n      <td>490.22906</td>\n      <td>120.277710</td>\n      <td>369.951350</td>\n      <td>490.22906</td>\n      <td>0.000000</td>\n      <td>0</td>\n      <td>0</td>\n      <td>12</td>\n      <td>...</td>\n      <td>63.250</td>\n      <td>0.000</td>\n      <td>0.000</td>\n      <td>0.000</td>\n      <td>0.000</td>\n      <td>0.0</td>\n      <td>356.41898</td>\n      <td>648</td>\n      <td>35</td>\n      <td>106</td>\n    </tr>\n    <tr>\n      <th>143</th>\n      <td>0.553557</td>\n      <td>37.137585</td>\n      <td>502.72696</td>\n      <td>108.893750</td>\n      <td>393.833220</td>\n      <td>502.72696</td>\n      <td>0.000000</td>\n      <td>0</td>\n      <td>0</td>\n      <td>12</td>\n      <td>...</td>\n      <td>70.250</td>\n      <td>0.000</td>\n      <td>0.000</td>\n      <td>0.000</td>\n      <td>0.000</td>\n      <td>0.0</td>\n      <td>390.86398</td>\n      <td>731</td>\n      <td>39</td>\n      <td>112</td>\n    </tr>\n    <tr>\n      <th>144</th>\n      <td>0.622817</td>\n      <td>34.111172</td>\n      <td>469.09003</td>\n      <td>129.427840</td>\n      <td>339.662200</td>\n      <td>469.09003</td>\n      <td>0.000000</td>\n      <td>0</td>\n      <td>0</td>\n      <td>12</td>\n      <td>...</td>\n      <td>48.625</td>\n      <td>0.000</td>\n      <td>0.000</td>\n      <td>0.000</td>\n      <td>0.000</td>\n      <td>0.0</td>\n      <td>321.97400</td>\n      <td>571</td>\n      <td>31</td>\n      <td>100</td>\n    </tr>\n    <tr>\n      <th>145</th>\n      <td>0.518361</td>\n      <td>36.335587</td>\n      <td>480.90363</td>\n      <td>80.098015</td>\n      <td>390.450560</td>\n      <td>472.25650</td>\n      <td>8.647125</td>\n      <td>0</td>\n      <td>0</td>\n      <td>13</td>\n      <td>...</td>\n      <td>53.000</td>\n      <td>0.000</td>\n      <td>0.000</td>\n      <td>0.000</td>\n      <td>0.000</td>\n      <td>0.0</td>\n      <td>374.86499</td>\n      <td>612</td>\n      <td>37</td>\n      <td>108</td>\n    </tr>\n  </tbody>\n</table>\n<p>146 rows × 479 columns</p>\n</div>"
     },
     "execution_count": 7,
     "metadata": {},
     "output_type": "execute_result"
    },
    {
     "data": {
      "text/plain": "     Log_MP_RATIO       apol        ASA        ASA+        ASA-      ASA_H  \\\n0       -0.119186  22.785137  341.43088  196.220180  145.210690  239.01727   \n1        0.363698  43.759998  488.54459    0.000000  488.544590    0.00000   \n2        0.698970  30.486586  498.01099   58.344425  439.666560    0.00000   \n3        0.761176  38.435482  528.63080  414.456510  114.174280  291.23990   \n4       -0.050610   8.322758  197.57458  106.382390   91.192207  133.01698   \n..            ...        ...        ...         ...         ...        ...   \n141      0.606785  37.137585  508.13315  108.890020  399.243130  508.13315   \n142      0.754503  35.624378  490.22906  120.277710  369.951350  490.22906   \n143      0.553557  37.137585  502.72696  108.893750  393.833220  502.72696   \n144      0.622817  34.111172  469.09003  129.427840  339.662200  469.09003   \n145      0.518361  36.335587  480.90363   80.098015  390.450560  472.25650   \n\n          ASA_P  a_acc  a_acid  a_aro  ...  vsurf_Wp3  vsurf_Wp4  vsurf_Wp5  \\\n0    102.413610      2       0      6  ...     64.000     22.375      9.625   \n1    488.544590      0       0      0  ...      0.250      0.000      0.000   \n2    498.010990      2       0      0  ...     80.625     33.000     13.750   \n3    237.390880      2       0      5  ...    190.000     53.375     19.625   \n4     64.557610      1       0      0  ...     19.250      6.250      2.750   \n..          ...    ...     ...    ...  ...        ...        ...        ...   \n141    0.000000      0       0     12  ...     78.875      0.000      0.000   \n142    0.000000      0       0     12  ...     63.250      0.000      0.000   \n143    0.000000      0       0     12  ...     70.250      0.000      0.000   \n144    0.000000      0       0     12  ...     48.625      0.000      0.000   \n145    8.647125      0       0     13  ...     53.000      0.000      0.000   \n\n     vsurf_Wp6  vsurf_Wp7  vsurf_Wp8     Weight  weinerPath  weinerPol  zagreb  \n0        3.000      0.000        0.0  151.16499         166         11      50  \n1        0.000      0.000        0.0  545.54596         680         78     172  \n2        4.625      0.125        0.0  499.14099        1864         72     164  \n3        5.000      0.375        0.0  253.35400         664         18      74  \n4        0.750      0.000        0.0   46.06900           4          0       6  \n..         ...        ...        ...        ...         ...        ...     ...  \n141      0.000      0.000        0.0  390.86398         732         39     112  \n142      0.000      0.000        0.0  356.41898         648         35     106  \n143      0.000      0.000        0.0  390.86398         731         39     112  \n144      0.000      0.000        0.0  321.97400         571         31     100  \n145      0.000      0.000        0.0  374.86499         612         37     108  \n\n[146 rows x 479 columns]",
      "text/html": "<div>\n<style scoped>\n    .dataframe tbody tr th:only-of-type {\n        vertical-align: middle;\n    }\n\n    .dataframe tbody tr th {\n        vertical-align: top;\n    }\n\n    .dataframe thead th {\n        text-align: right;\n    }\n</style>\n<table border=\"1\" class=\"dataframe\">\n  <thead>\n    <tr style=\"text-align: right;\">\n      <th></th>\n      <th>Log_MP_RATIO</th>\n      <th>apol</th>\n      <th>ASA</th>\n      <th>ASA+</th>\n      <th>ASA-</th>\n      <th>ASA_H</th>\n      <th>ASA_P</th>\n      <th>a_acc</th>\n      <th>a_acid</th>\n      <th>a_aro</th>\n      <th>...</th>\n      <th>vsurf_Wp3</th>\n      <th>vsurf_Wp4</th>\n      <th>vsurf_Wp5</th>\n      <th>vsurf_Wp6</th>\n      <th>vsurf_Wp7</th>\n      <th>vsurf_Wp8</th>\n      <th>Weight</th>\n      <th>weinerPath</th>\n      <th>weinerPol</th>\n      <th>zagreb</th>\n    </tr>\n  </thead>\n  <tbody>\n    <tr>\n      <th>0</th>\n      <td>-0.119186</td>\n      <td>22.785137</td>\n      <td>341.43088</td>\n      <td>196.220180</td>\n      <td>145.210690</td>\n      <td>239.01727</td>\n      <td>102.413610</td>\n      <td>2</td>\n      <td>0</td>\n      <td>6</td>\n      <td>...</td>\n      <td>64.000</td>\n      <td>22.375</td>\n      <td>9.625</td>\n      <td>3.000</td>\n      <td>0.000</td>\n      <td>0.0</td>\n      <td>151.16499</td>\n      <td>166</td>\n      <td>11</td>\n      <td>50</td>\n    </tr>\n    <tr>\n      <th>1</th>\n      <td>0.363698</td>\n      <td>43.759998</td>\n      <td>488.54459</td>\n      <td>0.000000</td>\n      <td>488.544590</td>\n      <td>0.00000</td>\n      <td>488.544590</td>\n      <td>0</td>\n      <td>0</td>\n      <td>0</td>\n      <td>...</td>\n      <td>0.250</td>\n      <td>0.000</td>\n      <td>0.000</td>\n      <td>0.000</td>\n      <td>0.000</td>\n      <td>0.0</td>\n      <td>545.54596</td>\n      <td>680</td>\n      <td>78</td>\n      <td>172</td>\n    </tr>\n    <tr>\n      <th>2</th>\n      <td>0.698970</td>\n      <td>30.486586</td>\n      <td>498.01099</td>\n      <td>58.344425</td>\n      <td>439.666560</td>\n      <td>0.00000</td>\n      <td>498.010990</td>\n      <td>2</td>\n      <td>0</td>\n      <td>0</td>\n      <td>...</td>\n      <td>80.625</td>\n      <td>33.000</td>\n      <td>13.750</td>\n      <td>4.625</td>\n      <td>0.125</td>\n      <td>0.0</td>\n      <td>499.14099</td>\n      <td>1864</td>\n      <td>72</td>\n      <td>164</td>\n    </tr>\n    <tr>\n      <th>3</th>\n      <td>0.761176</td>\n      <td>38.435482</td>\n      <td>528.63080</td>\n      <td>414.456510</td>\n      <td>114.174280</td>\n      <td>291.23990</td>\n      <td>237.390880</td>\n      <td>2</td>\n      <td>0</td>\n      <td>5</td>\n      <td>...</td>\n      <td>190.000</td>\n      <td>53.375</td>\n      <td>19.625</td>\n      <td>5.000</td>\n      <td>0.375</td>\n      <td>0.0</td>\n      <td>253.35400</td>\n      <td>664</td>\n      <td>18</td>\n      <td>74</td>\n    </tr>\n    <tr>\n      <th>4</th>\n      <td>-0.050610</td>\n      <td>8.322758</td>\n      <td>197.57458</td>\n      <td>106.382390</td>\n      <td>91.192207</td>\n      <td>133.01698</td>\n      <td>64.557610</td>\n      <td>1</td>\n      <td>0</td>\n      <td>0</td>\n      <td>...</td>\n      <td>19.250</td>\n      <td>6.250</td>\n      <td>2.750</td>\n      <td>0.750</td>\n      <td>0.000</td>\n      <td>0.0</td>\n      <td>46.06900</td>\n      <td>4</td>\n      <td>0</td>\n      <td>6</td>\n    </tr>\n    <tr>\n      <th>...</th>\n      <td>...</td>\n      <td>...</td>\n      <td>...</td>\n      <td>...</td>\n      <td>...</td>\n      <td>...</td>\n      <td>...</td>\n      <td>...</td>\n      <td>...</td>\n      <td>...</td>\n      <td>...</td>\n      <td>...</td>\n      <td>...</td>\n      <td>...</td>\n      <td>...</td>\n      <td>...</td>\n      <td>...</td>\n      <td>...</td>\n      <td>...</td>\n      <td>...</td>\n      <td>...</td>\n    </tr>\n    <tr>\n      <th>141</th>\n      <td>0.606785</td>\n      <td>37.137585</td>\n      <td>508.13315</td>\n      <td>108.890020</td>\n      <td>399.243130</td>\n      <td>508.13315</td>\n      <td>0.000000</td>\n      <td>0</td>\n      <td>0</td>\n      <td>12</td>\n      <td>...</td>\n      <td>78.875</td>\n      <td>0.000</td>\n      <td>0.000</td>\n      <td>0.000</td>\n      <td>0.000</td>\n      <td>0.0</td>\n      <td>390.86398</td>\n      <td>732</td>\n      <td>39</td>\n      <td>112</td>\n    </tr>\n    <tr>\n      <th>142</th>\n      <td>0.754503</td>\n      <td>35.624378</td>\n      <td>490.22906</td>\n      <td>120.277710</td>\n      <td>369.951350</td>\n      <td>490.22906</td>\n      <td>0.000000</td>\n      <td>0</td>\n      <td>0</td>\n      <td>12</td>\n      <td>...</td>\n      <td>63.250</td>\n      <td>0.000</td>\n      <td>0.000</td>\n      <td>0.000</td>\n      <td>0.000</td>\n      <td>0.0</td>\n      <td>356.41898</td>\n      <td>648</td>\n      <td>35</td>\n      <td>106</td>\n    </tr>\n    <tr>\n      <th>143</th>\n      <td>0.553557</td>\n      <td>37.137585</td>\n      <td>502.72696</td>\n      <td>108.893750</td>\n      <td>393.833220</td>\n      <td>502.72696</td>\n      <td>0.000000</td>\n      <td>0</td>\n      <td>0</td>\n      <td>12</td>\n      <td>...</td>\n      <td>70.250</td>\n      <td>0.000</td>\n      <td>0.000</td>\n      <td>0.000</td>\n      <td>0.000</td>\n      <td>0.0</td>\n      <td>390.86398</td>\n      <td>731</td>\n      <td>39</td>\n      <td>112</td>\n    </tr>\n    <tr>\n      <th>144</th>\n      <td>0.622817</td>\n      <td>34.111172</td>\n      <td>469.09003</td>\n      <td>129.427840</td>\n      <td>339.662200</td>\n      <td>469.09003</td>\n      <td>0.000000</td>\n      <td>0</td>\n      <td>0</td>\n      <td>12</td>\n      <td>...</td>\n      <td>48.625</td>\n      <td>0.000</td>\n      <td>0.000</td>\n      <td>0.000</td>\n      <td>0.000</td>\n      <td>0.0</td>\n      <td>321.97400</td>\n      <td>571</td>\n      <td>31</td>\n      <td>100</td>\n    </tr>\n    <tr>\n      <th>145</th>\n      <td>0.518361</td>\n      <td>36.335587</td>\n      <td>480.90363</td>\n      <td>80.098015</td>\n      <td>390.450560</td>\n      <td>472.25650</td>\n      <td>8.647125</td>\n      <td>0</td>\n      <td>0</td>\n      <td>13</td>\n      <td>...</td>\n      <td>53.000</td>\n      <td>0.000</td>\n      <td>0.000</td>\n      <td>0.000</td>\n      <td>0.000</td>\n      <td>0.0</td>\n      <td>374.86499</td>\n      <td>612</td>\n      <td>37</td>\n      <td>108</td>\n    </tr>\n  </tbody>\n</table>\n<p>146 rows × 479 columns</p>\n</div>"
     },
     "execution_count": 14,
     "metadata": {},
     "output_type": "execute_result"
    }
   ],
   "source": [
    "from sklearn.preprocessing import StandardScaler\n",
    "\n",
    "\n",
    "def Corr_list_with_output(df, target=0.5):\n",
    "    cor = df.corr()      # Using Pearson Correlation\n",
    "    cor_target = abs(cor['Log_MP_RATIO'])\n",
    "    #Selecting highly correlated features\n",
    "    features = cor_target[cor_target>target]\n",
    "    return features\n",
    "\n",
    "# unfiltered_full_train = pd.DataFrame(StandardScaler().fit_transform(unfiltered_full_train), columns = unfiltered_full_train.columns)\n",
    "unfiltered_full_train\n",
    "# # y = full_train.corrwith(full_train[\"Log_MP_RATIO\"], method=\"pearson\").abs()\n",
    "# y = Corr_list_with_output(unfiltered_full_train, target=0.5)\n",
    "# # correlated_to_y = full_train[y.index]\n",
    "# # correlated_to_y\n",
    "# y"
   ],
   "metadata": {
    "collapsed": false,
    "ExecuteTime": {
     "end_time": "2023-06-12T22:32:28.858565409Z",
     "start_time": "2023-06-12T22:30:36.288365489Z"
    }
   }
  }
 ],
 "metadata": {
  "kernelspec": {
   "display_name": "Python 3",
   "language": "python",
   "name": "python3"
  },
  "language_info": {
   "codemirror_mode": {
    "name": "ipython",
    "version": 2
   },
   "file_extension": ".py",
   "mimetype": "text/x-python",
   "name": "python",
   "nbconvert_exporter": "python",
   "pygments_lexer": "ipython2",
   "version": "2.7.6"
  }
 },
 "nbformat": 4,
 "nbformat_minor": 0
}
