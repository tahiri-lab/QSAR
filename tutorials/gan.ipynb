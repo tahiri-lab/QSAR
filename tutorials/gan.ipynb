{
 "cells": [
  {
   "cell_type": "code",
   "execution_count": null,
   "outputs": [],
   "source": [
    "import pandas as pd\n",
    "import deepchem as dc\n",
    "from deepchem.models.optimizers import ExponentialDecay\n",
    "\n",
    "from qsar.gan.qsar_gan import QsarGan\n",
    "from qsar.gan.extract_descriptors import DescriptorsExtractor\n",
    "from qsar.utils.visualizer import Visualizer"
   ],
   "metadata": {
    "collapsed": false
   },
   "id": "4ae3ad2f7fdbac03"
  },
  {
   "cell_type": "markdown",
   "source": [
    "# Data importation"
   ],
   "metadata": {
    "collapsed": false
   },
   "id": "5229a65b71a399b0"
  },
  {
   "cell_type": "code",
   "execution_count": null,
   "outputs": [],
   "source": [
    "# our dataset (183 smiles)\n",
    "df = pd.read_csv('../data/unfiltered_data_smiles.csv')\n",
    "data_local = df[['SMILES']]\n",
    "data_local.columns = [col.lower() for col in data_local.columns]\n",
    "\n",
    "# Tox21 Dataset: Contains bioactivity data for various chemicals in toxicity assays, used for toxicology research and safety assessments.\n",
    "# https://paperswithcode.com/dataset/tox21-1\n",
    "_, datasets, _ = dc.molnet.load_tox21()\n",
    "data_tox21 = pd.DataFrame(data={'smiles': datasets[0].ids})\n",
    "\n",
    "# Lipo Dataset: Provides lipophilicity data (logP values) of chemical compounds, aiding in studies of compound absorption and metabolism in pharmacology.\n",
    "# https://www.ebi.ac.uk/chembl/document_report_card/CHEMBL3301361/\n",
    "_, datasets, _ = dc.molnet.load_lipo()\n",
    "data_lipo = pd.DataFrame(data={'smiles': datasets[0].ids})\n",
    "\n",
    "# thought of combining all datasets might maximise the GAN perf and boost the prediction\n",
    "data = pd.concat([data_local, data_tox21, data_lipo], ignore_index=True)\n",
    "display(data)"
   ],
   "metadata": {
    "collapsed": false
   },
   "id": "25a76f5ac197dea2"
  },
  {
   "cell_type": "markdown",
   "source": [
    "# Determine the max atom count threshold"
   ],
   "metadata": {
    "collapsed": false
   },
   "id": "f0ea11275417fc68"
  },
  {
   "cell_type": "code",
   "execution_count": null,
   "outputs": [],
   "source": [
    "gan = QsarGan(learning_rate=ExponentialDecay(0.001, 0.9, 5000))\n",
    "max_atom_count, atom_counts = gan.featurizer.determine_atom_count(smiles=data, quantile=0.95)\n",
    "visualizer = Visualizer()\n",
    "visualizer.display_atom_count_distribution(atom_counts)"
   ],
   "metadata": {
    "collapsed": false
   },
   "id": "8d31103edfa128f4"
  },
  {
   "cell_type": "markdown",
   "source": [
    "# Train the Gan and generate data"
   ],
   "metadata": {
    "collapsed": false
   },
   "id": "5f9028155b878584"
  },
  {
   "cell_type": "code",
   "execution_count": null,
   "outputs": [],
   "source": [
    "generated_smiles = gan.fit_predict(smiles=data, epochs=128)\n",
    "display(generated_smiles)"
   ],
   "metadata": {
    "collapsed": false
   },
   "id": "a7a76f5f99a19f0"
  },
  {
   "cell_type": "markdown",
   "source": [
    "# Extract Descriptors"
   ],
   "metadata": {
    "collapsed": false
   },
   "id": "f0d0c36d81d37482"
  },
  {
   "cell_type": "code",
   "execution_count": null,
   "outputs": [],
   "source": [
    "data_with_descriptors = DescriptorsExtractor.extract_descriptors(generated_smiles)\n",
    "display(data_with_descriptors)"
   ],
   "metadata": {
    "collapsed": false
   },
   "id": "90092f3a54424ca0"
  },
  {
   "cell_type": "markdown",
   "source": [
    "# Display the generated molecules"
   ],
   "metadata": {
    "collapsed": false
   }
  },
  {
   "cell_type": "code",
   "execution_count": null,
   "outputs": [],
   "source": [
    "visualizer.draw_generated_molecules(generated_smiles)"
   ],
   "metadata": {
    "collapsed": false
   }
  },
  {
   "cell_type": "markdown",
   "source": [],
   "metadata": {
    "collapsed": false
   },
   "id": "9b682496689f79c2"
  }
 ],
 "metadata": {
  "kernelspec": {
   "display_name": "Python 3",
   "language": "python",
   "name": "python3"
  },
  "language_info": {
   "codemirror_mode": {
    "name": "ipython",
    "version": 2
   },
   "file_extension": ".py",
   "mimetype": "text/x-python",
   "name": "python",
   "nbconvert_exporter": "python",
   "pygments_lexer": "ipython2",
   "version": "2.7.6"
  }
 },
 "nbformat": 4,
 "nbformat_minor": 5
}
