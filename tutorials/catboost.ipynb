{
 "cells": [
  {
   "cell_type": "code",
   "execution_count": null,
   "metadata": {
    "collapsed": true
   },
   "outputs": [],
   "source": [
    "import warnings\n",
    "warnings.filterwarnings('ignore')\n",
    "\n",
    "from optuna.visualization import plot_optimization_history\n",
    "\n",
    "from qsar.models.catboost import CatboostModel\n",
    "from qsar.utils.visualizer import Visualizer\n",
    "from qsar.utils.cross_validator import CrossValidator\n",
    "from qsar.utils.extractor import Extractor\n",
    "from qsar.utils.hyperparameter_optimizer import HyperParameterOptimizer"
   ]
  },
  {
   "cell_type": "markdown",
   "source": [
    "## 1. Data Import"
   ],
   "metadata": {
    "collapsed": false
   }
  },
  {
   "cell_type": "code",
   "execution_count": null,
   "outputs": [],
   "source": [
    "data_paths = {\n",
    "    \"full_train\": \"../data/full/train/full_train_unfiltered.csv\",\n",
    "    \"full_test\": \"../data/full/test/full_test_unfiltered.csv\",\n",
    "    \"neutral_train\": \"../data/neutral/train/neutral_train_unfiltered.csv\",\n",
    "    \"neutral_test\": \"../data/neutral/test/neutral_test_unfiltered.csv\",\n",
    "    \"ionizable_train\": \"../data/ionizable/train/ionizable_train_unfiltered.csv\",\n",
    "    \"ionizable_test\": \"../data/ionizable/test/ionizable_test_unfiltered.csv\",\n",
    "}\n",
    "\n",
    "extractor = Extractor(data_paths)\n",
    "\n",
    "# todo move the split after the preprocessing\n",
    "x_dfs, y_dfs = extractor.split_x_y(\"Log_MP_RATIO\")\n",
    "df_full_tain = extractor.get_df(\"full_train\")"
   ],
   "metadata": {
    "collapsed": false
   }
  },
  {
   "cell_type": "markdown",
   "source": [
    "## 2. Preprocessing"
   ],
   "metadata": {
    "collapsed": false
   }
  },
  {
   "cell_type": "code",
   "execution_count": null,
   "outputs": [],
   "source": [
    "# Todo: include and review all the preprocessing steps\n",
    "# Todo: check if we need scaling to make the model converge\n",
    "# scaler = StandardScaler()\n",
    "# x_full_train_scaled = scaler.fit_transform(x_dfs[\"full_train\"])\n",
    "# x_dfs[\"full_train\"] = pd.DataFrame(x_full_train_scaled, index=x_dfs[\"full_train\"].index, columns=x_dfs[\"full_train\"].columns)\n",
    "# x_full_test_scaled = scaler.transform(x_dfs[\"full_test\"])\n",
    "# x_dfs[\"full_test\"] = pd.DataFrame(x_full_test_scaled, index=x_dfs[\"full_test\"].index, columns=x_dfs[\"full_test\"].columns)"
   ],
   "metadata": {
    "collapsed": false
   }
  },
  {
   "cell_type": "markdown",
   "source": [
    "## 3. Cross-validation"
   ],
   "metadata": {
    "collapsed": false
   }
  },
  {
   "cell_type": "code",
   "execution_count": null,
   "outputs": [],
   "source": [
    "cross_validator = CrossValidator(df_full_tain)\n",
    "visualizer = Visualizer()\n",
    "X_list, y_list, df, y, n_folds = cross_validator.create_cv_folds()\n",
    "visualizer.display_cv_folds(df, y, n_folds)"
   ],
   "metadata": {
    "collapsed": false
   }
  },
  {
   "cell_type": "markdown",
   "source": [
    "## 4. Model evaluation before hyperparameter optimization"
   ],
   "metadata": {
    "collapsed": false
   }
  },
  {
   "cell_type": "code",
   "execution_count": null,
   "outputs": [],
   "source": [
    "catboost_model = CatboostModel()\n",
    "R2, CV, custom_cv, Q2 = cross_validator.evaluate_model_performance(catboost_model.model,\n",
    "                                                                   x_dfs[\"full_train\"], y_dfs[\"full_train\"],\n",
    "                                                                   x_dfs[\"full_test\"], y_dfs[\"full_test\"])\n",
    "visualizer.display_model_performance(\"Catboost\", R2, CV, custom_cv, Q2)"
   ],
   "metadata": {
    "collapsed": false
   }
  },
  {
   "cell_type": "markdown",
   "source": [
    "## 5. Hyperparameter optimization"
   ],
   "metadata": {
    "collapsed": false
   }
  },
  {
   "cell_type": "code",
   "execution_count": null,
   "outputs": [],
   "source": [
    "xgboost_model = CatboostModel()\n",
    "\n",
    "optimizer = HyperParameterOptimizer(model=xgboost_model, data=df_full_tain, direction='maximize', trials=100)\n",
    "\n",
    "study = optimizer.optimize()\n",
    "trial = study.best_trial\n",
    "print(trial.value, trial.params)"
   ],
   "metadata": {
    "collapsed": false
   }
  },
  {
   "cell_type": "markdown",
   "source": [
    "## 6. Model evaluation after hyperparameter optimization"
   ],
   "metadata": {
    "collapsed": false
   }
  },
  {
   "cell_type": "code",
   "execution_count": null,
   "outputs": [],
   "source": [
    "catboost_model.set_hyperparameters(**study.best_params)\n",
    "R2, CV, custom_cv, Q2 = cross_validator.evaluate_model_performance(\n",
    "    catboost_model.model, x_dfs[\"full_train\"], y_dfs[\"full_train\"], x_dfs[\"full_test\"], y_dfs[\"full_test\"])\n",
    "visualizer.display_model_performance(\"XGBoost\", R2, CV, custom_cv, Q2)"
   ],
   "metadata": {
    "collapsed": false
   }
  },
  {
   "cell_type": "code",
   "execution_count": null,
   "outputs": [],
   "source": [
    "display(plot_optimization_history(study))"
   ],
   "metadata": {
    "collapsed": false
   }
  },
  {
   "cell_type": "markdown",
   "source": [
    "## 7. Prediction and results"
   ],
   "metadata": {
    "collapsed": false
   }
  },
  {
   "cell_type": "code",
   "execution_count": null,
   "outputs": [],
   "source": [
    "y_full_train_pred, y_full_test_pred = cross_validator.get_predictions(catboost_model.model, x_dfs[\"full_train\"],\n",
    "                                                                      y_dfs[\"full_train\"], x_dfs[\"full_test\"])\n",
    "visualizer.display_graph(\"XGBoost\", y_dfs[\"full_train\"], y_dfs[\"full_test\"], y_full_train_pred, y_full_test_pred)"
   ],
   "metadata": {
    "collapsed": false
   }
  }
 ],
 "metadata": {
  "kernelspec": {
   "display_name": "Python 3",
   "language": "python",
   "name": "python3"
  },
  "language_info": {
   "codemirror_mode": {
    "name": "ipython",
    "version": 2
   },
   "file_extension": ".py",
   "mimetype": "text/x-python",
   "name": "python",
   "nbconvert_exporter": "python",
   "pygments_lexer": "ipython2",
   "version": "2.7.6"
  }
 },
 "nbformat": 4,
 "nbformat_minor": 0
}
