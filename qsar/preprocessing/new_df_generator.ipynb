{
 "cells": [
  {
   "cell_type": "code",
   "execution_count": null,
   "metadata": {
    "collapsed": true
   },
   "outputs": [],
   "source": [
    "import pandas as pd\n",
    "import warnings\n",
    "from itertools import permutations"
   ]
  },
  {
   "cell_type": "code",
   "execution_count": null,
   "outputs": [],
   "source": [
    "excel_sheet = pd.read_excel(\"../../Data/milk_plasma_all_data_mrg_020821_v3.xlsx\", sheet_name=[0, 1, 2])\n",
    "full_sheet = excel_sheet[0].copy()\n",
    "neutral_sheet = excel_sheet[1].copy()\n",
    "ionizable_sheet = excel_sheet[2].copy()\n",
    "ionizable_full_sheet: pd.DataFrame = full_sheet.loc[full_sheet[\"CHARGED\"] == 1].copy()\n",
    "neutral_full_sheet: pd.DataFrame = full_sheet.loc[full_sheet[\"neutral\"] == 1].copy()\n",
    "\n",
    "\n",
    "# df['your_column_name'].isin([\"Log_MP_RATIO\"]).value_counts()\n",
    "\n",
    "\n",
    "df_dict: dict = {\"full\": full_sheet,\n",
    "                 \"neutral\": neutral_sheet,\n",
    "                 \"ionizable\": ionizable_sheet,\n",
    "                 \"charged verif\":ionizable_full_sheet,\n",
    "                 \"neutral verif\": neutral_full_sheet\n",
    "                 }\n",
    "for key, value in df_dict.items():\n",
    "    print(\"====== \", key, \" =======\")\n",
    "    print(\"\\t>>> Before: \", value.shape)\n",
    "    # Drop rows with NaN\n",
    "    value.dropna(axis=0, inplace=True)\n",
    "    # Drop non numerical cols\n",
    "    non_numerical_cols_to_drop = [c for c in value.select_dtypes(exclude=\"number\").columns if c != \"set\"]\n",
    "    value.drop(columns=non_numerical_cols_to_drop, inplace=True)\n",
    "    # Remove all estimated cols\n",
    "    cols_to_remove: list = [c for c in value.columns if '$' in c]\n",
    "    value.drop(columns=cols_to_remove, inplace=True)\n",
    "    # Drop non informative column\n",
    "    non_informative_cols = [\"index\", \"smiles\", \"conc\",   \"name\",   \"CLASS\", \"ENV_CHEM\",  \"MP_RATIO\", \"FP:MACCS\", \"neutral\",\t\"TEST\",\t\"CHARGED\", \"group\"]\n",
    "    non_informative_cols = [c for c in value.columns if c in non_informative_cols]\n",
    "    value.drop(columns=non_informative_cols, inplace=True)\n",
    "    print(\"\\t>>> After: \", value.shape)\n",
    "\n",
    "# Checking we have the right amount of features\n",
    "for key, value in df_dict.items():\n",
    "    if value.shape[1] != 480:\n",
    "        warnings.warn(key, \" has not the right feature count\\n\\texpected: \", 480, \"\\n\\tactual: \", value.shape[1])"
   ],
   "metadata": {
    "collapsed": false
   }
  },
  {
   "cell_type": "code",
   "execution_count": null,
   "outputs": [],
   "source": [
    "comb_list = permutations(df_dict, 2)\n",
    "\n",
    "for df_name in list(comb_list):\n",
    "    correlation = df_dict[df_name[0]][\"Log_MP_RATIO\"].isin(df_dict[df_name[1]][\"Log_MP_RATIO\"]).value_counts().index.tolist()\n",
    "    if len(correlation) > 1:\n",
    "        print(df_name[0], \"is partially in\", df_name[1])\n",
    "    elif True in correlation:\n",
    "        print(df_name[0], \" is fully in \", df_name[1])"
   ],
   "metadata": {
    "collapsed": false
   }
  },
  {
   "cell_type": "code",
   "execution_count": null,
   "outputs": [],
   "source": [
    "from feature_selector import *\n",
    "\n",
    "FS_full = FeatureSelector(df_dict[\"full\"], cols_to_ignore=[\"set\"]).transform()\n",
    "FS_ionizable = FeatureSelector(df_dict[\"ionizable\"], cols_to_ignore=[\"set\"]).transform()\n",
    "FS_neutral = FeatureSelector(df_dict[\"neutral\"], cols_to_ignore=[\"set\"]).transform()\n",
    "\n",
    "print(\"Shape of:\\n\\tfull\\t\\t:\\t\", FS_full.shape,\"\\n\\tionizable\\t:\\t\", FS_ionizable.shape, \"\\n\\tneutral\\t\\t:\\t\", FS_neutral.shape)"
   ],
   "metadata": {
    "collapsed": false
   }
  },
  {
   "cell_type": "code",
   "execution_count": null,
   "outputs": [],
   "source": [
    "# Separating test and train\n",
    "full_train: pd.DataFrame = FS_full.loc[FS_full[\"set\"] == \"TRAINING\"].copy().drop(columns=[\"set\"])\n",
    "full_test: pd.DataFrame = FS_full.loc[FS_full[\"set\"] == \"TEST\"].copy().drop(columns=[\"set\"])\n",
    "\n",
    "# Ionized\n",
    "ionizable_train: pd.DataFrame = FS_ionizable.loc[FS_ionizable[\"set\"] == \"TRAINING\"].copy().drop(columns=[\"set\"])\n",
    "ionizable_test: pd.DataFrame = FS_ionizable.loc[FS_ionizable[\"set\"] == \"TEST\"].copy().drop(columns=[\"set\"])\n",
    "\n",
    "# Neutral\n",
    "neutral_train: pd.DataFrame = FS_neutral.loc[FS_neutral[\"set\"] == \"TRAINING\"].copy().drop(columns=[\"set\"])\n",
    "neutral_test: pd.DataFrame = FS_neutral.loc[FS_neutral[\"set\"] == \"TEST\"].copy().drop(columns=[\"set\"])\n",
    "\n",
    "\n",
    "print(\"===== FULL =====\\n\\tTrain:\\t\", full_train.shape, \"\\n\\tTest:\\t\", full_test.shape)\n",
    "print(\"===== IONIZABLE =====\\n\\tTrain:\\t\", ionizable_train.shape, \"\\n\\tTest:\\t\", ionizable_test.shape)\n",
    "print(\"===== NEUTRAL =====\\n\\tTrain:\\t\", neutral_train.shape, \"\\n\\tTest:\\t\", neutral_test.shape)\n",
    "\n",
    "print(\"===== CHECK IF TESTS ARE IN OTHER DATAFRAMES =====\")\n",
    "print(\"\\t>>>ionizable test in full train\\n\\t\\t\", ionizable_test[\"Log_MP_RATIO\"].isin(full_train[\"Log_MP_RATIO\"]).value_counts(\"Log_MP_RATIO\"))\n",
    "print(\"\\t>>>neutral test in full train\\n\\t\\t\", neutral_test[\"Log_MP_RATIO\"].isin(full_train[\"Log_MP_RATIO\"]).value_counts(\"Log_MP_RATIO\"))\n",
    "print(\"\\t>>>full test in ionizable train\\n\\t\\t\", full_test[\"Log_MP_RATIO\"].isin(ionizable_train[\"Log_MP_RATIO\"]).value_counts(\"Log_MP_RATIO\"))\n",
    "print(\"\\t>>>full test in ionizable train\\n\\t\\t\", full_test[\"Log_MP_RATIO\"].isin(neutral_train[\"Log_MP_RATIO\"]).value_counts(\"Log_MP_RATIO\"))"
   ],
   "metadata": {
    "collapsed": false
   }
  },
  {
   "cell_type": "code",
   "execution_count": null,
   "outputs": [],
   "source": [
    "unfiltered_full_train = df_dict[\"full\"].loc[df_dict[\"full\"][\"set\"] == \"TRAINING\"].copy().drop(columns=[\"set\"])\n",
    "unfiltered_full_test = df_dict[\"full\"].loc[df_dict[\"full\"][\"set\"] == \"TEST\"].copy().drop(columns=[\"set\"])\n",
    "\n",
    "unfiltered_ionizable_train = df_dict[\"ionizable\"].loc[df_dict[\"ionizable\"][\"set\"] == \"TRAINING\"].copy().drop(columns=[\"set\"])\n",
    "unfiltered_ionizable_test = df_dict[\"ionizable\"].loc[df_dict[\"ionizable\"][\"set\"] == \"TEST\"].copy().drop(columns=[\"set\"])\n",
    "\n",
    "unfiltered_neutral_train = df_dict[\"neutral\"].loc[df_dict[\"neutral\"][\"set\"] == \"TRAINING\"].copy().drop(columns=[\"set\"])\n",
    "unfiltered_neutral_test = df_dict[\"neutral\"].loc[df_dict[\"neutral\"][\"set\"] == \"TEST\"].copy().drop(columns=[\"set\"])\n",
    "\n",
    "\n",
    "print(\"Shape of unfiltered:\"\n",
    "      \"\\n\\tfull\\n\\t\\tTrain\\t:\\t\", unfiltered_full_train.shape,\"\\n\\t\\tTest\\t:\\t\", unfiltered_full_test.shape,\n",
    "      \"\\n\\tionizable\\n\\t\\tTrain\\t:\\t\", unfiltered_ionizable_train.shape,\"\\n\\t\\tTest\\t:\\t\", ionizable_test.shape,\n",
    "      \"\\n\\tneutral\\n\\t\\tTrain\\t:\\t\", neutral_train.shape,\"\\n\\t\\tTest\\t:\\t\", neutral_test.shape,\n",
    "      )\n",
    "\n",
    "print(\"===== CHECK IF UNFILTERED TESTS ARE IN OTHER DATAFRAMES =====\")\n",
    "print(\"\\t>>>ionizable test in full train\\n\\t\\t\", unfiltered_ionizable_test[\"Log_MP_RATIO\"].isin(unfiltered_full_train[\"Log_MP_RATIO\"]).value_counts(\"Log_MP_RATIO\"))\n",
    "print(\"\\t>>>neutral test in full train\\n\\t\\t\", unfiltered_neutral_test[\"Log_MP_RATIO\"].isin(unfiltered_neutral_train[\"Log_MP_RATIO\"]).value_counts(\"Log_MP_RATIO\"))\n",
    "print(\"\\t>>>full test in ionizable train\\n\\t\\t\", unfiltered_full_test[\"Log_MP_RATIO\"].isin(unfiltered_full_train[\"Log_MP_RATIO\"]).value_counts(\"Log_MP_RATIO\"))\n",
    "print(\"\\t>>>full test in ionizable train\\n\\t\\t\", unfiltered_full_test[\"Log_MP_RATIO\"].isin(unfiltered_full_train[\"Log_MP_RATIO\"]).value_counts(\"Log_MP_RATIO\"))\n",
    "\n",
    "with pd.ExcelWriter(\"unfiltered_data.xlsx\") as writer:\n",
    "    unfiltered_full_train.to_excel(writer, sheet_name=\"full_train\", index=False)\n",
    "    unfiltered_full_test.to_excel(writer, sheet_name=\"full_test\", index=False)\n",
    "\n",
    "    unfiltered_ionizable_train.to_excel(writer, sheet_name=\"ionizable_train\", index=False)\n",
    "    unfiltered_ionizable_test.to_excel(writer, sheet_name=\"ionizable_test\", index=False)\n",
    "\n",
    "    unfiltered_neutral_train.to_excel(writer, sheet_name=\"neutral_train\", index=False)\n",
    "    unfiltered_neutral_test.to_excel(writer, sheet_name=\"neutral_test\", index=False)\n",
    "\n",
    "\n",
    "with pd.ExcelWriter(\"filtered_data.xlsx\") as writer:\n",
    "    full_train.to_excel(writer, sheet_name=\"full_train\", index=False)\n",
    "    full_test.to_excel(writer, sheet_name=\"full_test\", index=False)\n",
    "\n",
    "    ionizable_train.to_excel(writer, sheet_name=\"ionizable_train\", index=False)\n",
    "    ionizable_test.to_excel(writer, sheet_name=\"ionizable_test\", index=False)\n",
    "\n",
    "    neutral_train.to_excel(writer, sheet_name=\"neutral_train\", index=False)\n",
    "    neutral_test.to_excel(writer, sheet_name=\"neutral_test\", index=False)\n",
    "\n"
   ],
   "metadata": {
    "collapsed": false
   }
  },
  {
   "cell_type": "code",
   "execution_count": null,
   "outputs": [],
   "source": [
    "from sklearn.preprocessing import StandardScaler\n",
    "\n",
    "\n",
    "def Corr_list_with_output(df, target=0.5):\n",
    "    cor = df.corr()      # Using Pearson Correlation\n",
    "    cor_target = abs(cor['Log_MP_RATIO'])\n",
    "    #Selecting highly correlated features\n",
    "    features = cor_target[cor_target>target]\n",
    "    return features\n",
    "\n",
    "# unfiltered_full_train = pd.DataFrame(StandardScaler().fit_transform(unfiltered_full_train), columns = unfiltered_full_train.columns)\n",
    "unfiltered_full_train\n",
    "# # y = full_train.corrwith(full_train[\"Log_MP_RATIO\"], method=\"pearson\").abs()\n",
    "# y = Corr_list_with_output(unfiltered_full_train, target=0.5)\n",
    "# # correlated_to_y = full_train[y.index]\n",
    "# # correlated_to_y\n",
    "# y"
   ],
   "metadata": {
    "collapsed": false
   }
  }
 ],
 "metadata": {
  "kernelspec": {
   "display_name": "Python 3",
   "language": "python",
   "name": "python3"
  },
  "language_info": {
   "codemirror_mode": {
    "name": "ipython",
    "version": 2
   },
   "file_extension": ".py",
   "mimetype": "text/x-python",
   "name": "python",
   "nbconvert_exporter": "python",
   "pygments_lexer": "ipython2",
   "version": "2.7.6"
  }
 },
 "nbformat": 4,
 "nbformat_minor": 0
}
