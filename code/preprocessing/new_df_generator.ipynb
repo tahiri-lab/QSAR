{
 "cells": [
  {
   "cell_type": "code",
   "execution_count": 93,
   "metadata": {
    "collapsed": true,
    "ExecuteTime": {
     "end_time": "2023-06-10T22:17:02.314198563Z",
     "start_time": "2023-06-10T22:17:02.262922209Z"
    }
   },
   "outputs": [],
   "source": [
    "import pandas as pd\n",
    "import warnings\n",
    "from itertools import combinations, permutations"
   ]
  },
  {
   "cell_type": "code",
   "execution_count": 94,
   "outputs": [
    {
     "name": "stdout",
     "output_type": "stream",
     "text": [
      "======  full  =======\n",
      "\t>>> Before:  (184, 497)\n",
      "\t>>> After:  (183, 480)\n",
      "======  neutral  =======\n",
      "\t>>> Before:  (111, 490)\n",
      "\t>>> After:  (111, 480)\n",
      "======  ionizable  =======\n",
      "\t>>> Before:  (72, 490)\n",
      "\t>>> After:  (72, 480)\n",
      "======  charged verif  =======\n",
      "\t>>> Before:  (72, 497)\n",
      "\t>>> After:  (72, 480)\n",
      "======  neutral verif  =======\n",
      "\t>>> Before:  (111, 497)\n",
      "\t>>> After:  (111, 480)\n"
     ]
    }
   ],
   "source": [
    "excel_sheet = pd.read_excel(\"../../Data/milk_plasma_all_data_mrg_020821_v3.xlsx\", sheet_name=[0, 1, 2])\n",
    "full_sheet = excel_sheet[0].copy()\n",
    "neutral_sheet = excel_sheet[1].copy()\n",
    "ionizable_sheet = excel_sheet[2].copy()\n",
    "ionizable_full_sheet: pd.DataFrame = full_sheet.loc[full_sheet[\"CHARGED\"] == 1].copy()\n",
    "neutral_full_sheet: pd.DataFrame = full_sheet.loc[full_sheet[\"neutral\"] == 1].copy()\n",
    "\n",
    "\n",
    "# df['your_column_name'].isin([\"Log_MP_RATIO\"]).value_counts()\n",
    "\n",
    "\n",
    "df_dict: dict = {\"full\": full_sheet,\n",
    "                 \"neutral\": neutral_sheet,\n",
    "                 \"ionizable\": ionizable_sheet,\n",
    "                 \"charged verif\":ionizable_full_sheet,\n",
    "                 \"neutral verif\": neutral_full_sheet\n",
    "                 }\n",
    "for key, value in df_dict.items():\n",
    "    print(\"====== \", key, \" =======\")\n",
    "    print(\"\\t>>> Before: \", value.shape)\n",
    "    # Drop rows with NaN\n",
    "    value.dropna(axis=0, inplace=True)\n",
    "    # Drop non numerical cols\n",
    "    non_numerical_cols_to_drop = [c for c in value.select_dtypes(exclude=\"number\").columns if c != \"set\"]\n",
    "    value.drop(columns=non_numerical_cols_to_drop, inplace=True)\n",
    "    # Remove all estimated cols\n",
    "    cols_to_remove: list = [c for c in value.columns if '$' in c]\n",
    "    value.drop(columns=cols_to_remove, inplace=True)\n",
    "    # Drop non informative column\n",
    "    non_informative_cols = [\"index\", \"smiles\", \"conc\",   \"name\",   \"CLASS\", \"ENV_CHEM\",  \"MP_RATIO\", \"FP:MACCS\", \"neutral\",\t\"TEST\",\t\"CHARGED\", \"group\"]\n",
    "    non_informative_cols = [c for c in value.columns if c in non_informative_cols]\n",
    "    value.drop(columns=non_informative_cols, inplace=True)\n",
    "    print(\"\\t>>> After: \", value.shape)\n",
    "\n",
    "# Checking we have the right amount of features\n",
    "for key, value in df_dict.items():\n",
    "    if value.shape[1] != 480:\n",
    "        warnings.warn(key, \" has not the right feature count\\n\\texpected: \", 480, \"\\n\\tactual: \", value.shape[1])"
   ],
   "metadata": {
    "collapsed": false,
    "ExecuteTime": {
     "end_time": "2023-06-10T22:17:04.079326416Z",
     "start_time": "2023-06-10T22:17:02.305609552Z"
    }
   }
  },
  {
   "cell_type": "code",
   "execution_count": 95,
   "outputs": [
    {
     "name": "stdout",
     "output_type": "stream",
     "text": [
      "full is partially in neutral\n",
      "full is partially in ionizable\n",
      "full is partially in charged verif\n",
      "full is partially in neutral verif\n",
      "neutral  is fully in  full\n",
      "neutral is partially in ionizable\n",
      "neutral is partially in charged verif\n",
      "neutral  is fully in  neutral verif\n",
      "ionizable  is fully in  full\n",
      "ionizable is partially in neutral\n",
      "ionizable  is fully in  charged verif\n",
      "ionizable is partially in neutral verif\n",
      "charged verif  is fully in  full\n",
      "charged verif is partially in neutral\n",
      "charged verif  is fully in  ionizable\n",
      "charged verif is partially in neutral verif\n",
      "neutral verif  is fully in  full\n",
      "neutral verif  is fully in  neutral\n",
      "neutral verif is partially in ionizable\n",
      "neutral verif is partially in charged verif\n"
     ]
    }
   ],
   "source": [
    "comb_list = permutations(df_dict, 2)\n",
    "\n",
    "for df_name in list(comb_list):\n",
    "    correlation = df_dict[df_name[0]][\"Log_MP_RATIO\"].isin(df_dict[df_name[1]][\"Log_MP_RATIO\"]).value_counts().index.tolist()\n",
    "    if len(correlation) > 1:\n",
    "        print(df_name[0], \"is partially in\", df_name[1])\n",
    "    elif True in correlation:\n",
    "        print(df_name[0], \" is fully in \", df_name[1])"
   ],
   "metadata": {
    "collapsed": false,
    "ExecuteTime": {
     "end_time": "2023-06-10T22:17:04.094767437Z",
     "start_time": "2023-06-10T22:17:04.085088665Z"
    }
   }
  },
  {
   "cell_type": "code",
   "execution_count": 96,
   "outputs": [
    {
     "name": "stdout",
     "output_type": "stream",
     "text": [
      "Shape of:\n",
      "\tfull\t\t:\t (183, 359) \n",
      "\tionizable\t:\t (72, 345) \n",
      "\tneutral\t\t:\t (111, 333)\n"
     ]
    }
   ],
   "source": [
    "from feature_selector import *\n",
    "\n",
    "FS_full = FeatureSelector(df_dict[\"full\"], cols_to_ignore=[\"set\"]).transform()\n",
    "FS_ionizable = FeatureSelector(df_dict[\"ionizable\"], cols_to_ignore=[\"set\"]).transform()\n",
    "FS_neutral = FeatureSelector(df_dict[\"neutral\"], cols_to_ignore=[\"set\"]).transform()\n",
    "\n",
    "print(\"Shape of:\\n\\tfull\\t\\t:\\t\", FS_full.shape,\"\\n\\tionizable\\t:\\t\", FS_ionizable.shape, \"\\n\\tneutral\\t\\t:\\t\", FS_neutral.shape)"
   ],
   "metadata": {
    "collapsed": false,
    "ExecuteTime": {
     "end_time": "2023-06-10T22:19:03.852296315Z",
     "start_time": "2023-06-10T22:17:04.094207234Z"
    }
   }
  },
  {
   "cell_type": "code",
   "execution_count": 97,
   "outputs": [
    {
     "name": "stdout",
     "output_type": "stream",
     "text": [
      "===== FULL =====\n",
      "\tTrain:\t (146, 358) \n",
      "\tTest:\t (37, 358)\n",
      "===== IONIZABLE =====\n",
      "\tTrain:\t (58, 344) \n",
      "\tTest:\t (14, 344)\n",
      "===== NEUTRAL =====\n",
      "\tTrain:\t (89, 332) \n",
      "\tTest:\t (22, 332)\n",
      "===== CHECK IF TESTS ARE IN OTHER DATAFRAMES =====\n",
      "\t>>>ionizable test in full train\n",
      "\t\t Log_MP_RATIO\n",
      "False    14\n",
      "Name: count, dtype: int64\n",
      "\t>>>neutral test in full train\n",
      "\t\t Log_MP_RATIO\n",
      "False    22\n",
      "Name: count, dtype: int64\n",
      "\t>>>full test in ionizable train\n",
      "\t\t Log_MP_RATIO\n",
      "False    37\n",
      "Name: count, dtype: int64\n",
      "\t>>>full test in ionizable train\n",
      "\t\t Log_MP_RATIO\n",
      "False    37\n",
      "Name: count, dtype: int64\n"
     ]
    }
   ],
   "source": [
    "# Separating test and train\n",
    "full_train: pd.DataFrame = FS_full.loc[FS_full[\"set\"] == \"TRAINING\"].copy().drop(columns=[\"set\"])\n",
    "full_test: pd.DataFrame = FS_full.loc[FS_full[\"set\"] == \"TEST\"].copy().drop(columns=[\"set\"])\n",
    "\n",
    "# Ionized\n",
    "ionizable_train: pd.DataFrame = FS_ionizable.loc[FS_ionizable[\"set\"] == \"TRAINING\"].copy().drop(columns=[\"set\"])\n",
    "ionizable_test: pd.DataFrame = FS_ionizable.loc[FS_ionizable[\"set\"] == \"TEST\"].copy().drop(columns=[\"set\"])\n",
    "\n",
    "# Neutral\n",
    "neutral_train: pd.DataFrame = FS_neutral.loc[FS_neutral[\"set\"] == \"TRAINING\"].copy().drop(columns=[\"set\"])\n",
    "neutral_test: pd.DataFrame = FS_neutral.loc[FS_neutral[\"set\"] == \"TEST\"].copy().drop(columns=[\"set\"])\n",
    "\n",
    "\n",
    "print(\"===== FULL =====\\n\\tTrain:\\t\", full_train.shape, \"\\n\\tTest:\\t\", full_test.shape)\n",
    "print(\"===== IONIZABLE =====\\n\\tTrain:\\t\", ionizable_train.shape, \"\\n\\tTest:\\t\", ionizable_test.shape)\n",
    "print(\"===== NEUTRAL =====\\n\\tTrain:\\t\", neutral_train.shape, \"\\n\\tTest:\\t\", neutral_test.shape)\n",
    "\n",
    "print(\"===== CHECK IF TESTS ARE IN OTHER DATAFRAMES =====\")\n",
    "print(\"\\t>>>ionizable test in full train\\n\\t\\t\", ionizable_test.isin(full_train[\"Log_MP_RATIO\"]).value_counts(\"Log_MP_RATIO\"))\n",
    "print(\"\\t>>>neutral test in full train\\n\\t\\t\", neutral_test.isin(full_train[\"Log_MP_RATIO\"]).value_counts(\"Log_MP_RATIO\"))\n",
    "print(\"\\t>>>full test in ionizable train\\n\\t\\t\", full_test.isin(ionizable_train[\"Log_MP_RATIO\"]).value_counts(\"Log_MP_RATIO\"))\n",
    "print(\"\\t>>>full test in ionizable train\\n\\t\\t\", full_test.isin(neutral_train[\"Log_MP_RATIO\"]).value_counts(\"Log_MP_RATIO\"))"
   ],
   "metadata": {
    "collapsed": false,
    "ExecuteTime": {
     "end_time": "2023-06-10T22:19:03.912805400Z",
     "start_time": "2023-06-10T22:19:03.857540828Z"
    }
   }
  },
  {
   "cell_type": "code",
   "execution_count": 100,
   "outputs": [
    {
     "name": "stdout",
     "output_type": "stream",
     "text": [
      "Shape of unfiltered:\n",
      "\tfull\n",
      "\t\tTrain\t:\t (146, 479) \n",
      "\t\tTest\t:\t (37, 479) \n",
      "\tionizable\n",
      "\t\tTrain\t:\t (58, 479) \n",
      "\t\tTest\t:\t (14, 344) \n",
      "\tneutral\n",
      "\t\tTrain\t:\t (89, 332) \n",
      "\t\tTest\t:\t (22, 332)\n",
      "===== CHECK IF UNFILTERED TESTS ARE IN OTHER DATAFRAMES =====\n",
      "\t>>>ionizable test in full train\n",
      "\t\t Log_MP_RATIO\n",
      "False    14\n",
      "Name: count, dtype: int64\n",
      "\t>>>neutral test in full train\n",
      "\t\t Log_MP_RATIO\n",
      "False    22\n",
      "Name: count, dtype: int64\n",
      "\t>>>full test in ionizable train\n",
      "\t\t Log_MP_RATIO\n",
      "False    37\n",
      "Name: count, dtype: int64\n",
      "\t>>>full test in ionizable train\n",
      "\t\t Log_MP_RATIO\n",
      "False    37\n",
      "Name: count, dtype: int64\n"
     ]
    }
   ],
   "source": [
    "unfiltered_full_train = df_dict[\"full\"].loc[df_dict[\"full\"][\"set\"] == \"TRAINING\"].copy().drop(columns=[\"set\"])\n",
    "unfiltered_full_test = df_dict[\"full\"].loc[df_dict[\"full\"][\"set\"] == \"TEST\"].copy().drop(columns=[\"set\"])\n",
    "\n",
    "unfiltered_ionizable_train = df_dict[\"ionizable\"].loc[df_dict[\"ionizable\"][\"set\"] == \"TRAINING\"].copy().drop(columns=[\"set\"])\n",
    "unfiltered_ionizable_test = df_dict[\"ionizable\"].loc[df_dict[\"ionizable\"][\"set\"] == \"TEST\"].copy().drop(columns=[\"set\"])\n",
    "\n",
    "unfiltered_neutral_train = df_dict[\"neutral\"].loc[df_dict[\"neutral\"][\"set\"] == \"TRAINING\"].copy().drop(columns=[\"set\"])\n",
    "unfiltered_neutral_test = df_dict[\"neutral\"].loc[df_dict[\"neutral\"][\"set\"] == \"TEST\"].copy().drop(columns=[\"set\"])\n",
    "\n",
    "\n",
    "print(\"Shape of unfiltered:\"\n",
    "      \"\\n\\tfull\\n\\t\\tTrain\\t:\\t\", unfiltered_full_train.shape,\"\\n\\t\\tTest\\t:\\t\", unfiltered_full_test.shape,\n",
    "      \"\\n\\tionizable\\n\\t\\tTrain\\t:\\t\", unfiltered_ionizable_train.shape,\"\\n\\t\\tTest\\t:\\t\", ionizable_test.shape,\n",
    "      \"\\n\\tneutral\\n\\t\\tTrain\\t:\\t\", neutral_train.shape,\"\\n\\t\\tTest\\t:\\t\", neutral_test.shape,\n",
    "      )\n",
    "\n",
    "print(\"===== CHECK IF UNFILTERED TESTS ARE IN OTHER DATAFRAMES =====\")\n",
    "print(\"\\t>>>ionizable test in full train\\n\\t\\t\", unfiltered_ionizable_test.isin(unfiltered_full_train[\"Log_MP_RATIO\"]).value_counts(\"Log_MP_RATIO\"))\n",
    "print(\"\\t>>>neutral test in full train\\n\\t\\t\", unfiltered_neutral_test.isin(unfiltered_neutral_train[\"Log_MP_RATIO\"]).value_counts(\"Log_MP_RATIO\"))\n",
    "print(\"\\t>>>full test in ionizable train\\n\\t\\t\", unfiltered_full_test.isin(unfiltered_full_train[\"Log_MP_RATIO\"]).value_counts(\"Log_MP_RATIO\"))\n",
    "print(\"\\t>>>full test in ionizable train\\n\\t\\t\", unfiltered_full_test.isin(unfiltered_full_train[\"Log_MP_RATIO\"]).value_counts(\"Log_MP_RATIO\"))\n",
    "\n",
    "with pd.ExcelWriter(\"unfiltered_data.xlsx\") as writer:\n",
    "    unfiltered_full_train.to_excel(writer, sheet_name=\"full_train\", index=False)\n",
    "    unfiltered_full_test.to_excel(writer, sheet_name=\"full_test\", index=False)\n",
    "\n",
    "    unfiltered_ionizable_train.to_excel(writer, sheet_name=\"ionizable_train\", index=False)\n",
    "    unfiltered_ionizable_test.to_excel(writer, sheet_name=\"ionizable_test\", index=False)\n",
    "\n",
    "    unfiltered_neutral_train.to_excel(writer, sheet_name=\"neutral_train\", index=False)\n",
    "    unfiltered_neutral_test.to_excel(writer, sheet_name=\"neutral_train\", index=False)\n",
    "\n",
    "\n",
    "with pd.ExcelWriter(\"filtered_data.xlsx\") as writer:\n",
    "    full_train.to_excel(writer, sheet_name=\"full_train\", index=False)\n",
    "    full_test.to_excel(writer, sheet_name=\"full_test\", index=False)\n",
    "\n",
    "    ionizable_train.to_excel(writer, sheet_name=\"ionizable_train\", index=False)\n",
    "    ionizable_test.to_excel(writer, sheet_name=\"ionizable_test\", index=False)\n",
    "\n",
    "    neutral_train.to_excel(writer, sheet_name=\"neutral_train\", index=False)\n",
    "    neutral_test.to_excel(writer, sheet_name=\"neutral_test\", index=False)\n",
    "\n"
   ],
   "metadata": {
    "collapsed": false,
    "ExecuteTime": {
     "end_time": "2023-06-10T22:22:02.253357404Z",
     "start_time": "2023-06-10T22:21:57.911170192Z"
    }
   }
  }
 ],
 "metadata": {
  "kernelspec": {
   "display_name": "Python 3",
   "language": "python",
   "name": "python3"
  },
  "language_info": {
   "codemirror_mode": {
    "name": "ipython",
    "version": 2
   },
   "file_extension": ".py",
   "mimetype": "text/x-python",
   "name": "python",
   "nbconvert_exporter": "python",
   "pygments_lexer": "ipython2",
   "version": "2.7.6"
  }
 },
 "nbformat": 4,
 "nbformat_minor": 0
}
