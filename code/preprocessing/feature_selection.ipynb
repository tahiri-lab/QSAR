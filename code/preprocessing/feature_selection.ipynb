{
 "cells": [
  {
   "cell_type": "code",
   "execution_count": 1,
   "outputs": [],
   "source": [
    "from feature_selector import *\n",
    "\n",
    "import pandas as pd\n",
    "import numpy as np\n",
    "import seaborn as sns\n",
    "\n",
    "from scipy.spatial import distance\n",
    "from scipy.cluster import hierarchy\n",
    "\n",
    "import matplotlib.pyplot as plt\n",
    "\n",
    "from sklearn.preprocessing import OneHotEncoder\n",
    "from sklearn.compose import make_column_transformer"
   ],
   "metadata": {
    "collapsed": false,
    "ExecuteTime": {
     "end_time": "2023-05-26T14:55:57.502366172Z",
     "start_time": "2023-05-26T14:55:57.321654653Z"
    }
   }
  },
  {
   "cell_type": "code",
   "execution_count": 2,
   "outputs": [
    {
     "name": "stdout",
     "output_type": "stream",
     "text": [
      "         apol       ASA      ASA+      ASA-     ASA_H     ASA_P    a_acc   \n",
      "0    0.039739  0.052654  0.051855  0.044585  0.048074  0.048610  0.05698  \\\n",
      "1    0.076320  0.075341  0.000000  0.150000  0.000000  0.231884  0.00000   \n",
      "2    0.053171  0.076801  0.015419  0.134993  0.000000  0.236377  0.05698   \n",
      "3    0.067034  0.081523  0.109528  0.035056  0.058578  0.112676  0.05698   \n",
      "4    0.014515  0.030469  0.028113  0.027999  0.026754  0.030642  0.02849   \n",
      "..        ...       ...       ...       ...       ...       ...      ...   \n",
      "141  0.064770  0.078362  0.028776  0.122582  0.102203  0.000000  0.00000   \n",
      "142  0.062131  0.075601  0.031786  0.113588  0.098601  0.000000  0.00000   \n",
      "143  0.064770  0.077528  0.028777  0.120921  0.101115  0.000000  0.00000   \n",
      "144  0.059492  0.072341  0.034204  0.104288  0.094350  0.000000  0.00000   \n",
      "145  0.063372  0.074162  0.021167  0.119882  0.094987  0.004104  0.00000   \n",
      "\n",
      "     a_acid     a_aro    a_base  ...  vsurf_Wp4  vsurf_Wp5  vsurf_Wp6   \n",
      "0       0.0  0.052650  0.000000  ...   0.071962   0.080694   0.088828  \\\n",
      "1       0.0  0.000000  0.000000  ...   0.000000   0.000000   0.000000   \n",
      "2       0.0  0.000000  0.000000  ...   0.106133   0.115277   0.136943   \n",
      "3       0.0  0.043875  0.219529  ...   0.171663   0.164532   0.148047   \n",
      "4       0.0  0.000000  0.000000  ...   0.020101   0.023055   0.022207   \n",
      "..      ...       ...       ...  ...        ...        ...        ...   \n",
      "141     0.0  0.105300  0.000000  ...   0.000000   0.000000   0.000000   \n",
      "142     0.0  0.105300  0.000000  ...   0.000000   0.000000   0.000000   \n",
      "143     0.0  0.105300  0.000000  ...   0.000000   0.000000   0.000000   \n",
      "144     0.0  0.105300  0.000000  ...   0.000000   0.000000   0.000000   \n",
      "145     0.0  0.114075  0.000000  ...   0.000000   0.000000   0.000000   \n",
      "\n",
      "     vsurf_Wp7  vsurf_Wp8    Weight  weinerPath  weinerPol    zagreb   \n",
      "0     0.000000        0.0  0.034133    0.006975   0.023926  0.035741  \\\n",
      "1     0.000000        0.0  0.123183    0.028574   0.169660  0.122948   \n",
      "2     0.023577        0.0  0.112705    0.078325   0.156609  0.117229   \n",
      "3     0.070730        0.0  0.057207    0.027901   0.039152  0.052896   \n",
      "4     0.000000        0.0  0.010402    0.000168   0.000000  0.004289   \n",
      "..         ...        ...       ...         ...        ...       ...   \n",
      "141   0.000000        0.0  0.088256    0.030759   0.084830  0.080059   \n",
      "142   0.000000        0.0  0.080479    0.027229   0.076130  0.075770   \n",
      "143   0.000000        0.0  0.088256    0.030717   0.084830  0.080059   \n",
      "144   0.000000        0.0  0.072701    0.023993   0.067429  0.071481   \n",
      "145   0.000000        0.0  0.084644    0.025716   0.080480  0.077200   \n",
      "\n",
      "     Log_MP_RATIO  \n",
      "0       -0.119186  \n",
      "1        0.363698  \n",
      "2        0.698970  \n",
      "3        0.761176  \n",
      "4       -0.050610  \n",
      "..            ...  \n",
      "141      0.606785  \n",
      "142      0.754503  \n",
      "143      0.553557  \n",
      "144      0.622817  \n",
      "145      0.518361  \n",
      "\n",
      "[146 rows x 479 columns]\n"
     ]
    }
   ],
   "source": [
    "df_ionizable_train: pd.DataFrame = pd.read_csv(\"../../Data/ionizable_dataset_72_train_divprio.csv\", delimiter=';')\n",
    "df_ionizable_test: pd.DataFrame = pd.read_csv(\"../../Data/ionizable_dataset_72_test_divprio.csv\", delimiter=';')\n",
    "\n",
    "\n",
    "FS_io_train: FeatureSelector = FeatureSelector(df_ionizable_train)\n",
    "FS_io_test: FeatureSelector = FeatureSelector(df_ionizable_train)\n",
    "\n",
    "FS_io_train.scale_data(inplace=True)\n",
    "FS_io_test.scale_data(inplace=True)\n",
    "\n",
    "\n",
    "df_neutral_train: pd.DataFrame = pd.read_csv(\"../../Data/neutral_dataset_111_train_divprio.csv\", delimiter=';')\n",
    "df_neutral_test: pd.DataFrame = pd.read_csv(\"../../Data/neutral_dataset_111_test_divprio.csv\", delimiter=';')\n",
    "\n",
    "FS_ne_train: FeatureSelector = FeatureSelector(df_neutral_train)\n",
    "FS_ne_test: FeatureSelector = FeatureSelector(df_neutral_test)\n",
    "\n",
    "FS_ne_train.scale_data(inplace=True)\n",
    "FS_ne_test.scale_data(inplace=True)\n",
    "\n",
    "df_full_train: pd.DataFrame = pd.read_csv(\"../../Data/full_dataset_train_divprio.csv\", delimiter=';')\n",
    "df_full_test: pd.DataFrame = pd.read_csv(\"../../Data/full_dataset_test_divprio.csv\", delimiter=';')\n",
    "\n",
    "\n",
    "FS_full_train: FeatureSelector = FeatureSelector(df_full_train)\n",
    "FS_full_test: FeatureSelector = FeatureSelector(df_full_test)\n",
    "\n",
    "FS_full_train.scale_data(inplace=True)\n",
    "print(FS_full_train.df)\n",
    "FS_full_test.scale_data(inplace=True)\n",
    "\n",
    "\n",
    "df_all =  [df_ionizable_train, df_ionizable_test, df_neutral_train, df_neutral_test, df_full_train, df_full_test]"
   ],
   "metadata": {
    "collapsed": false,
    "ExecuteTime": {
     "end_time": "2023-05-26T14:55:57.651863110Z",
     "start_time": "2023-05-26T14:55:57.509301778Z"
    }
   }
  },
  {
   "cell_type": "markdown",
   "source": [
    "# Low variance features\n",
    "We try to detect every feature that has a variance below the threshold"
   ],
   "metadata": {
    "collapsed": false
   }
  },
  {
   "cell_type": "markdown",
   "source": [
    "## IONIZABLE"
   ],
   "metadata": {
    "collapsed": false
   }
  },
  {
   "cell_type": "code",
   "execution_count": 3,
   "outputs": [
    {
     "data": {
      "text/plain": "0.0010069034753557255"
     },
     "execution_count": 3,
     "metadata": {},
     "output_type": "execute_result"
    }
   ],
   "source": [
    "FS_io_train.df.loc[:, FS_io_train.df.columns != \"Log_MP_RATIO\"].var(axis=1).mean() * 0.1"
   ],
   "metadata": {
    "collapsed": false,
    "ExecuteTime": {
     "end_time": "2023-05-26T14:55:57.662681062Z",
     "start_time": "2023-05-26T14:55:57.655392142Z"
    }
   }
  },
  {
   "cell_type": "code",
   "execution_count": 4,
   "outputs": [
    {
     "name": "stdout",
     "output_type": "stream",
     "text": [
      "===== TRAIN =====\n",
      "===== TEST =====\n",
      "{'MACCS(-30)', 'a_nBr', 'density', 'petitjeanSC', 'MACCS(-26)', 'vsurf_Wp8', 'GCUT_PEOE_1', 'MACCS(-20)', 'BCUT_SLOGP_3', 'GCUT_SLOGP_3', 'vsurf_EDmin2', 'MACCS(-40)', 'MACCS(--4)', 'MACCS(-39)', 'vsurf_R', 'MACCS(-21)', 'MACCS(-16)', 'MACCS(-22)', 'MACCS(-15)', 'MACCS(-44)', 'MACCS(-49)', 'MACCS(166)', 'GCUT_PEOE_0', 'BCUT_PEOE_0', 'MACCS(-31)', 'vsurf_EDmin3', 'MACCS(-23)', 'MACCS(-35)', 'vsurf_EDmin1', 'MACCS(-10)', 'VDistEq', 'a_ICM', 'BCUT_SMR_0', 'E_stb', 'MACCS(--9)', 'vsurf_CW2', 'nmol', 'MACCS(--6)', 'GCUT_SMR_3', 'MACCS(--5)', 'MACCS(-12)', 'npr2', 'GCUT_SMR_0', 'MACCS(-17)', 'VDistMa', 'GCUT_SMR_1', 'a_nB', 'vsurf_G', 'GCUT_PEOE_3', 'a_nP', 'VAdjMa', 'BCUT_PEOE_3', 'MACCS(-27)', 'MACCS(--2)', 'MACCS(-18)', 'BCUT_SMR_3', 'a_nI', 'MACCS(-68)', 'MACCS(-48)', 'petitjean', 'MACCS(-29)', 'MACCS(--7)', 'MACCS(-69)', 'MACCS(--1)', 'MACCS(-64)', 'MACCS(-14)', 'BCUT_SLOGP_0', 'vsurf_CW1', 'MACCS(-46)', 'PEOE_VSA_FHYD', 'MACCS(--3)'}\n",
      "length of the feature with low variance that are common for train and test:  71\n"
     ]
    }
   ],
   "source": [
    "print(\"===== TRAIN =====\")\n",
    "df_ionizable_train_lv, col_ionizable_train_lv = FS_io_train.remove_low_variance(variance_threshold=0.05)\n",
    "print(\"===== TEST =====\")\n",
    "df_ionizable_test_lv, col_ionizable_test_lv = FS_io_test.remove_low_variance(variance_threshold=0.05)\n",
    "\n",
    "\n",
    "\n",
    "col_ionizable_lv: set = set(col_ionizable_train_lv) & set(col_ionizable_test_lv)\n",
    "print(col_ionizable_lv)\n",
    "print(\"length of the feature with low variance that are common for train and test: \", len(col_ionizable_lv))\n",
    "\n",
    "\n",
    "\n",
    "df_ionizable_train = df_ionizable_train.drop(list(col_ionizable_lv), axis=1)\n",
    "df_ionizable_test = df_ionizable_test.drop(list(col_ionizable_lv), axis=1)"
   ],
   "metadata": {
    "collapsed": false,
    "ExecuteTime": {
     "end_time": "2023-05-26T14:55:57.752181543Z",
     "start_time": "2023-05-26T14:55:57.708223841Z"
    }
   }
  },
  {
   "cell_type": "markdown",
   "source": [
    "## NEUTRAL"
   ],
   "metadata": {
    "collapsed": false
   }
  },
  {
   "cell_type": "code",
   "execution_count": 5,
   "outputs": [
    {
     "name": "stdout",
     "output_type": "stream",
     "text": [
      "===== TRAIN =====\n",
      "===== TEST =====\n",
      "{'MACCS(-30)', 'h_pKa', 'GCUT_PEOE_1', 'MACCS(-20)', 'BCUT_SLOGP_3', 'GCUT_SLOGP_3', 'vsurf_EDmin2', 'MACCS(-40)', 'MACCS(--4)', 'MACCS(-39)', 'vsurf_R', 'MACCS(-15)', 'MACCS(166)', 'MACCS(-44)', 'MACCS(-49)', 'GCUT_PEOE_0', 'BCUT_PEOE_0', 'MACCS(-13)', 'MACCS(-24)', 'MACCS(-31)', 'MACCS(-35)', 'vsurf_EDmin1', 'vsurf_EDmin3', 'MACCS(-10)', 'VDistEq', 'a_ICM', 'BCUT_SMR_0', 'E_stb', 'MACCS(--9)', 'vsurf_CW2', 'nmol', 'MACCS(--6)', 'GCUT_SMR_3', 'MACCS(--5)', 'MACCS(-12)', 'npr2', 'GCUT_SMR_0', 'VDistMa', 'FCharge', 'h_pKb', 'GCUT_PEOE_3', 'a_nP', 'vsurf_G', 'MACCS(-34)', 'std_dim2', 'VAdjMa', 'BCUT_PEOE_3', 'MACCS(-41)', 'MACCS(-27)', 'MACCS(--2)', 'MACCS(-18)', 'BCUT_SMR_3', 'a_nI', 'MACCS(-68)', 'MACCS(-48)', 'VAdjEq', 'MACCS(-29)', 'MACCS(--7)', 'MACCS(--1)', 'MACCS(-14)', 'BCUT_SLOGP_0', 'vsurf_CW1', 'a_nB', 'PEOE_VSA_FHYD', 'MACCS(--3)'}\n",
      "length of the feature that are common for train and test:  65\n"
     ]
    }
   ],
   "source": [
    "print(\"===== TRAIN =====\")\n",
    "df_neutral_train_lv, col_neutral_train_lv =FS_ne_train.remove_low_variance(variance_threshold=0.05)\n",
    "print(\"===== TEST =====\")\n",
    "df_neutral_test_lv, col_neutral_test_lv = FS_ne_test.remove_low_variance(variance_threshold=0.05)\n",
    "\n",
    "col_neutral_lv: set = set(col_neutral_train_lv) & set(col_neutral_test_lv)\n",
    "print(col_neutral_lv)\n",
    "print(\"length of the feature that are common for train and test: \", len(col_neutral_lv))\n",
    "\n",
    "df_neutral_train = df_neutral_train.drop(list(col_neutral_lv), axis=1)\n",
    "df_neutral_test = df_neutral_test.drop(list(col_neutral_lv), axis=1)"
   ],
   "metadata": {
    "collapsed": false,
    "ExecuteTime": {
     "end_time": "2023-05-26T14:55:57.819065868Z",
     "start_time": "2023-05-26T14:55:57.752012831Z"
    }
   }
  },
  {
   "cell_type": "markdown",
   "source": [
    "## FULL"
   ],
   "metadata": {
    "collapsed": false
   }
  },
  {
   "cell_type": "code",
   "execution_count": 6,
   "outputs": [
    {
     "name": "stdout",
     "output_type": "stream",
     "text": [
      "===== TRAIN =====\n",
      "===== TEST =====\n",
      "{'MACCS(-30)', 'GCUT_PEOE_1', 'MACCS(-20)', 'GCUT_SLOGP_3', 'BCUT_SLOGP_3', 'vsurf_EDmin2', 'MACCS(-40)', 'MACCS(--4)', 'MACCS(-39)', 'vsurf_R', 'MACCS(-15)', 'MACCS(166)', 'MACCS(-44)', 'GCUT_PEOE_0', 'BCUT_PEOE_0', 'MACCS(-31)', 'vsurf_EDmin3', 'MACCS(-35)', 'vsurf_EDmin1', 'MACCS(-10)', 'VDistEq', 'a_ICM', 'BCUT_SMR_0', 'E_stb', 'MACCS(--9)', 'vsurf_CW2', 'nmol', 'MACCS(--6)', 'GCUT_SMR_3', 'MACCS(--5)', 'MACCS(-12)', 'npr2', 'GCUT_SMR_0', 'VDistMa', 'h_pKb', 'GCUT_PEOE_3', 'a_nP', 'vsurf_G', 'VAdjMa', 'BCUT_PEOE_3', 'MACCS(-27)', 'MACCS(--2)', 'MACCS(-18)', 'BCUT_SMR_3', 'a_nI', 'MACCS(-68)', 'MACCS(-48)', 'petitjean', 'MACCS(-29)', 'MACCS(--7)', 'MACCS(--1)', 'MACCS(-14)', 'BCUT_SLOGP_0', 'vsurf_CW1', 'a_nB', 'PEOE_VSA_FHYD', 'MACCS(--3)'}\n",
      "length of the feature that are common for train and test:  57\n"
     ]
    }
   ],
   "source": [
    "print(\"===== TRAIN =====\")\n",
    "df_full_train_lv, col_full_train_lv = FS_full_train.remove_low_variance(variance_threshold=0.05)\n",
    "print(\"===== TEST =====\")\n",
    "df_full_test_lv, col_full_test_lv = FS_full_test.remove_low_variance(variance_threshold=0.05)\n",
    "\n",
    "col_full_lv: set = set(col_full_train_lv) & set(col_full_test_lv)\n",
    "print(col_full_lv)\n",
    "print(\"length of the feature that are common for train and test: \", len(col_full_lv))\n",
    "\n",
    "df_full_train = df_full_train.drop(list(col_full_lv), axis=1)\n",
    "df_full_test = df_full_test.drop(list(col_full_lv), axis=1)"
   ],
   "metadata": {
    "collapsed": false,
    "ExecuteTime": {
     "end_time": "2023-05-26T14:55:57.961684487Z",
     "start_time": "2023-05-26T14:55:57.815542563Z"
    }
   }
  },
  {
   "cell_type": "markdown",
   "source": [
    "# High correlation feature"
   ],
   "metadata": {
    "collapsed": false
   }
  },
  {
   "cell_type": "markdown",
   "source": [
    "## IONIZABLE"
   ],
   "metadata": {
    "collapsed": false
   }
  },
  {
   "cell_type": "code",
   "execution_count": 7,
   "outputs": [],
   "source": [
    "df_io_train_correlation: pd.DataFrame = FS_io_train.get_correlation(df_ionizable_train_lv)\n",
    "df_io_train_correlation = FS_io_train.remove_highly_correlated(df_io_train_correlation, df_ionizable_train_lv, threshold=0.9)\n",
    "\n",
    "df_io_test_correlation: pd.DataFrame = FS_io_test.get_correlation(df_ionizable_test_lv)\n",
    "df_io_test_correlation = FS_io_test.remove_highly_correlated(df_io_test_correlation, df_ionizable_test_lv, threshold=0.9)\n",
    "\n",
    "\n"
   ],
   "metadata": {
    "collapsed": false,
    "ExecuteTime": {
     "end_time": "2023-05-26T14:57:17.311132256Z",
     "start_time": "2023-05-26T14:55:57.908309256Z"
    }
   }
  },
  {
   "cell_type": "code",
   "execution_count": 13,
   "outputs": [
    {
     "name": "stdout",
     "output_type": "stream",
     "text": [
      "Number of features with strong correlations: \n",
      "Index(['E_nb', 'FASA-', 'FASA_P', 'FCharge', 'MACCS(-11)', 'MACCS(-33)',\n",
      "       'MACCS(-41)', 'MACCS(-42)', 'MACCS(-47)', 'MACCS(-51)', 'MACCS(-52)',\n",
      "       'MACCS(-55)', 'MACCS(-58)', 'MACCS(-60)', 'MACCS(-61)', 'MACCS(-63)',\n",
      "       'MACCS(-67)', 'MACCS(-70)', 'MACCS(-73)', 'MACCS(-76)', 'MACCS(-81)',\n",
      "       'MACCS(-88)', 'MACCS(-96)', 'MACCS(103)', 'MACCS(110)', 'MACCS(117)',\n",
      "       'MACCS(119)', 'MACCS(124)', 'MACCS(134)', 'MACCS(142)', 'MACCS(148)',\n",
      "       'MACCS(153)', 'MACCS(159)', 'MACCS(160)', 'MACCS(161)', 'MACCS(164)',\n",
      "       'PEOE_VSA_FPOS', 'Q_PC+', 'Q_PC-', 'Q_VSA_FPOL', 'Q_VSA_FPOS', 'RPC+',\n",
      "       'RPC-', 'SMR', 'VAdjEq', 'VSA', 'Weight', 'b_ar', 'b_count', 'b_heavy',\n",
      "       'b_rotN', 'chi0', 'chi0_C', 'chi1', 'h_pstrain', 'mr', 'opr_brigid',\n",
      "       'pmi2', 'pmi3', 'radius', 'rings', 'vdw_vol', 'vol', 'vsa_acid',\n",
      "       'vsurf_D2', 'vsurf_D3', 'vsurf_D4', 'vsurf_D5', 'vsurf_EWmin2',\n",
      "       'vsurf_EWmin3', 'vsurf_HL1', 'vsurf_HL2', 'vsurf_ID4', 'vsurf_ID5',\n",
      "       'vsurf_S', 'vsurf_V', 'vsurf_W6', 'vsurf_W7', 'vsurf_W8', 'vsurf_Wp5',\n",
      "       'weinerPath', 'zagreb'],\n",
      "      dtype='object')\n"
     ]
    }
   ],
   "source": [
    "# df_full_train_lv.loc[:,\"vsurf_Wp8\"]\n",
    "\n",
    "df_io_train_removed_feat =  df_ionizable_train_lv.columns.difference(df_io_train_correlation.columns)\n",
    "df_io_test_removed_feat =  df_ionizable_test_lv.columns.difference(df_io_test_correlation.columns)\n",
    "# io_feat_corr = np.intersect1d(df_io_train_removed_feat.columns, df_io_test_removed_feat.columns)\n",
    "print(\"Number of features with strong correlations: \", )\n",
    "print(df_io_train_removed_feat)"
   ],
   "metadata": {
    "collapsed": false,
    "ExecuteTime": {
     "end_time": "2023-05-26T15:00:45.272205627Z",
     "start_time": "2023-05-26T15:00:45.229948898Z"
    }
   }
  },
  {
   "cell_type": "markdown",
   "source": [
    "## Cluster analysis"
   ],
   "metadata": {
    "collapsed": false
   }
  },
  {
   "cell_type": "code",
   "execution_count": null,
   "outputs": [],
   "source": [
    "import pandas as pd\n",
    "from feature_selector import *\n",
    "\n",
    "d = {\"A\": [1,2,3,4], \"B\": [2,5,6,7], \"C\": [3,6,8,9], \"D\":[4,7,9,10]}\n",
    "df = pd.DataFrame(data=d, index=[\"A\", \"B\", \"C\", \"D\"])\n",
    "df\n",
    "\n",
    "FS = FeatureSelector(df)\n",
    "FS.remove_highly_correlated(df)"
   ],
   "metadata": {
    "collapsed": false
   }
  }
 ],
 "metadata": {
  "kernelspec": {
   "display_name": "Python 3",
   "language": "python",
   "name": "python3"
  },
  "language_info": {
   "codemirror_mode": {
    "name": "ipython",
    "version": 2
   },
   "file_extension": ".py",
   "mimetype": "text/x-python",
   "name": "python",
   "nbconvert_exporter": "python",
   "pygments_lexer": "ipython2",
   "version": "2.7.6"
  }
 },
 "nbformat": 4,
 "nbformat_minor": 0
}
