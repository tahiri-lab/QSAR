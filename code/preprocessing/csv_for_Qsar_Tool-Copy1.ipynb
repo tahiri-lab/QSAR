{
 "cells": [
  {
   "cell_type": "markdown",
   "id": "reserved-cocktail",
   "metadata": {},
   "source": [
    "# Preparing the input file for the Small Dataset Curator ()\n",
    "We need a csv file with: \n",
    "> First Row: Header names \\\n",
    "> First column: Chemical serial number (index) \\\n",
    "> Subsequent columns: Descriptors values \\\n",
    "> Last column:  Response values (Log_MP_RATIO) \\\n",
    "\n"
   ]
  },
  {
   "cell_type": "code",
   "execution_count": null,
   "id": "compliant-surfing",
   "metadata": {},
   "outputs": [],
   "source": [
    "import pandas as pd"
   ]
  },
  {
   "cell_type": "code",
   "execution_count": null,
   "id": "coordinated-latin",
   "metadata": {},
   "outputs": [],
   "source": [
    "#Import data to pandas dataframe and set the first column as index\n",
    "df = pd.read_excel ('milk_plasma_all_data_mrg_020821.xlsx')\n",
    "df.set_index('index', inplace=True)\n",
    "#number of rows, number of columns\n",
    "df.shape"
   ]
  },
  {
   "cell_type": "code",
   "execution_count": null,
   "id": "careful-implement",
   "metadata": {},
   "outputs": [],
   "source": [
    "#   * Drop the columns : 'smiles','conc','name','CLASS','MP_RATIO','Log_MP_RATIO', 'neutral','TEST','CHARGED','group','set''\n",
    "#   * Insert the column Log_MP_RATIO in the last position as needed\n",
    "\n",
    "new_df=df.drop(columns=['smiles','conc','name','CLASS','MP_RATIO','Log_MP_RATIO','neutral','TEST','CHARGED','group','set']).assign(Log_MP_RATIO=df['Log_MP_RATIO'])\n",
    "\n",
    "new_df"
   ]
  },
  {
   "cell_type": "code",
   "execution_count": null,
   "id": "electrical-inspiration",
   "metadata": {},
   "outputs": [],
   "source": [
    "#list of all the column names  containing '$' in the first position\n",
    "cols = [c for c in df.columns if c[0] == '$']\n",
    "\n",
    "print(cols)"
   ]
  },
  {
   "cell_type": "code",
   "execution_count": null,
   "id": "planned-parallel",
   "metadata": {},
   "outputs": [],
   "source": [
    "#   * Drop the columns starting with $\n",
    "\n",
    "new_df=new_df.drop(cols, axis=1)\n",
    "new_df"
   ]
  },
  {
   "cell_type": "code",
   "execution_count": null,
   "id": "coordinated-technical",
   "metadata": {},
   "outputs": [],
   "source": [
    "#Exporting pandas dataFrame to CSV\n",
    "new_df.to_csv('milk_plasma_data.csv', encoding='utf-8')"
   ]
  }
 ],
 "metadata": {
  "kernelspec": {
   "display_name": "Python 3",
   "language": "python",
   "name": "python3"
  },
  "language_info": {
   "codemirror_mode": {
    "name": "ipython",
    "version": 3
   },
   "file_extension": ".py",
   "mimetype": "text/x-python",
   "name": "python",
   "nbconvert_exporter": "python",
   "pygments_lexer": "ipython3",
   "version": "3.7.4"
  }
 },
 "nbformat": 4,
 "nbformat_minor": 5
}
