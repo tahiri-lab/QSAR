{
 "cells": [
  {
   "cell_type": "code",
   "execution_count": null,
   "metadata": {
    "collapsed": true
   },
   "outputs": [],
   "source": [
    "from optuna.visualization import plot_optimization_history\n",
    "\n",
    "from code.wrapper import utils\n",
    "\n",
    "import optuna\n",
    "\n",
    "import pandas as pd\n",
    "from sklearn.linear_model import ElasticNet\n"
   ]
  },
  {
   "cell_type": "code",
   "execution_count": null,
   "outputs": [],
   "source": [
    "from sklearn.preprocessing import RobustScaler, Normalizer\n",
    "# https://stackoverflow.com/a/23835410\n",
    "\n",
    "excel_sheet = pd.read_excel(\"../../Data/New/unfiltered_data.xlsx\", sheet_name=[\"full_train\", \"full_test\",\n",
    "                                                                            \"ionizable_train\", \"ionizable_test\",\n",
    "                                                                            \"neutral_train\", \"neutral_test\"])\n",
    "\n",
    "\n",
    "full_train: pd.DataFrame = excel_sheet[\"full_train\"]\n",
    "full_test: pd.DataFrame = excel_sheet[\"full_test\"]\n",
    "\n",
    "neutral_train: pd.DataFrame = excel_sheet[\"neutral_train\"]\n",
    "neutral_test: pd.DataFrame = excel_sheet[\"neutral_test\"]\n",
    "\n",
    "ionizable_train: pd.DataFrame = excel_sheet[\"ionizable_train\"]\n",
    "ionizable_test: pd.DataFrame = excel_sheet[\"ionizable_test\"]\n",
    "\n",
    "Scaler = RobustScaler()\n",
    "Norm = Normalizer()\n",
    "# TRAIN\n",
    "X_full_train = full_train.loc[:, full_train.columns != \"Log_MP_RATIO\"]\n",
    "y_full_train = full_train[\"Log_MP_RATIO\"]\n",
    "\n",
    "\n",
    "X_neutral_train = neutral_train.loc[:, neutral_train.columns != \"Log_MP_RATIO\"]\n",
    "y_neutral_train = neutral_train[\"Log_MP_RATIO\"]\n",
    "\n",
    "X_ionizable_train = ionizable_train.loc[:, ionizable_train.columns != \"Log_MP_RATIO\"]\n",
    "y_ionizable_train = ionizable_train[\"Log_MP_RATIO\"]\n",
    "# Scaler.fit(X_full_train)\n",
    "# X_full_train = pd.DataFrame(Scaler.transform(X_full_train), columns = X_full_train.columns)\n",
    "#\n",
    "# Norm.fit(X_full_train)\n",
    "# X_full_train = pd.DataFrame(Norm.transform(X_full_train), columns=X_full_train.columns)\n",
    "\n",
    "# TEST\n",
    "X_full_test = full_test.loc[:, full_test.columns != \"Log_MP_RATIO\"]\n",
    "y_full_test = full_test[\"Log_MP_RATIO\"]\n",
    "\n",
    "X_neutral_test = neutral_test.loc[:, neutral_test.columns != \"Log_MP_RATIO\"]\n",
    "y_neutral_test = neutral_test[\"Log_MP_RATIO\"]\n",
    "\n",
    "X_ionizable_test = ionizable_test.loc[:, ionizable_test.columns != \"Log_MP_RATIO\"]\n",
    "y_ionizable_test = ionizable_test[\"Log_MP_RATIO\"]\n",
    "#\n",
    "# Scaler.fit(X_full_test)\n",
    "# X_full_test = pd.DataFrame(Scaler.transform(X_full_test), columns = X_full_test.columns)\n",
    "#\n",
    "# Norm.fit(X_full_test)\n",
    "# X_full_test = pd.DataFrame(Norm.transform(X_full_test), columns=X_full_test.columns)"
   ],
   "metadata": {
    "collapsed": false
   }
  },
  {
   "cell_type": "markdown",
   "source": [
    "# Full"
   ],
   "metadata": {
    "collapsed": false
   }
  },
  {
   "cell_type": "code",
   "execution_count": null,
   "outputs": [],
   "source": [
    "test_utils = utils.Utils(full_train)\n",
    "test_utils.create_cv_folds(display=True)\n",
    "test_utils.display_score(ElasticNet(max_iter=100000, random_state=0), X_full_train, y_full_train, X_full_test, y_full_test)"
   ],
   "metadata": {
    "collapsed": false
   }
  },
  {
   "cell_type": "code",
   "execution_count": null,
   "outputs": [],
   "source": [
    "def objective(trial):\n",
    "    alpha = trial.suggest_float('alpha', 1e-10, 1e10, log=True)\n",
    "\n",
    "    l1_ratio = trial.suggest_float('l1_ratio', 1e-10, 1, log=True)\n",
    "\n",
    "\n",
    "    clf = ElasticNet(max_iter=100000, alpha=alpha, l1_ratio=l1_ratio, random_state=0)\n",
    "\n",
    "    # n_ft = trial.suggest_int('n_ft', 1, 10, log=True)\n",
    "    # clf = RFE(Ridge(max_iter=100000, alpha=alpha, solver=solver), n_features_to_select=n_ft)\n",
    "\n",
    "    estimator = utils.Utils(full_train)\n",
    "    return estimator.cross_value_score(clf)\n",
    "\n",
    "\n",
    "study = optuna.create_study(direction='maximize')\n",
    "study.optimize(objective, n_trials=1000, n_jobs=-1, show_progress_bar=True)\n",
    "trial = study.best_trial\n",
    "print(trial.value, trial.params)"
   ],
   "metadata": {
    "collapsed": false
   }
  },
  {
   "cell_type": "code",
   "execution_count": null,
   "outputs": [],
   "source": [
    "test_utils.display_score(ElasticNet(**study.best_params, random_state=0, max_iter=100000), X_full_train, y_full_train, X_full_test, y_full_test)\n",
    "display(plot_optimization_history(study))\n",
    "\n",
    "rr = ElasticNet(**study.best_params, random_state=0, max_iter=100000).fit(X_full_train, y_full_train)\n",
    "y_full_train_pred = rr.predict(X_full_train)\n",
    "y_full_test_pred = rr.predict(X_full_test)\n",
    "\n",
    "test_utils.display_graph(rr, X_full_train, X_full_test, y_full_train, y_full_test)"
   ],
   "metadata": {
    "collapsed": false
   }
  },
  {
   "cell_type": "markdown",
   "source": [
    "# Ionizable"
   ],
   "metadata": {
    "collapsed": false
   }
  },
  {
   "cell_type": "code",
   "execution_count": null,
   "outputs": [],
   "source": [
    "test_utils = utils.Utils(ionizable_train)\n",
    "test_utils.create_cv_folds(display=True)\n",
    "test_utils.display_score(ElasticNet(max_iter=100000, random_state=0), X_ionizable_train, y_ionizable_train, X_ionizable_test, y_ionizable_test)"
   ],
   "metadata": {
    "collapsed": false
   }
  },
  {
   "cell_type": "code",
   "execution_count": null,
   "outputs": [],
   "source": [
    "def objective(trial):\n",
    "    alpha = trial.suggest_float('alpha', 1e-10, 1e10, log=True)\n",
    "\n",
    "    l1_ratio = trial.suggest_float('l1_ratio', 1e-10, 1, log=True)\n",
    "\n",
    "\n",
    "    clf = ElasticNet(max_iter=100000, alpha=alpha, l1_ratio=l1_ratio, random_state=0)\n",
    "\n",
    "    # n_ft = trial.suggest_int('n_ft', 1, 10, log=True)\n",
    "    # clf = RFE(Ridge(max_iter=100000, alpha=alpha, solver=solver), n_features_to_select=n_ft)\n",
    "\n",
    "    estimator = utils.Utils(ionizable_train)\n",
    "    return estimator.cross_value_score(clf)\n",
    "\n",
    "\n",
    "study = optuna.create_study(direction='maximize')\n",
    "study.optimize(objective, n_trials=1000, n_jobs=-1, show_progress_bar=True)\n",
    "trial = study.best_trial\n",
    "print(trial.value, trial.params)"
   ],
   "metadata": {
    "collapsed": false
   }
  },
  {
   "cell_type": "code",
   "execution_count": null,
   "outputs": [],
   "source": [
    "test_utils.display_score(ElasticNet(**study.best_params, random_state=0, max_iter=100000), X_ionizable_train, y_ionizable_train, X_ionizable_test, y_ionizable_test)\n",
    "display(plot_optimization_history(study))\n",
    "\n",
    "rr = ElasticNet(**study.best_params, random_state=0, max_iter=100000).fit(X_ionizable_train, y_ionizable_train)\n",
    "y_ionizable_train_pred = rr.predict(X_ionizable_train)\n",
    "y_ionizable_test_pred = rr.predict(X_ionizable_test)\n",
    "\n",
    "test_utils.display_graph(rr, X_ionizable_train, X_ionizable_test, y_ionizable_train, y_ionizable_test)"
   ],
   "metadata": {
    "collapsed": false
   }
  },
  {
   "cell_type": "markdown",
   "source": [
    "# Neutral"
   ],
   "metadata": {
    "collapsed": false
   }
  },
  {
   "cell_type": "code",
   "execution_count": null,
   "outputs": [],
   "source": [
    "test_utils = utils.Utils(neutral_train)\n",
    "test_utils.create_cv_folds(display=True)\n",
    "test_utils.display_score(ElasticNet(max_iter=100000, random_state=0), X_neutral_train, y_neutral_train, X_neutral_test, y_neutral_test)"
   ],
   "metadata": {
    "collapsed": false
   }
  },
  {
   "cell_type": "code",
   "execution_count": null,
   "outputs": [],
   "source": [
    "def objective(trial):\n",
    "    alpha = trial.suggest_float('alpha', 1e-10, 1e10, log=True)\n",
    "\n",
    "    l1_ratio = trial.suggest_float('l1_ratio', 1e-10, 1, log=True)\n",
    "\n",
    "\n",
    "    clf = ElasticNet(max_iter=100000, alpha=alpha, l1_ratio=l1_ratio, random_state=0)\n",
    "\n",
    "    # n_ft = trial.suggest_int('n_ft', 1, 10, log=True)\n",
    "    # clf = RFE(Ridge(max_iter=100000, alpha=alpha, solver=solver), n_features_to_select=n_ft)\n",
    "\n",
    "    estimator = utils.Utils(neutral_train)\n",
    "    return estimator.cross_value_score(clf)\n",
    "\n",
    "\n",
    "study = optuna.create_study(direction='maximize')\n",
    "study.optimize(objective, n_trials=1000, n_jobs=-1, show_progress_bar=True)\n",
    "trial = study.best_trial\n",
    "print(trial.value, trial.params)"
   ],
   "metadata": {
    "collapsed": false
   }
  },
  {
   "cell_type": "code",
   "execution_count": null,
   "outputs": [],
   "source": [
    "test_utils.display_score(ElasticNet(**study.best_params, random_state=0, max_iter=100000), X_neutral_train, y_neutral_train, X_neutral_test, y_neutral_test)\n",
    "display(plot_optimization_history(study))\n",
    "\n",
    "rr = ElasticNet(**study.best_params, random_state=0, max_iter=100000).fit(X_neutral_train, y_neutral_train)\n",
    "y_neutral_train_pred = rr.predict(X_neutral_train)\n",
    "y_neutral_test_pred = rr.predict(X_neutral_test)\n",
    "\n",
    "test_utils.display_graph(rr, X_neutral_train, X_neutral_test, y_neutral_train, y_neutral_test)"
   ],
   "metadata": {
    "collapsed": false
   }
  }
 ],
 "metadata": {
  "kernelspec": {
   "display_name": "Python 3",
   "language": "python",
   "name": "python3"
  },
  "language_info": {
   "codemirror_mode": {
    "name": "ipython",
    "version": 2
   },
   "file_extension": ".py",
   "mimetype": "text/x-python",
   "name": "python",
   "nbconvert_exporter": "python",
   "pygments_lexer": "ipython2",
   "version": "2.7.6"
  }
 },
 "nbformat": 4,
 "nbformat_minor": 0
}
