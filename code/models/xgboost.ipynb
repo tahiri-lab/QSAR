{
 "cells": [
  {
   "cell_type": "code",
   "execution_count": null,
   "metadata": {
    "collapsed": true
   },
   "outputs": [],
   "source": [
    "from xgboost import XGBRegressor\n",
    "\n",
    "from optuna.visualization import plot_optimization_history\n",
    "\n",
    "from code.wrapper import utils\n",
    "\n",
    "import optuna\n",
    "\n",
    "import pandas as pd"
   ]
  },
  {
   "cell_type": "code",
   "execution_count": null,
   "outputs": [],
   "source": [
    "from sklearn.preprocessing import RobustScaler, Normalizer\n",
    "\n",
    "# https://stackoverflow.com/a/23835410\n",
    "\n",
    "excel_sheet = pd.read_excel(\"../../Data/New/unfiltered_data.xlsx\", sheet_name=[\"full_train\", \"full_test\",\n",
    "                                                                            \"ionizable_train\", \"ionizable_test\",\n",
    "                                                                            \"neutral_train\", \"neutral_test\"])\n",
    "\n",
    "full_train: pd.DataFrame = excel_sheet[\"full_train\"]\n",
    "full_test: pd.DataFrame = excel_sheet[\"full_test\"]\n",
    "\n",
    "neutral_train: pd.DataFrame = excel_sheet[\"neutral_train\"]\n",
    "neutral_test: pd.DataFrame = excel_sheet[\"neutral_test\"]\n",
    "\n",
    "ionizable_train: pd.DataFrame = excel_sheet[\"ionizable_train\"]\n",
    "ionizable_test: pd.DataFrame = excel_sheet[\"ionizable_test\"]\n",
    "\n",
    "Scaler = RobustScaler()\n",
    "Norm = Normalizer()\n",
    "# TRAIN\n",
    "X_full_train = full_train.loc[:, full_train.columns != \"Log_MP_RATIO\"]\n",
    "y_full_train = full_train[\"Log_MP_RATIO\"]\n",
    "\n",
    "X_neutral_train = neutral_train.loc[:, neutral_train.columns != \"Log_MP_RATIO\"]\n",
    "y_neutral_train = neutral_train[\"Log_MP_RATIO\"]\n",
    "\n",
    "X_ionizable_train = ionizable_train.loc[:, ionizable_train.columns != \"Log_MP_RATIO\"]\n",
    "y_ionizable_train = ionizable_train[\"Log_MP_RATIO\"]\n",
    "# Scaler.fit(X_full_train)\n",
    "# X_full_train = pd.DataFrame(Scaler.transform(X_full_train), columns = X_full_train.columns)\n",
    "#\n",
    "# Norm.fit(X_full_train)\n",
    "# X_full_train = pd.DataFrame(Norm.transform(X_full_train), columns=X_full_train.columns)\n",
    "\n",
    "# TEST\n",
    "X_full_test = full_test.loc[:, full_test.columns != \"Log_MP_RATIO\"]\n",
    "y_full_test = full_test[\"Log_MP_RATIO\"]\n",
    "\n",
    "X_neutral_test = neutral_test.loc[:, neutral_test.columns != \"Log_MP_RATIO\"]\n",
    "y_neutral_test = neutral_test[\"Log_MP_RATIO\"]\n",
    "\n",
    "X_ionizable_test = ionizable_test.loc[:, ionizable_test.columns != \"Log_MP_RATIO\"]\n",
    "y_ionizable_test = ionizable_test[\"Log_MP_RATIO\"]\n",
    "#\n",
    "# Scaler.fit(X_full_test)\n",
    "# X_full_test = pd.DataFrame(Scaler.transform(X_full_test), columns = X_full_test.columns)\n",
    "#\n",
    "# Norm.fit(X_full_test)\n",
    "# X_full_test = pd.DataFrame(Norm.transform(X_full_test), columns=X_full_test.columns)"
   ],
   "metadata": {
    "collapsed": false
   }
  },
  {
   "cell_type": "markdown",
   "source": [
    "# Full"
   ],
   "metadata": {
    "collapsed": false
   }
  },
  {
   "cell_type": "code",
   "execution_count": null,
   "outputs": [],
   "source": [
    "test_utils = utils.Utils(full_train)\n",
    "test_utils.create_cv_folds(display=True)\n",
    "test_utils.display_score(XGBRegressor(max_iter=100000, random_state=0), X_full_train, y_full_train, X_full_test,\n",
    "                         y_full_test)"
   ],
   "metadata": {
    "collapsed": false
   }
  },
  {
   "cell_type": "code",
   "execution_count": null,
   "outputs": [],
   "source": [
    "def objective(trial):\n",
    "    param = {\n",
    "        'max_depth': trial.suggest_int('max_depth', 1, 10),\n",
    "        'learning_rate': trial.suggest_float('learning_rate', 0.01, 1.0),\n",
    "        'n_estimators': trial.suggest_int('n_estimators', 50, 1000),\n",
    "        'min_child_weight': trial.suggest_int('min_child_weight', 1, 10),\n",
    "        'gamma': trial.suggest_float('gamma', 0.01, 1.0),\n",
    "        'subsample': trial.suggest_float('subsample', 0.01, 1.0),\n",
    "        'colsample_bytree': trial.suggest_float('colsample_bytree', 0.01, 1.0),\n",
    "        'reg_alpha': trial.suggest_float('reg_alpha', 0.01, 1.0),\n",
    "        'reg_lambda': trial.suggest_float('reg_lambda', 0.01, 1.0),\n",
    "    }\n",
    "\n",
    "    clf = XGBRegressor(random_state=0, **param)\n",
    "    # n_ft = trial.suggest_int('n_ft', 1, 10, log=True)\n",
    "    # clf = RFE(Ridge(max_iter=100000, alpha=alpha, solver=solver), n_features_to_select=n_ft)\n",
    "\n",
    "    estimator = utils.Utils(full_train)\n",
    "    return estimator.cross_value_score(clf)\n",
    "\n",
    "\n",
    "study = optuna.create_study(direction='maximize')\n",
    "study.optimize(objective, n_trials=1000, n_jobs=-1, show_progress_bar=True)\n",
    "trial = study.best_trial\n",
    "print(trial.value, trial.params)"
   ],
   "metadata": {
    "collapsed": false
   }
  },
  {
   "cell_type": "code",
   "execution_count": null,
   "outputs": [],
   "source": [
    "test_utils.display_score(XGBRegressor(**study.best_params, random_state=0), X_full_train, y_full_train, X_full_test,\n",
    "                         y_full_test)\n",
    "display(plot_optimization_history(study))\n",
    "\n",
    "rr = XGBRegressor(**study.best_params, random_state=0).fit(X_full_train, y_full_train)\n",
    "\n",
    "test_utils.display_graph(rr, X_full_train, X_full_test, y_full_train, y_full_test)"
   ],
   "metadata": {
    "collapsed": false
   }
  },
  {
   "cell_type": "markdown",
   "source": [
    "# Ionizable"
   ],
   "metadata": {
    "collapsed": false
   }
  },
  {
   "cell_type": "code",
   "execution_count": null,
   "outputs": [],
   "source": [
    "test_utils = utils.Utils(ionizable_train)\n",
    "test_utils.create_cv_folds(display=True)\n",
    "test_utils.display_score(XGBRegressor(max_iter=100000, random_state=0), X_ionizable_train, y_ionizable_train,\n",
    "                         X_ionizable_test, y_ionizable_test)"
   ],
   "metadata": {
    "collapsed": false
   }
  },
  {
   "cell_type": "code",
   "execution_count": null,
   "outputs": [],
   "source": [
    "def objective(trial):\n",
    "    param = {\n",
    "        'max_depth': trial.suggest_int('max_depth', 1, 10),\n",
    "        'learning_rate': trial.suggest_float('learning_rate', 0.01, 1.0),\n",
    "        'n_estimators': trial.suggest_int('n_estimators', 50, 1000),\n",
    "        'min_child_weight': trial.suggest_int('min_child_weight', 1, 10),\n",
    "        'gamma': trial.suggest_float('gamma', 0.01, 1.0),\n",
    "        'subsample': trial.suggest_float('subsample', 0.01, 1.0),\n",
    "        'colsample_bytree': trial.suggest_float('colsample_bytree', 0.01, 1.0),\n",
    "        'reg_alpha': trial.suggest_float('reg_alpha', 0.01, 1.0),\n",
    "        'reg_lambda': trial.suggest_float('reg_lambda', 0.01, 1.0),\n",
    "    }\n",
    "\n",
    "    clf = XGBRegressor(random_state=0, **param)\n",
    "\n",
    "    estimator = utils.Utils(ionizable_train)\n",
    "    return estimator.cross_value_score(clf)\n",
    "\n",
    "\n",
    "study = optuna.create_study(direction='maximize')\n",
    "study.optimize(objective, n_trials=1000, n_jobs=-1, show_progress_bar=True)\n",
    "trial = study.best_trial\n",
    "print(trial.value, trial.params)"
   ],
   "metadata": {
    "collapsed": false
   }
  },
  {
   "cell_type": "code",
   "execution_count": null,
   "outputs": [],
   "source": [
    "test_utils.display_score(XGBRegressor(**study.best_params, random_state=0), X_ionizable_train, y_ionizable_train,\n",
    "                         X_ionizable_test, y_ionizable_test)\n",
    "display(plot_optimization_history(study))\n",
    "\n",
    "rr = XGBRegressor(**study.best_params, random_state=0).fit(X_ionizable_train, y_ionizable_train)\n",
    "\n",
    "test_utils.display_graph(rr, X_ionizable_train, X_ionizable_test, y_ionizable_train, y_ionizable_test)"
   ],
   "metadata": {
    "collapsed": false
   }
  },
  {
   "cell_type": "markdown",
   "source": [
    "# Neutral"
   ],
   "metadata": {
    "collapsed": false
   }
  },
  {
   "cell_type": "code",
   "execution_count": null,
   "outputs": [],
   "source": [
    "test_utils = utils.Utils(neutral_train)\n",
    "test_utils.create_cv_folds(display=True)\n",
    "test_utils.display_score(XGBRegressor(max_iter=100000, random_state=0), X_neutral_train, y_neutral_train,\n",
    "                         X_neutral_test, y_neutral_test)"
   ],
   "metadata": {
    "collapsed": false
   }
  },
  {
   "cell_type": "code",
   "execution_count": null,
   "outputs": [],
   "source": [
    "def objective(trial):\n",
    "    param = {\n",
    "        'max_depth': trial.suggest_int('max_depth', 1, 10),\n",
    "        'learning_rate': trial.suggest_float('learning_rate', 0.01, 1.0),\n",
    "        'n_estimators': trial.suggest_int('n_estimators', 50, 1000),\n",
    "        'min_child_weight': trial.suggest_int('min_child_weight', 1, 10),\n",
    "        'gamma': trial.suggest_float('gamma', 0.01, 1.0),\n",
    "        'subsample': trial.suggest_float('subsample', 0.01, 1.0),\n",
    "        'colsample_bytree': trial.suggest_float('colsample_bytree', 0.01, 1.0),\n",
    "        'reg_alpha': trial.suggest_float('reg_alpha', 0.01, 1.0),\n",
    "        'reg_lambda': trial.suggest_float('reg_lambda', 0.01, 1.0),\n",
    "    }\n",
    "\n",
    "    clf = XGBRegressor(random_state=0, **param)\n",
    "    clf.fit(X_neutral_train, y_neutral_train)\n",
    "\n",
    "    estimator = utils.Utils(neutral_train)\n",
    "    return estimator.cross_value_score(clf)\n",
    "    # score = cross_val_score(clf, X_full_train, y_full_train, scoring=\"r2\", cv=3, n_jobs=-1).mean()\n",
    "    # return score\n",
    "\n",
    "\n",
    "study = optuna.create_study(direction='maximize')\n",
    "study.optimize(objective, n_trials=1000, n_jobs=-1, show_progress_bar=True)\n",
    "trial = study.best_trial\n",
    "print(trial.value, trial.params)"
   ],
   "metadata": {
    "collapsed": false
   }
  },
  {
   "cell_type": "code",
   "execution_count": null,
   "outputs": [],
   "source": [
    "test_utils.display_score(XGBRegressor(**study.best_params, random_state=0), X_neutral_train, y_neutral_train,\n",
    "                         X_neutral_test, y_neutral_test)\n",
    "display(plot_optimization_history(study))\n",
    "\n",
    "rr = XGBRegressor(**study.best_params, random_state=0).fit(X_neutral_train, y_neutral_train)\n",
    "\n",
    "test_utils.display_graph(rr, X_neutral_train, X_neutral_test, y_neutral_train, y_neutral_test)"
   ],
   "metadata": {
    "collapsed": false
   }
  }
 ],
 "metadata": {
  "kernelspec": {
   "display_name": "Python 3",
   "language": "python",
   "name": "python3"
  },
  "language_info": {
   "codemirror_mode": {
    "name": "ipython",
    "version": 2
   },
   "file_extension": ".py",
   "mimetype": "text/x-python",
   "name": "python",
   "nbconvert_exporter": "python",
   "pygments_lexer": "ipython2",
   "version": "2.7.6"
  }
 },
 "nbformat": 4,
 "nbformat_minor": 0
}
