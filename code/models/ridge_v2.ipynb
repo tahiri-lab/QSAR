{
 "cells": [
  {
   "cell_type": "code",
   "execution_count": null,
   "metadata": {
    "collapsed": true
   },
   "outputs": [],
   "source": [
    "from optuna.visualization import plot_optimization_history, plot_intermediate_values\n",
    "from sklearn import clone\n",
    "\n",
    "\n",
    "def warn(*args, **kwargs):\n",
    "    pass\n",
    "import warnings\n",
    "warnings.warn = warn\n",
    "\n",
    "import numpy as np\n",
    "from code.wrapper import utils\n",
    "\n",
    "import seaborn as sns\n",
    "import optuna\n",
    "\n",
    "import matplotlib.pyplot as plt\n",
    "import pandas as pd\n",
    "\n",
    "from sklearn.linear_model import Ridge, RidgeCV\n",
    "from sklearn.kernel_ridge import KernelRidge\n",
    "from sklearn.feature_selection import RFECV, RFE\n",
    "from sklearn.metrics import r2_score, mean_squared_error\n",
    "from sklearn.model_selection import KFold, GridSearchCV\n",
    "from sklearn.model_selection import cross_val_score"
   ]
  },
  {
   "cell_type": "markdown",
   "source": [
    "**Normalization** increases the speed of calculation and reduces the alpha value while also increasing the score\n",
    "https://stats.stackexchange.com/a/189179"
   ],
   "metadata": {
    "collapsed": false
   }
  },
  {
   "cell_type": "code",
   "execution_count": null,
   "outputs": [],
   "source": [
    "from sklearn.preprocessing import StandardScaler, RobustScaler, Normalizer\n",
    "# https://stackoverflow.com/a/23835410\n",
    "\n",
    "excel_sheet = pd.read_excel(\"../Data/New/unfiltered_data.xlsx\", sheet_name=[\"full_train\", \"full_test\",\n",
    "                                                                               \"ionizable_train\", \"ionizable_test\",\n",
    "                                                                               \"neutral_train\", \"neutral_test\"])\n",
    "\n",
    "\n",
    "full_train: pd.DataFrame = excel_sheet[\"full_train\"]\n",
    "full_test: pd.DataFrame = excel_sheet[\"full_test\"]\n",
    "\n",
    "neutral_train: pd.DataFrame = excel_sheet[\"neutral_train\"]\n",
    "neutral_test: pd.DataFrame = excel_sheet[\"neutral_test\"]\n",
    "\n",
    "ionizable_train: pd.DataFrame = excel_sheet[\"ionizable_train\"]\n",
    "ionizable_test: pd.DataFrame = excel_sheet[\"ionizable_test\"]\n",
    "\n",
    "Scaler = RobustScaler()\n",
    "Norm = Normalizer()\n",
    "# TRAIN\n",
    "X_full_train = full_train.loc[:, full_train.columns != \"Log_MP_RATIO\"]\n",
    "y_full_train = full_train[\"Log_MP_RATIO\"]\n",
    "\n",
    "\n",
    "X_neutral_train = neutral_train.loc[:, neutral_train.columns != \"Log_MP_RATIO\"]\n",
    "y_neutral_train = neutral_train[\"Log_MP_RATIO\"]\n",
    "\n",
    "X_ionizable_train = ionizable_train.loc[:, ionizable_train.columns != \"Log_MP_RATIO\"]\n",
    "y_ionizable_train = ionizable_train[\"Log_MP_RATIO\"]\n",
    "# Scaler.fit(X_full_train)\n",
    "# X_full_train = pd.DataFrame(Scaler.transform(X_full_train), columns = X_full_train.columns)\n",
    "#\n",
    "# Norm.fit(X_full_train)\n",
    "# X_full_train = pd.DataFrame(Norm.transform(X_full_train), columns=X_full_train.columns)\n",
    "\n",
    "# TEST\n",
    "X_full_test = full_test.loc[:, full_test.columns != \"Log_MP_RATIO\"]\n",
    "y_full_test = full_test[\"Log_MP_RATIO\"]\n",
    "\n",
    "X_neutral_test = neutral_test.loc[:, neutral_test.columns != \"Log_MP_RATIO\"]\n",
    "y_neutral_test = neutral_test[\"Log_MP_RATIO\"]\n",
    "\n",
    "X_ionizable_test = ionizable_test.loc[:, ionizable_test.columns != \"Log_MP_RATIO\"]\n",
    "y_ionizable_test = ionizable_test[\"Log_MP_RATIO\"]\n",
    "#\n",
    "# Scaler.fit(X_full_test)\n",
    "# X_full_test = pd.DataFrame(Scaler.transform(X_full_test), columns = X_full_test.columns)\n",
    "#\n",
    "# Norm.fit(X_full_test)\n",
    "# X_full_test = pd.DataFrame(Norm.transform(X_full_test), columns=X_full_test.columns)"
   ],
   "metadata": {
    "collapsed": false
   }
  },
  {
   "cell_type": "markdown",
   "source": [
    "# Full"
   ],
   "metadata": {
    "collapsed": false
   }
  },
  {
   "cell_type": "code",
   "execution_count": null,
   "outputs": [],
   "source": [
    "test_utils = utils.Utils(full_train)\n",
    "test_utils.create_cv_folds(display=True)\n",
    "test_utils.display_score(Ridge(), X_full_train, y_full_train, X_full_test, y_full_test)"
   ],
   "metadata": {
    "collapsed": false
   }
  },
  {
   "cell_type": "code",
   "execution_count": null,
   "outputs": [],
   "source": [
    "def objective(trial):\n",
    "    alpha = trial.suggest_float('alpha', 1e-10, 1e10, log=True)\n",
    "\n",
    "    solver = trial.suggest_categorical('solver', [\"auto\", \"svd\", \"cholesky\", \"lsqr\", \"sparse_cg\", \"sag\", \"saga\"])\n",
    "\n",
    "    clf = Ridge(max_iter=100000, alpha=alpha, solver=solver)\n",
    "\n",
    "    # n_ft = trial.suggest_int('n_ft', 1, 10, log=True)\n",
    "    # clf = RFE(Ridge(max_iter=100000, alpha=alpha, solver=solver), n_features_to_select=n_ft)\n",
    "\n",
    "    estimator = utils.Utils(full_train)\n",
    "    # return cross_val_score(clf, X_full_train, y_full_train, cv=5, n_jobs=-1).mean()\n",
    "    return estimator.cross_value_score(clf)\n",
    "\n",
    "\n",
    "study = optuna.create_study(direction='maximize')\n",
    "study.optimize(objective, n_trials=1000, n_jobs=-1, show_progress_bar=True)\n",
    "trial = study.best_trial\n",
    "print(trial.value, trial.params)"
   ],
   "metadata": {
    "collapsed": false
   }
  },
  {
   "cell_type": "code",
   "execution_count": null,
   "outputs": [],
   "source": [
    "test_utils.display_score(Ridge(**study.best_params), X_full_train, y_full_train, X_full_test, y_full_test)\n",
    "display(plot_optimization_history(study))\n",
    "\n",
    "rr = Ridge(**study.best_params).fit(X_full_train, y_full_train)\n",
    "y_full_train_pred = rr.predict(X_full_train)\n",
    "y_full_test_pred = rr.predict(X_full_test)\n",
    "\n",
    "test_utils.display_graph(rr, X_full_train, X_full_test, y_full_train, y_full_test)"
   ],
   "metadata": {
    "collapsed": false
   }
  },
  {
   "cell_type": "markdown",
   "source": [
    "# Ionizable"
   ],
   "metadata": {
    "collapsed": false
   }
  },
  {
   "cell_type": "code",
   "execution_count": null,
   "outputs": [],
   "source": [
    "from code.wrapper import utils\n",
    "\n",
    "\n",
    "test_utils = utils.Utils(ionizable_train)\n",
    "test_utils.create_cv_folds(display=True)\n",
    "test_utils.display_score(Ridge(), X_ionizable_train, y_ionizable_train, X_ionizable_test, y_ionizable_test)"
   ],
   "metadata": {
    "collapsed": false
   }
  },
  {
   "cell_type": "code",
   "execution_count": null,
   "outputs": [],
   "source": [
    "def objective(trial):\n",
    "    alpha = trial.suggest_float('alpha', 1e-10, 1e10, log=True)\n",
    "\n",
    "    solver = trial.suggest_categorical('solver', [\"auto\", \"svd\", \"cholesky\", \"lsqr\", \"sparse_cg\", \"sag\", \"saga\"])\n",
    "\n",
    "    clf = Ridge(max_iter=100000, alpha=alpha, solver=solver)\n",
    "\n",
    "    # n_ft = trial.suggest_int('n_ft', 1, 10, log=True)\n",
    "    # clf = RFE(Ridge(max_iter=100000, alpha=alpha, solver=solver), n_features_to_select=n_ft)\n",
    "\n",
    "    estimator = utils.Utils(ionizable_train)\n",
    "    # return cross_val_score(clf, X_ionizable_train, y_ionizable_train, cv=5, n_jobs=-1).mean()\n",
    "    return estimator.cross_value_score(clf)\n",
    "\n",
    "\n",
    "study = optuna.create_study(direction='maximize')\n",
    "study.optimize(objective, n_trials=1000, n_jobs=-1, show_progress_bar=True)\n",
    "trial = study.best_trial\n",
    "print(trial.value, trial.params)"
   ],
   "metadata": {
    "collapsed": false
   }
  },
  {
   "cell_type": "code",
   "execution_count": null,
   "outputs": [],
   "source": [
    "test_utils.display_score(Ridge(**study.best_params), X_ionizable_train, y_ionizable_train, X_ionizable_test, y_ionizable_test)\n",
    "plot: plt.Figure = plot_optimization_history(study, target_name=\"Score de validation croisée\")\n",
    "\n",
    "\n",
    "# grid_results = study.trials_dataframe()\n",
    "# grid_results = grid_results[[\"value\", \"params_alpha\"]].sort_values(by=[\"value\"])\n",
    "# grid_results = grid_results[grid_results[\"params_alpha\"] < 20000]\n",
    "#\n",
    "# plot = sns.lineplot(data=grid_results, x=\"params_alpha\", y=\"value\")\n",
    "# plot.set(xlabel=\"Alpha value\", ylabel=\"Cross value\")"
   ],
   "metadata": {
    "collapsed": false
   }
  },
  {
   "cell_type": "markdown",
   "source": [
    "# Neutral"
   ],
   "metadata": {
    "collapsed": false
   }
  },
  {
   "cell_type": "code",
   "execution_count": null,
   "outputs": [],
   "source": [
    "from code.wrapper import utils\n",
    "\n",
    "\n",
    "test_utils = utils.Utils(neutral_train)\n",
    "test_utils.create_cv_folds(display=True)\n",
    "test_utils.display_score(Ridge(), X_neutral_train, y_neutral_train, X_neutral_test, y_neutral_test)"
   ],
   "metadata": {
    "collapsed": false
   }
  },
  {
   "cell_type": "code",
   "execution_count": null,
   "outputs": [],
   "source": [
    "def objective(trial):\n",
    "    alpha = trial.suggest_float('alpha', 1e-10, 1e10, log=True)\n",
    "\n",
    "    solver = trial.suggest_categorical('solver', [\"auto\", \"svd\", \"cholesky\", \"lsqr\", \"sparse_cg\", \"sag\", \"saga\"])\n",
    "\n",
    "    clf = Ridge(max_iter=100000, alpha=alpha, solver=solver)\n",
    "\n",
    "    # n_ft = trial.suggest_int('n_ft', 1, 10, log=True)\n",
    "    # clf = RFE(Ridge(max_iter=100000, alpha=alpha, solver=solver), n_features_to_select=n_ft)\n",
    "\n",
    "    estimator = utils.Utils(neutral_train)\n",
    "    # return cross_val_score(clf, X_neutral_train, y_neutral_train, cv=5, n_jobs=-1).mean()\n",
    "    return estimator.cross_value_score(clf)\n",
    "\n",
    "\n",
    "study = optuna.create_study(direction='maximize')\n",
    "study.optimize(objective, n_trials=1000, n_jobs=-1, show_progress_bar=True)\n",
    "trial = study.best_trial\n",
    "print(trial.value, trial.params)"
   ],
   "metadata": {
    "collapsed": false
   }
  },
  {
   "cell_type": "code",
   "execution_count": null,
   "outputs": [],
   "source": [
    "test_utils.display_score(Ridge(**study.best_params), X_ionizable_train, y_ionizable_train, X_ionizable_test, y_ionizable_test)\n",
    "plot_optimization_history(study, target_name=\"Score de validation croisée\")"
   ],
   "metadata": {
    "collapsed": false
   }
  },
  {
   "cell_type": "markdown",
   "source": [
    "# Previous work"
   ],
   "metadata": {
    "collapsed": false
   }
  },
  {
   "cell_type": "code",
   "execution_count": null,
   "outputs": [],
   "source": [
    "rr = Ridge(max_iter=100000)\n",
    "rr.fit(X_full_train, y_full_train)\n",
    "cv = KFold(5)\n",
    "min_features_to_select: int = 1\n",
    "\n",
    "folds = KFold(n_splits=5, shuffle=True, random_state=100)\n",
    "\n",
    "\n",
    "rfecv = RFECV(\n",
    "    estimator=rr,\n",
    "    step=1,\n",
    "    cv=cv,\n",
    "    scoring=\"r2\",\n",
    "    min_features_to_select=min_features_to_select,\n",
    "    n_jobs=-1\n",
    ")\n",
    "\n",
    "rfecv.fit(X_full_train, y_full_train)\n",
    "\n",
    "print(\"Optimal number of features: \", rfecv.n_features_)\n",
    "\n",
    "n_scores= len(rfecv.cv_results_[\"mean_test_score\"])\n",
    "plt.figure()\n",
    "plt.plot(range(min_features_to_select, n_scores+min_features_to_select), rfecv.cv_results_[\"mean_test_score\"])\n",
    "plt.xlabel(\"Number of feature selected\")\n",
    "plt.ylabel(\"Mean test of accuracy\")\n",
    "plt.title(\"Recursive Feature Elimination \\nwith correlated features\")\n",
    "plt.show()\n",
    "\n",
    "\n",
    "\n",
    "print(\"best model\\t:\\t\",rfecv.get_params(), \"\\n\\tR2\\t:\\t\", rfecv.score(X_full_train, y_full_train),\n",
    "      \"\\n\\tCross-val\\t:\\t\", cross_val_score(rfecv, X_full_train, y_full_train, scoring=\"r2\", cv=folds).mean(),\n",
    "      \"\\n\\tQ2\\t:\\t\", rfecv.score(X_full_test, y_full_test),\n",
    "      \"\\nSelect features:\", rfecv.get_feature_names_out())"
   ],
   "metadata": {
    "collapsed": false
   }
  },
  {
   "cell_type": "code",
   "execution_count": null,
   "outputs": [],
   "source": [
    "param_grid = {\n",
    "    \"estimator__alpha\": np.linspace(1e-10, 100, 10),\n",
    "    \"estimator__solver\": [\"auto\", \"svd\", \"cholesky\", \"lsqr\", \"sparse_cg\", \"sag\", \"saga\", \"lbfgs\"]\n",
    "}\n",
    "\n",
    "cv = KFold(5)\n",
    "\n",
    "grid = GridSearchCV(estimator=best_rfe, param_grid=param_grid, scoring=\"r2\",verbose=2, n_jobs=-1, cv=cv)\n",
    "grid.fit(X_full_train, y_full_train)\n",
    "\n",
    "\n",
    "print(\"Best cross-val score\\t:\\t\", grid.best_score_)\n",
    "print(\"Best hyperparam score\\t:\\t\", grid.best_estimator_)\n",
    "print(\"R2\\t: \", grid.best_estimator_.score(X_full_train, y_full_train))\n",
    "print(\"Q2\\t: \", grid.best_estimator_.score(X_full_test, y_full_test))"
   ],
   "metadata": {
    "collapsed": false
   }
  },
  {
   "cell_type": "code",
   "execution_count": null,
   "outputs": [],
   "source": [
    "grid_results = pd.DataFrame(grid.cv_results_)\n",
    "\n",
    "\n",
    "grid_results = grid_results[grid_results[\"param_estimator__alpha\"] < 2]\n",
    "\n",
    "plot = sns.lineplot(data=grid_results, x=\"param_estimator__alpha\", y=\"mean_test_score\", hue=\"param_estimator__solver\")\n",
    "plot.set(xlabel=\"Alpha value\", ylabel=\"Cross value\")"
   ],
   "metadata": {
    "collapsed": false
   }
  },
  {
   "cell_type": "code",
   "execution_count": null,
   "outputs": [],
   "source": [
    "param_grid = {\n",
    "    \"estimator__alpha\": np.linspace(1e-5, 100, 1000),\n",
    "    \"estimator__solver\": [\"auto\", \"svd\", \"cholesky\", \"lsqr\", \"sparse_cg\", \"sag\", \"saga\", \"lbfgs\"]\n",
    "}\n",
    "cv = KFold(5)\n",
    "\n",
    "grid_cv = GridSearchCV(estimator=rfecv, param_grid=param_grid, scoring=\"r2\",verbose=2, n_jobs=-1, cv=cv)\n",
    "grid_cv.fit(X_full_train, y_full_train)\n",
    "\n",
    "\n",
    "print(\"Best cross-val score\\t:\\t\", grid_cv.best_score_)\n",
    "print(\"Best hyperparam score\\t:\\t\", grid_cv.best_estimator_)\n",
    "print(\"R2\\t: \", grid_cv.best_estimator_.score(X_full_train, y_full_train))\n",
    "print(\"Q2\\t: \", grid_cv.best_estimator_.score(X_full_test, y_full_test))"
   ],
   "metadata": {
    "collapsed": false
   }
  },
  {
   "cell_type": "markdown",
   "source": [
    "## Ionized"
   ],
   "metadata": {
    "collapsed": false
   }
  },
  {
   "cell_type": "code",
   "execution_count": null,
   "outputs": [],
   "source": [
    "from sklearn.preprocessing import StandardScaler, RobustScaler, Normalizer\n",
    "\n",
    "# https://stackoverflow.com/a/23835410\n",
    "ionizable_train = pd.read_csv(\"../../Data/Filtered/ionizable_train.csv\", sep=\";\")\n",
    "ionizable_test = pd.read_csv(\"../../Data/Filtered/ionizable_test.csv\", sep=\";\")\n",
    "\n",
    "Scaler = RobustScaler()\n",
    "Norm = Normalizer()\n",
    "# TRAIN\n",
    "X_ionizable_train = ionizable_train.loc[:, ionizable_train.columns != \"Log_MP_RATIO\"]\n",
    "y_ionizable_train = ionizable_train[\"Log_MP_RATIO\"]\n",
    "#\n",
    "# Scaler.fit(X_ionizable_train)\n",
    "# X_ionizable_train = pd.DataFrame(Scaler.transform(X_ionizable_train), columns = X_ionizable_train.columns)\n",
    "\n",
    "Norm.fit(X_ionizable_train)\n",
    "X_ionizable_train = pd.DataFrame(Norm.transform(X_ionizable_train), columns=X_ionizable_train.columns)\n",
    "\n",
    "# TEST\n",
    "X_ionizable_test = ionizable_test.loc[:, ionizable_test.columns != \"Log_MP_RATIO\"]\n",
    "y_ionizable_test = ionizable_test[\"Log_MP_RATIO\"]\n",
    "#\n",
    "# Scaler.fit(X_ionizable_test)\n",
    "# X_ionizable_test = pd.DataFrame(Scaler.transform(X_ionizable_test), columns = X_ionizable_test.columns)\n",
    "\n",
    "Norm.fit(X_ionizable_test)\n",
    "X_ionizable_test = pd.DataFrame(Norm.transform(X_ionizable_test), columns=X_ionizable_test.columns)"
   ],
   "metadata": {
    "collapsed": false
   }
  },
  {
   "cell_type": "code",
   "execution_count": null,
   "outputs": [],
   "source": [
    "rr = Ridge(max_iter=100000)\n",
    "rr.fit(X_ionizable_train, y_ionizable_train)\n",
    "\n",
    "folds = KFold(n_splits=5)\n",
    "\n",
    "print(\"R2 train\\t\\t:\\t\", rr.score(X_ionizable_train, y_ionizable_train))\n",
    "print(\"Cross-val train\\t:\\t\", cross_val_score(Ridge(), X_ionizable_train, y_ionizable_train, cv=folds).mean())\n",
    "print(\"Q2 test\\t\\t\\t:\\t\", rr.score(X_ionizable_test, y_ionizable_test))"
   ],
   "metadata": {
    "collapsed": false
   }
  },
  {
   "cell_type": "code",
   "execution_count": null,
   "outputs": [],
   "source": [
    "rr = Ridge(max_iter=100000)\n",
    "rr.fit(X_ionizable_train, y_ionizable_train)\n",
    "\n",
    "folds = KFold(n_splits=5)\n",
    "\n",
    "\n",
    "hyper_params = [{\"n_features_to_select\": list(range(1,len(X_ionizable_train.columns)))}]\n",
    "\n",
    "rfe = RFE(rr, step=1)\n",
    "\n",
    "model_cv = GridSearchCV(estimator=rfe,\n",
    "                        param_grid=hyper_params,\n",
    "                        scoring=\"r2\",\n",
    "                        cv=folds,\n",
    "                        verbose=2,\n",
    "                        return_train_score=True,\n",
    "                        n_jobs=-1)\n",
    "\n",
    "\n",
    "model_cv.fit(X_ionizable_train, y_ionizable_train)\n",
    "\n",
    "cv_results = pd.DataFrame(model_cv.cv_results_)\n",
    "\n",
    "best_rfe = model_cv.best_estimator_\n",
    "\n",
    "\n",
    "plt.figure(figsize=(16,6))\n",
    "plt.plot(cv_results[\"param_n_features_to_select\"], cv_results[\"mean_test_score\"])\n",
    "plt.plot(cv_results[\"param_n_features_to_select\"], cv_results[\"mean_train_score\"])\n",
    "plt.xlabel(\"number of features\")\n",
    "plt.ylabel(\"R2\")\n",
    "plt.title(\"Optimal number of features\")\n",
    "plt.legend([\"test score\", \"train score\"], loc=\"upper left\")\n",
    "plt.show()\n",
    "\n",
    "\n",
    "print(\"best model\\t:\\t\",best_rfe.get_params(), \"\\n\\tR2\\t:\\t\", best_rfe.score(X_ionizable_train, y_ionizable_train),\n",
    "      \"\\n\\tCross-val\\t:\\t\", cross_val_score(best_rfe, X_ionizable_train, y_ionizable_train, scoring=\"r2\", cv=folds).mean(),\n",
    "      \"\\n\\tQ2\\t:\\t\", best_rfe.score(X_ionizable_test, y_ionizable_test),\n",
    "      \"\\nSelect features:\", best_rfe.get_feature_names_out())"
   ],
   "metadata": {
    "collapsed": false
   }
  },
  {
   "cell_type": "code",
   "execution_count": null,
   "outputs": [],
   "source": [
    "param_grid = {\n",
    "    \"estimator__alpha\": np.linspace(1e-5, 100, 1000),\n",
    "    \"estimator__solver\": [\"auto\", \"svd\", \"cholesky\", \"lsqr\", \"sparse_cg\", \"sag\", \"saga\", \"lbfgs\"]\n",
    "}\n",
    "\n",
    "cv = KFold(5)\n",
    "\n",
    "grid = GridSearchCV(estimator=best_rfe, param_grid=param_grid, scoring=\"r2\",verbose=2, n_jobs=-1, cv=cv)\n",
    "grid.fit(X_ionizable_train, y_ionizable_train)\n",
    "\n",
    "\n",
    "print(\"Best cross-val score\\t:\\t\", grid.best_score_)\n",
    "print(\"Best hyperparam score\\t:\\t\", grid.best_estimator_)\n",
    "print(\"R2\\t: \", grid.best_estimator_.score(X_ionizable_train, y_ionizable_train))\n",
    "print(\"Q2\\t: \", grid.best_estimator_.score(X_ionizable_test, y_ionizable_test))"
   ],
   "metadata": {
    "collapsed": false
   }
  },
  {
   "cell_type": "code",
   "execution_count": null,
   "outputs": [],
   "source": [
    "grid_results = pd.DataFrame(grid.cv_results_)\n",
    "\n",
    "\n",
    "grid_results = grid_results[grid_results[\"param_estimator__alpha\"] < 20]\n",
    "\n",
    "plot = sns.lineplot(data=grid_results, x=\"param_estimator__alpha\", y=\"mean_test_score\", hue=\"param_estimator__solver\")\n",
    "plot.set(xlabel=\"Alpha value\", ylabel=\"Cross value\")"
   ],
   "metadata": {
    "collapsed": false
   }
  },
  {
   "cell_type": "markdown",
   "source": [
    "## Neutral"
   ],
   "metadata": {
    "collapsed": false
   }
  },
  {
   "cell_type": "code",
   "execution_count": null,
   "outputs": [],
   "source": [
    "from sklearn.preprocessing import StandardScaler, RobustScaler, Normalizer\n",
    "\n",
    "# https://stackoverflow.com/a/23835410\n",
    "neutral_train = pd.read_csv(\"../../Data/Filtered/neutral_train.csv\", sep=\";\")\n",
    "neutral_test = pd.read_csv(\"../../Data/Filtered/neutral_test.csv\", sep=\";\")\n",
    "\n",
    "Scaler = RobustScaler()\n",
    "Norm = Normalizer()\n",
    "# TRAIN\n",
    "X_neutral_train = neutral_train.loc[:, neutral_train.columns != \"Log_MP_RATIO\"]\n",
    "y_neutral_train = neutral_train[\"Log_MP_RATIO\"]\n",
    "#\n",
    "# Scaler.fit(X_neutral_train)\n",
    "# X_neutral_train = pd.DataFrame(Scaler.transform(X_neutral_train), columns = X_neutral_train.columns)\n",
    "\n",
    "Norm.fit(X_neutral_train)\n",
    "X_neutral_train = pd.DataFrame(Norm.transform(X_neutral_train), columns=X_neutral_train.columns)\n",
    "\n",
    "# TEST\n",
    "X_neutral_test = neutral_test.loc[:, neutral_test.columns != \"Log_MP_RATIO\"]\n",
    "y_neutral_test = neutral_test[\"Log_MP_RATIO\"]\n",
    "#\n",
    "# Scaler.fit(X_neutral_test)\n",
    "# X_neutral_test = pd.DataFrame(Scaler.transform(X_neutral_test), columns = X_neutral_test.columns)\n",
    "\n",
    "Norm.fit(X_neutral_test)\n",
    "X_neutral_test = pd.DataFrame(Norm.transform(X_neutral_test), columns=X_neutral_test.columns)"
   ],
   "metadata": {
    "collapsed": false
   }
  },
  {
   "cell_type": "code",
   "execution_count": null,
   "outputs": [],
   "source": [
    "rr = Ridge(max_iter=100000)\n",
    "rr.fit(X_neutral_train, y_neutral_train)\n",
    "\n",
    "folds = KFold(n_splits=5)\n",
    "\n",
    "print(\"R2 train\\t\\t:\\t\", rr.score(X_neutral_train, y_neutral_train))\n",
    "print(\"Cross-val train\\t:\\t\", cross_val_score(Ridge(), X_neutral_train, y_neutral_train, cv=folds).mean())\n",
    "print(\"Q2 test\\t\\t\\t:\\t\", rr.score(X_neutral_test, y_neutral_test))"
   ],
   "metadata": {
    "collapsed": false
   }
  },
  {
   "cell_type": "code",
   "execution_count": null,
   "outputs": [],
   "source": [
    "rr = Ridge(max_iter=100000)\n",
    "rr.fit(X_neutral_train, y_neutral_train)\n",
    "\n",
    "folds = KFold(n_splits=5)\n",
    "\n",
    "\n",
    "hyper_params = [{\"n_features_to_select\": list(range(1,len(X_neutral_train.columns)))}]\n",
    "\n",
    "rfe = RFE(rr, step=1)\n",
    "\n",
    "model_cv = GridSearchCV(estimator=rfe,\n",
    "                        param_grid=hyper_params,\n",
    "                        scoring=\"r2\",\n",
    "                        cv=folds,\n",
    "                        verbose=2,\n",
    "                        return_train_score=True,\n",
    "                        n_jobs=-1)\n",
    "\n",
    "\n",
    "model_cv.fit(X_neutral_train, y_neutral_train)\n",
    "\n",
    "cv_results = pd.DataFrame(model_cv.cv_results_)\n",
    "\n",
    "best_rfe = model_cv.best_estimator_\n",
    "\n",
    "\n",
    "plt.figure(figsize=(16,6))\n",
    "plt.plot(cv_results[\"param_n_features_to_select\"], cv_results[\"mean_test_score\"])\n",
    "plt.plot(cv_results[\"param_n_features_to_select\"], cv_results[\"mean_train_score\"])\n",
    "plt.xlabel(\"number of features\")\n",
    "plt.ylabel(\"R2\")\n",
    "plt.title(\"Optimal number of features\")\n",
    "plt.legend([\"test score\", \"train score\"], loc=\"upper left\")\n",
    "plt.show()\n",
    "\n",
    "\n",
    "print(\"best model\\t:\\t\",best_rfe.get_params(), \"\\n\\tR2\\t:\\t\", best_rfe.score(X_neutral_train, y_neutral_train),\n",
    "      \"\\n\\tCross-val\\t:\\t\", cross_val_score(best_rfe, X_neutral_train, y_neutral_train, scoring=\"r2\", cv=folds).mean(),\n",
    "      \"\\n\\tQ2\\t:\\t\", best_rfe.score(X_neutral_test, y_neutral_test),\n",
    "      \"\\nSelect features:\", best_rfe.get_feature_names_out())"
   ],
   "metadata": {
    "collapsed": false
   }
  },
  {
   "cell_type": "code",
   "execution_count": null,
   "outputs": [],
   "source": [
    "param_grid = {\n",
    "    \"estimator__alpha\": np.linspace(1e-5, 100, 1000),\n",
    "    \"estimator__solver\": [\"auto\", \"svd\", \"cholesky\", \"lsqr\", \"sparse_cg\", \"sag\", \"saga\", \"lbfgs\"]\n",
    "}\n",
    "\n",
    "cv = KFold(5)\n",
    "\n",
    "grid = GridSearchCV(estimator=best_rfe, param_grid=param_grid, scoring=\"r2\",verbose=2, n_jobs=-1, cv=cv)\n",
    "grid.fit(X_neutral_train, y_neutral_train)\n",
    "\n",
    "\n",
    "print(\"Best cross-val score\\t:\\t\", grid.best_score_)\n",
    "print(\"Best hyperparam score\\t:\\t\", grid.best_estimator_)\n",
    "print(\"R2\\t: \", grid.best_estimator_.score(X_neutral_train, y_neutral_train))\n",
    "print(\"Q2\\t: \", grid.best_estimator_.score(X_neutral_test, y_neutral_test))"
   ],
   "metadata": {
    "collapsed": false
   }
  },
  {
   "cell_type": "code",
   "execution_count": null,
   "outputs": [],
   "source": [
    "grid_results = pd.DataFrame(grid.cv_results_)\n",
    "\n",
    "\n",
    "grid_results = grid_results[grid_results[\"param_estimator__alpha\"] < 3]\n",
    "\n",
    "plot = sns.lineplot(data=grid_results, x=\"param_estimator__alpha\", y=\"mean_test_score\", hue=\"param_estimator__solver\")\n",
    "plot.set(xlabel=\"Alpha value\", ylabel=\"Cross value\")"
   ],
   "metadata": {
    "collapsed": false
   }
  },
  {
   "cell_type": "markdown",
   "source": [
    "# Demo of good R2 Q2 but bad cross val"
   ],
   "metadata": {
    "collapsed": false
   }
  },
  {
   "cell_type": "code",
   "execution_count": null,
   "outputs": [],
   "source": [
    "from sklearn.model_selection import LeaveOneOut, ShuffleSplit, StratifiedShuffleSplit\n",
    "\n",
    "# THIS IS AN EXEMPLE OF A \"GOOD\" R2 and Q2 but it won't be found because the cross val is low\n",
    "\n",
    "\n",
    "\n",
    "rr = Ridge()\n",
    "rr.fit(X_full_train, y_full_train)\n",
    "\n",
    "rfe = RFE(rr, n_features_to_select=20)\n",
    "rfe = rfe.fit(X_full_train, y_full_train)\n",
    "\n",
    "\n",
    "print(rfe.score(X_full_train, y_full_train))\n",
    "print(rfe.score(X_full_test, y_full_test))\n",
    "print(cross_val_score(rfe, X_full_train, y_full_train, scoring=\"r2\", cv=ShuffleSplit(n_splits=4,test_size=0.1,random_state=0)).mean())\n"
   ],
   "metadata": {
    "collapsed": false
   }
  },
  {
   "cell_type": "markdown",
   "source": [
    "# Kernel Ridge"
   ],
   "metadata": {
    "collapsed": false
   }
  },
  {
   "cell_type": "code",
   "execution_count": null,
   "outputs": [],
   "source": [
    "# https://stackoverflow.com/a/23835410\n",
    "full_train = pd.read_csv(\"../../Data/Filtered/full_train.csv\", sep=\";\")\n",
    "full_test = pd.read_csv(\"../../Data/Filtered/full_test.csv\", sep=\";\")\n",
    "\n",
    "# TRAIN\n",
    "X_full_train = full_train.loc[:, full_train.columns != \"Log_MP_RATIO\"]\n",
    "y_full_train = full_train[\"Log_MP_RATIO\"]\n",
    "\n",
    "# TEST\n",
    "X_full_test = full_test.loc[:, full_test.columns != \"Log_MP_RATIO\"]\n",
    "y_full_test = full_test[\"Log_MP_RATIO\"]"
   ],
   "metadata": {
    "collapsed": false
   }
  },
  {
   "cell_type": "code",
   "execution_count": null,
   "outputs": [],
   "source": [
    "krr = KernelRidge()\n",
    "krr.fit(X_full_train, y_full_train)\n",
    "print(\"R2 train\\t\\t:\\t\", krr.score(X_full_train, y_full_train))\n",
    "print(\"Cross-val train\\t:\\t\", cross_val_score(krr, X_full_train, y_full_train, cv=3).mean())\n",
    "print(\"Q2 test\\t\\t\\t:\\t\", krr.score(X_full_test, y_full_test))"
   ],
   "metadata": {
    "collapsed": false
   }
  },
  {
   "cell_type": "code",
   "execution_count": null,
   "outputs": [],
   "source": [
    "krr = KernelRidge()\n",
    "\n",
    "krr.fit(X_full_train, y_full_train)\n",
    "\n",
    "# folds = KFold(n_splits=0, shuffle=True, random_state=100)\n",
    "\n",
    "\n",
    "hyper_params = [{\"n_features_to_select\": list(range(1,len(X_full_train.columns)))}]\n",
    "\n",
    "# krr.fit(X_full_train, y_full_train)\n",
    "rfe = RFE(krr, step=1)\n",
    "\n",
    "model_cv = GridSearchCV(estimator=rfe,\n",
    "                        param_grid=hyper_params,\n",
    "                        scoring=\"r2\",\n",
    "                        cv=None,\n",
    "                        verbose=2,\n",
    "                        return_train_score=True,\n",
    "                        n_jobs=-1)\n",
    "\n",
    "\n",
    "model_cv.fit(X_full_train, y_full_train)\n",
    "\n",
    "cv_results = pd.DataFrame(model_cv.cv_results_)\n",
    "\n",
    "best_rfe = model_cv.best_estimator_\n",
    "\n",
    "\n",
    "plt.figure(figsize=(16,6))\n",
    "plt.plot(cv_results[\"param_n_features_to_select\"], cv_results[\"mean_test_score\"])\n",
    "plt.plot(cv_results[\"param_n_features_to_select\"], cv_results[\"mean_train_score\"])\n",
    "plt.xlabel(\"number of features\")\n",
    "plt.ylabel(\"R2\")\n",
    "plt.title(\"Optimal number of features\")\n",
    "plt.legend([\"test score\", \"train score\"], loc=\"upper left\")\n",
    "plt.show()\n",
    "\n",
    "\n",
    "print(\"best model\\t:\\t\",best_rfe.get_params(), \"\\n\\tR2\\t:\\t\", best_rfe.score(X_full_train, y_full_train),\n",
    "      \"\\n\\tCross-val\\t:\\t\", cross_val_score(best_rfe, X_full_train, y_full_train, scoring=\"r2\", cv=folds).mean(),\n",
    "      \"\\n\\tQ2\\t:\\t\", best_rfe.score(X_full_test, y_full_test),\n",
    "      \"\\nSelect features:\", best_rfe.get_feature_names_out())"
   ],
   "metadata": {
    "collapsed": false
   }
  },
  {
   "cell_type": "code",
   "execution_count": null,
   "outputs": [],
   "source": [
    "krr = KernelRidge()\n",
    "param_grid = {\n",
    "    \"alpha\": np.linspace(1e-5, 10000, 200),\n",
    "    \"kernel\": [\"linear\", \"poly\", \"rbf\", \"sigmoid\"],\n",
    "    \"gamma\": np.linspace(1e-5, 10000, 200)\n",
    "}\n",
    "cv = KFold(5)\n",
    "\n",
    "kernel_grid = GridSearchCV(estimator=krr, param_grid=param_grid, scoring=\"r2\",verbose=2, n_jobs=-1, cv=cv)\n",
    "kernel_grid.fit(X_full_train, y_full_train)"
   ],
   "metadata": {
    "collapsed": false
   }
  },
  {
   "cell_type": "code",
   "execution_count": null,
   "outputs": [],
   "source": [
    "print(\"Best cross-val score\\t:\\t\", kernel_grid.best_score_)\n",
    "print(\"Best hyperparam score\\t:\\t\", kernel_grid.best_estimator_)\n",
    "print(\"R2\\t: \", kernel_grid.best_estimator_.score(X_full_train, y_full_train))\n",
    "print(\"Q2\\t: \", kernel_grid.best_estimator_.score(X_full_test, y_full_test))"
   ],
   "metadata": {
    "collapsed": false
   }
  },
  {
   "cell_type": "code",
   "execution_count": null,
   "outputs": [],
   "source": [
    "ridge = KernelRidge(alpha=10000.0, gamma=10.0001, kernel='linear')\n",
    "ridge.fit(X_full_train, y_full_train)\n",
    "print(ridge.score(X_full_train, y_full_train))\n",
    "\n",
    "X_full = pd.concat([X_full_train, X_full_test])\n",
    "y_full = pd.concat([y_full_train, y_full_test])\n",
    "\n",
    "print(ridge.score(X_full_test, y_full_test))\n",
    "\n",
    "\n",
    "print(X_full_train.shape)\n",
    "print(X_full_test.shape)"
   ],
   "metadata": {
    "collapsed": false
   }
  },
  {
   "cell_type": "code",
   "execution_count": null,
   "outputs": [],
   "source": [
    "\n",
    "from sklearn.svm import SVR\n",
    "\n",
    "clf = SVR(kernel='rbf', gamma=0.089, epsilon=0.00001).fit(X_full_train, y_full_train)\n",
    "print(clf.score(X_full_train, y_full_train))\n",
    "print(clf.score(X_full_test, y_full_test))"
   ],
   "metadata": {
    "collapsed": false
   }
  },
  {
   "cell_type": "code",
   "execution_count": null,
   "outputs": [],
   "source": [
    "from xgboost import XGBRegressor\n",
    "\n",
    "xgb = XGBRegressor().fit(X_full_train, y_full_train)\n",
    "print(\"R2: \", xgb.score(X_full_train, y_full_train))\n",
    "print(\"Q2: \", xgb.score(X_full_test, y_full_test))\n",
    "print(cross_val_score(XGBRegressor(), X_full_train, y_full_train, cv=5).mean())\n"
   ],
   "metadata": {
    "collapsed": false
   }
  },
  {
   "cell_type": "code",
   "execution_count": null,
   "outputs": [],
   "source": [
    "from sklearn.preprocessing import StandardScaler, RobustScaler, Normalizer\n",
    "\n",
    "# https://stackoverflow.com/a/23835410\n",
    "full_train = pd.read_csv(\"../../Data/Filtered/full_train.csv\", sep=\";\")\n",
    "full_test = pd.read_csv(\"../../Data/Filtered/full_test.csv\", sep=\";\")\n",
    "\n",
    "Scaler = RobustScaler()\n",
    "Norm = Normalizer()\n",
    "# TRAIN\n",
    "X_full_train = full_train.loc[:, full_train.columns != \"Log_MP_RATIO\"]\n",
    "y_full_train = full_train[\"Log_MP_RATIO\"]\n",
    "#\n",
    "# Scaler.fit(X_full_train)\n",
    "# X_full_train = pd.DataFrame(Scaler.transform(X_full_train), columns = X_full_train.columns)\n",
    "\n",
    "# Norm.fit(X_full_train)\n",
    "# X_full_train = pd.DataFrame(Norm.transform(X_full_train), columns=X_full_train.columns)\n",
    "\n",
    "# TEST\n",
    "X_full_test = full_test.loc[:, full_test.columns != \"Log_MP_RATIO\"]\n",
    "y_full_test = full_test[\"Log_MP_RATIO\"]\n",
    "#\n",
    "# Scaler.fit(X_full_test)\n",
    "# X_full_test = pd.DataFrame(Scaler.transform(X_full_test), columns = X_full_test.columns)\n",
    "#\n",
    "# Norm.fit(X_full_test)\n",
    "# X_full_test = pd.DataFrame(Norm.transform(X_full_test), columns=X_full_test.columns)"
   ],
   "metadata": {
    "collapsed": false
   }
  },
  {
   "cell_type": "code",
   "execution_count": null,
   "outputs": [],
   "source": [
    "from sklearn.model_selection import StratifiedKFold\n",
    "\n",
    "# THIS IS AN EXEMPLE OF A \"GOOD\" R2 and Q2 but it won't be found because the cross val is low\n",
    "\n",
    "rr = Ridge()\n",
    "rr.fit(X_full_train, y_full_train)\n",
    "\n",
    "rfe = RFE(rr, n_features_to_select=20)\n",
    "rfe = rfe.fit(X_full_train, y_full_train)\n",
    "\n",
    "cv = StratifiedKFold(5)\n",
    "\n",
    "print(rfe.score(X_full_train, y_full_train))\n",
    "print(rfe.score(X_full_test, y_full_test))\n",
    "print(cross_val_score(rfe, X_full_train, y_full_train, scoring=\"r2\", cv=cv).mean())\n"
   ],
   "metadata": {
    "collapsed": false
   }
  }
 ],
 "metadata": {
  "kernelspec": {
   "display_name": "Python 3",
   "language": "python",
   "name": "python3"
  },
  "language_info": {
   "codemirror_mode": {
    "name": "ipython",
    "version": 2
   },
   "file_extension": ".py",
   "mimetype": "text/x-python",
   "name": "python",
   "nbconvert_exporter": "python",
   "pygments_lexer": "ipython2",
   "version": "2.7.6"
  }
 },
 "nbformat": 4,
 "nbformat_minor": 0
}
